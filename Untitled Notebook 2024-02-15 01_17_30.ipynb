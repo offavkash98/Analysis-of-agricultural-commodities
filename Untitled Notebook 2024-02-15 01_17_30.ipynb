{
 "cells": [
  {
   "cell_type": "code",
   "execution_count": 0,
   "metadata": {
    "application/vnd.databricks.v1+cell": {
     "cellMetadata": {
      "byteLimit": 2048000,
      "rowLimit": 10000
     },
     "inputWidgets": {},
     "nuid": "1ede9d18-5355-476e-a3cd-19f5eed0ec59",
     "showTitle": false,
     "title": ""
    }
   },
   "outputs": [],
   "source": [
    "# load data\n",
    "df = spark.read.format(\"csv\").option(\"header\",True).load(\"/mnt/projectteam14/2023.csv\")"
   ]
  },
  {
   "cell_type": "code",
   "execution_count": 0,
   "metadata": {
    "application/vnd.databricks.v1+cell": {
     "cellMetadata": {
      "byteLimit": 2048000,
      "rowLimit": 10000
     },
     "inputWidgets": {},
     "nuid": "d402e9a3-8092-4c57-a7e4-cc3752171b16",
     "showTitle": false,
     "title": ""
    }
   },
   "outputs": [
    {
     "output_type": "stream",
     "name": "stdout",
     "output_type": "stream",
     "text": [
      "+---------+--------------+-------------+-----------+-------+---------------+---------------+--------------------+--------------------+----------------------+-------------+\n|COMMODITY|    STATE_NAME|DISTRICT_NAME|MARKET_NAME|VARIETY|COMMODITY_GROUP|ARRIVALS_TONNES|MIN_PRICE_RS_QUINTAL|MAX_PRICE_RS_QUINTAL|MODAL_PRICE_RS_QUINTAL|REPORTED_DATE|\n+---------+--------------+-------------+-----------+-------+---------------+---------------+--------------------+--------------------+----------------------+-------------+\n|    Ajwan|Andhra Pradesh|      Kurnool|    Kurnool|  Other|         Spices|           0.10|               10110|               10110|                 10110|  28 Nov 2023|\n|    Ajwan|Andhra Pradesh|      Kurnool|    Kurnool|  Other|         Spices|           0.10|               10110|               10110|                 10110|  28 Nov 2023|\n|    Ajwan|Andhra Pradesh|      Kurnool|    Kurnool|  Other|         Spices|               |               15010|               15010|                 15010|  17 Nov 2023|\n|    Ajwan|Andhra Pradesh|      Kurnool|    Kurnool|  Other|         Spices|           0.10|               10110|               10110|                 10110|  28 Nov 2023|\n|    Ajwan|Andhra Pradesh|      Kurnool|    Kurnool|  Other|         Spices|               |               15010|               15010|                 15010|  17 Nov 2023|\n|    Ajwan|Andhra Pradesh|      Kurnool|    Kurnool|  Other|         Spices|          11.00|               15110|               17868|                 17368|  07 Nov 2023|\n|    Ajwan|Andhra Pradesh|      Kurnool|    Kurnool|  Other|         Spices|           0.10|               10110|               10110|                 10110|  28 Nov 2023|\n|    Ajwan|Andhra Pradesh|      Kurnool|    Kurnool|  Other|         Spices|               |               15010|               15010|                 15010|  17 Nov 2023|\n|    Ajwan|Andhra Pradesh|      Kurnool|    Kurnool|  Other|         Spices|          11.00|               15110|               17868|                 17368|  07 Nov 2023|\n|    Ajwan|Andhra Pradesh|      Kurnool|    Kurnool|  Other|         Spices|          10.00|               17516|               17818|                 17668|  03 Nov 2023|\n|    Ajwan|Andhra Pradesh|      Kurnool|    Kurnool|  Other|         Spices|           0.10|               10110|               10110|                 10110|  28 Nov 2023|\n|    Ajwan|Andhra Pradesh|      Kurnool|    Kurnool|  Other|         Spices|               |               15010|               15010|                 15010|  17 Nov 2023|\n|    Ajwan|Andhra Pradesh|      Kurnool|    Kurnool|  Other|         Spices|          11.00|               15110|               17868|                 17368|  07 Nov 2023|\n|    Ajwan|Andhra Pradesh|      Kurnool|    Kurnool|  Other|         Spices|          10.00|               17516|               17818|                 17668|  03 Nov 2023|\n|    Ajwan|Andhra Pradesh|      Kurnool|    Kurnool|  Other|         Spices|          10.60|               15180|               16242|                 15570|  27 Oct 2023|\n|    Ajwan|Andhra Pradesh|      Kurnool|    Kurnool|  Other|         Spices|           0.10|               10110|               10110|                 10110|  28 Nov 2023|\n|    Ajwan|Andhra Pradesh|      Kurnool|    Kurnool|  Other|         Spices|               |               15010|               15010|                 15010|  17 Nov 2023|\n|    Ajwan|Andhra Pradesh|      Kurnool|    Kurnool|  Other|         Spices|          11.00|               15110|               17868|                 17368|  07 Nov 2023|\n|    Ajwan|Andhra Pradesh|      Kurnool|    Kurnool|  Other|         Spices|          10.00|               17516|               17818|                 17668|  03 Nov 2023|\n|    Ajwan|Andhra Pradesh|      Kurnool|    Kurnool|  Other|         Spices|          10.60|               15180|               16242|                 15570|  27 Oct 2023|\n+---------+--------------+-------------+-----------+-------+---------------+---------------+--------------------+--------------------+----------------------+-------------+\nonly showing top 20 rows\n\n"
     ]
    }
   ],
   "source": [
    "df.show()"
   ]
  },
  {
   "cell_type": "code",
   "execution_count": 0,
   "metadata": {
    "application/vnd.databricks.v1+cell": {
     "cellMetadata": {
      "byteLimit": 2048000,
      "rowLimit": 10000
     },
     "inputWidgets": {},
     "nuid": "0741cebe-a720-4d5f-893d-aff4022d3b3b",
     "showTitle": false,
     "title": ""
    }
   },
   "outputs": [
    {
     "output_type": "execute_result",
     "data": {
      "text/plain": [
       "[('COMMODITY', 'string'),\n",
       " ('STATE_NAME', 'string'),\n",
       " ('DISTRICT_NAME', 'string'),\n",
       " ('MARKET_NAME', 'string'),\n",
       " ('VARIETY', 'string'),\n",
       " ('COMMODITY_GROUP', 'string'),\n",
       " ('ARRIVALS_TONNES', 'string'),\n",
       " ('MIN_PRICE_RS_QUINTAL', 'string'),\n",
       " ('MAX_PRICE_RS_QUINTAL', 'string'),\n",
       " ('MODAL_PRICE_RS_QUINTAL', 'string'),\n",
       " ('REPORTED_DATE', 'string')]"
      ]
     },
     "execution_count": 15,
     "metadata": {},
     "output_type": "execute_result"
    }
   ],
   "source": [
    "# check datatypes\n",
    "df.dtypes"
   ]
  },
  {
   "cell_type": "code",
   "execution_count": 0,
   "metadata": {
    "application/vnd.databricks.v1+cell": {
     "cellMetadata": {
      "byteLimit": 2048000,
      "rowLimit": 10000
     },
     "inputWidgets": {},
     "nuid": "fda34a69-4d48-4c27-a79d-33a9dc36687f",
     "showTitle": false,
     "title": ""
    }
   },
   "outputs": [
    {
     "output_type": "execute_result",
     "data": {
      "text/plain": [
       "93970592"
      ]
     },
     "execution_count": 16,
     "metadata": {},
     "output_type": "execute_result"
    }
   ],
   "source": [
    "# counting rows \n",
    "df.count()"
   ]
  },
  {
   "cell_type": "code",
   "execution_count": 0,
   "metadata": {
    "application/vnd.databricks.v1+cell": {
     "cellMetadata": {
      "byteLimit": 2048000,
      "rowLimit": 10000
     },
     "inputWidgets": {},
     "nuid": "913c79e3-c36e-464c-af01-f667ae11b66f",
     "showTitle": false,
     "title": ""
    }
   },
   "outputs": [
    {
     "output_type": "execute_result",
     "data": {
      "text/plain": [
       "11"
      ]
     },
     "execution_count": 17,
     "metadata": {},
     "output_type": "execute_result"
    }
   ],
   "source": [
    "# counting columns\n",
    "len(df.columns)"
   ]
  },
  {
   "cell_type": "code",
   "execution_count": 0,
   "metadata": {
    "application/vnd.databricks.v1+cell": {
     "cellMetadata": {
      "byteLimit": 2048000,
      "rowLimit": 10000
     },
     "inputWidgets": {},
     "nuid": "81171c7b-50fc-41fa-ab0e-126e25003fde",
     "showTitle": false,
     "title": ""
    }
   },
   "outputs": [
    {
     "output_type": "stream",
     "name": "stdout",
     "output_type": "stream",
     "text": [
      "root\n |-- COMMODITY: string (nullable = true)\n |-- STATE_NAME: string (nullable = true)\n |-- DISTRICT_NAME: string (nullable = true)\n |-- MARKET_NAME: string (nullable = true)\n |-- VARIETY: string (nullable = true)\n |-- COMMODITY_GROUP: string (nullable = true)\n |-- ARRIVALS_TONNES: string (nullable = true)\n |-- MIN_PRICE_RS_QUINTAL: string (nullable = true)\n |-- MAX_PRICE_RS_QUINTAL: string (nullable = true)\n |-- MODAL_PRICE_RS_QUINTAL: string (nullable = true)\n |-- REPORTED_DATE: string (nullable = true)\n\n"
     ]
    }
   ],
   "source": [
    "df.printSchema()"
   ]
  },
  {
   "cell_type": "code",
   "execution_count": 0,
   "metadata": {
    "application/vnd.databricks.v1+cell": {
     "cellMetadata": {
      "byteLimit": 2048000,
      "rowLimit": 10000
     },
     "inputWidgets": {},
     "nuid": "d96c24c0-4a0c-42a4-ae1c-d8fc5472ec3b",
     "showTitle": false,
     "title": ""
    }
   },
   "outputs": [],
   "source": [
    "# changing datatypes \n",
    "# changing datatypes \n",
    "columns = ['ARRIVALS_TONNES','MIN_PRICE_RS_QUINTAL','MAX_PRICE_RS_QUINTAL','MODAL_PRICE_RS_QUINTAL']\n",
    "\n",
    "from pyspark.sql.functions import col\n",
    "for colname in columns:\n",
    "    df = df.withColumn(colname,col(colname).cast('float'))"
   ]
  },
  {
   "cell_type": "code",
   "execution_count": 0,
   "metadata": {
    "application/vnd.databricks.v1+cell": {
     "cellMetadata": {
      "byteLimit": 2048000,
      "rowLimit": 10000
     },
     "inputWidgets": {},
     "nuid": "aa2c7714-abfe-4f3a-81be-0cc5a2b5d71e",
     "showTitle": false,
     "title": ""
    }
   },
   "outputs": [],
   "source": [
    "from pyspark.sql.functions import to_date\n",
    "df = df.withColumn(\"REPORTED_DATE\", to_date(col(\"REPORTED_DATE\"), \"dd MMM yyyy\"))"
   ]
  },
  {
   "cell_type": "code",
   "execution_count": 0,
   "metadata": {
    "application/vnd.databricks.v1+cell": {
     "cellMetadata": {
      "byteLimit": 2048000,
      "rowLimit": 10000
     },
     "inputWidgets": {},
     "nuid": "91d374ae-bc2a-4c8a-bf4e-9a1803240170",
     "showTitle": false,
     "title": ""
    }
   },
   "outputs": [
    {
     "output_type": "execute_result",
     "data": {
      "text/plain": [
       "[('COMMODITY', 'string'),\n",
       " ('STATE_NAME', 'string'),\n",
       " ('DISTRICT_NAME', 'string'),\n",
       " ('MARKET_NAME', 'string'),\n",
       " ('VARIETY', 'string'),\n",
       " ('COMMODITY_GROUP', 'string'),\n",
       " ('ARRIVALS_TONNES', 'float'),\n",
       " ('MIN_PRICE_RS_QUINTAL', 'float'),\n",
       " ('MAX_PRICE_RS_QUINTAL', 'float'),\n",
       " ('MODAL_PRICE_RS_QUINTAL', 'float'),\n",
       " ('REPORTED_DATE', 'date'),\n",
       " ('Reported Date', 'date')]"
      ]
     },
     "execution_count": 12,
     "metadata": {},
     "output_type": "execute_result"
    }
   ],
   "source": [
    "df.dtypes"
   ]
  },
  {
   "cell_type": "code",
   "execution_count": 0,
   "metadata": {
    "application/vnd.databricks.v1+cell": {
     "cellMetadata": {
      "byteLimit": 2048000,
      "rowLimit": 10000
     },
     "inputWidgets": {},
     "nuid": "0d483e07-6798-4779-9753-ae05367044ca",
     "showTitle": false,
     "title": ""
    }
   },
   "outputs": [
    {
     "output_type": "stream",
     "name": "stdout",
     "output_type": "stream",
     "text": [
      "COMMODITY : 0\nSTATE_NAME : 5536\nDISTRICT_NAME : 7196\nMARKET_NAME : 7196\nVARIETY : 7196\nCOMMODITY_GROUP : 7196\nARRIVALS_TONNES : 24238444\nMIN_PRICE_RS_QUINTAL : 7790\nMAX_PRICE_RS_QUINTAL : 8027\nMODAL_PRICE_RS_QUINTAL : 8027\nREPORTED_DATE : 8150\n"
     ]
    }
   ],
   "source": [
    "# counting null values for each column\n",
    "for colname in df.columns:\n",
    "    nullcount = df.filter(col(colname).isNull()).count()\n",
    "    print(f\"{colname} : {nullcount}\")"
   ]
  }
 ],
 "metadata": {
  "application/vnd.databricks.v1+notebook": {
   "dashboards": [],
   "language": "python",
   "notebookMetadata": {
    "pythonIndentUnit": 4
   },
   "notebookName": "Untitled Notebook 2024-02-15 01:17:30",
   "widgets": {}
  }
 },
 "nbformat": 4,
 "nbformat_minor": 0
}
