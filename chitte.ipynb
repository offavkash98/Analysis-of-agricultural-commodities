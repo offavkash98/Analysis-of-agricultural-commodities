{
  "cells": [
    {
      "cell_type": "code",
      "source": [
        "import numpy as np\n",
        "import pandas as pd\n",
        "from pandas import Series ,DataFrame\n",
        "\n",
        "file_path=\"azureml://subscriptions/4f93438e-847c-469d-94ae-ef5ee130ccab/resourcegroups/project_team14/workspaces/mlnotebook/datastores/testml/paths/Final_Data/part-00000-tid-1107757838746000038-dd6987f9-5526-4378-b9fd-633c8f0e2565-1388-1-c000.csv\""
      ],
      "outputs": [],
      "execution_count": 2,
      "metadata": {
        "jupyter": {
          "source_hidden": false,
          "outputs_hidden": false
        },
        "nteract": {
          "transient": {
            "deleting": false
          }
        },
        "gather": {
          "logged": 1708212485162
        }
      }
    },
    {
      "cell_type": "code",
      "source": [
        "df=pd.read_csv(file_path,low_memory=False) "
      ],
      "outputs": [],
      "execution_count": 3,
      "metadata": {
        "jupyter": {
          "source_hidden": false,
          "outputs_hidden": false
        },
        "nteract": {
          "transient": {
            "deleting": false
          }
        },
        "gather": {
          "logged": 1708212568457
        }
      }
    },
    {
      "cell_type": "code",
      "source": [
        "df[\"Reported Date\"] = pd.to_datetime(df[\"Reported Date\"])"
      ],
      "outputs": [],
      "execution_count": 4,
      "metadata": {
        "jupyter": {
          "source_hidden": false,
          "outputs_hidden": false
        },
        "nteract": {
          "transient": {
            "deleting": false
          }
        },
        "gather": {
          "logged": 1708212831189
        }
      }
    },
    {
      "cell_type": "code",
      "source": [
        "df2 = df.copy()"
      ],
      "outputs": [],
      "execution_count": 7,
      "metadata": {
        "jupyter": {
          "source_hidden": false,
          "outputs_hidden": false
        },
        "nteract": {
          "transient": {
            "deleting": false
          }
        },
        "gather": {
          "logged": 1708212841652
        }
      }
    },
    {
      "cell_type": "code",
      "source": [
        "garr = df2.groupby(\"Commodity\").agg(avg_arrival=('Arrivals (Tonnes)', 'mean')).round(2)\n",
        "\n",
        "tarr = garr['avg_arrival'].sum()\n",
        "\n",
        "avgarr = garr.assign(percentage=lambda x: (x['avg_arrival'] / tarr) * 100)\n",
        "\n",
        "ranks = avgarr.sort_values(by='percentage', ascending=False)\n",
        "\n",
        "print(ranks)"
      ],
      "outputs": [
        {
          "output_type": "stream",
          "name": "stdout",
          "text": "                     avg_arrival  percentage\nCommodity                                   \nGladiolusCutFlower        695.04    6.146037\nJaffri                    681.43    6.025688\nRoseLocal                 660.00    5.836189\nLilly                     550.00    4.863491\nMarget                    542.52    4.797347\n...                          ...         ...\nMaragensu                   1.00    0.008843\nRatTailRadishMogari         1.00    0.008843\nLukad                       0.63    0.005571\nGramflour                   0.43    0.003802\nJamamkhan                   0.24    0.002122\n\n[297 rows x 2 columns]\n"
        }
      ],
      "execution_count": 6,
      "metadata": {
        "jupyter": {
          "source_hidden": false,
          "outputs_hidden": false
        },
        "nteract": {
          "transient": {
            "deleting": false
          }
        },
        "gather": {
          "logged": 1708212838556
        }
      }
    },
    {
      "cell_type": "code",
      "source": [
        "newcols = ranks.head(25)\n",
        "newcols"
      ],
      "outputs": [
        {
          "output_type": "execute_result",
          "execution_count": 8,
          "data": {
            "text/plain": "                       avg_arrival  percentage\nCommodity                                     \nGladiolusCutFlower          695.04    6.146037\nJaffri                      681.43    6.025688\nRoseLocal                   660.00    5.836189\nLilly                       550.00    4.863491\nMarget                      542.52    4.797347\nTenderCoconut               342.72    3.030574\nRoseLoose                   269.17    2.380192\nHen                         248.86    2.200597\nBamboo                      237.50    2.100144\nTubeRoseSingle              225.00    1.989610\nChrysanthemumLoose          224.25    1.982978\nBroomstickFlowerBroom       215.50    1.905604\nCarnation                   200.00    1.768542\nPaddyDhanBasmati            183.67    1.624141\nTubeFlower                  144.44    1.277241\nEgg                         129.93    1.148933\nCock                        122.29    1.081375\nCottonSeed                  121.37    1.073240\nSkinAndHide                 120.00    1.061125\nCoconut                     105.82    0.935736\nWood                        105.16    0.929899\nCotton                      103.13    0.911949\nDailaChandni                101.06    0.893644\nMyrobolanHarad               98.10    0.867470\nTubeRoseLoose                94.74    0.837758",
            "text/html": "<div>\n<style scoped>\n    .dataframe tbody tr th:only-of-type {\n        vertical-align: middle;\n    }\n\n    .dataframe tbody tr th {\n        vertical-align: top;\n    }\n\n    .dataframe thead th {\n        text-align: right;\n    }\n</style>\n<table border=\"1\" class=\"dataframe\">\n  <thead>\n    <tr style=\"text-align: right;\">\n      <th></th>\n      <th>avg_arrival</th>\n      <th>percentage</th>\n    </tr>\n    <tr>\n      <th>Commodity</th>\n      <th></th>\n      <th></th>\n    </tr>\n  </thead>\n  <tbody>\n    <tr>\n      <th>GladiolusCutFlower</th>\n      <td>695.04</td>\n      <td>6.146037</td>\n    </tr>\n    <tr>\n      <th>Jaffri</th>\n      <td>681.43</td>\n      <td>6.025688</td>\n    </tr>\n    <tr>\n      <th>RoseLocal</th>\n      <td>660.00</td>\n      <td>5.836189</td>\n    </tr>\n    <tr>\n      <th>Lilly</th>\n      <td>550.00</td>\n      <td>4.863491</td>\n    </tr>\n    <tr>\n      <th>Marget</th>\n      <td>542.52</td>\n      <td>4.797347</td>\n    </tr>\n    <tr>\n      <th>TenderCoconut</th>\n      <td>342.72</td>\n      <td>3.030574</td>\n    </tr>\n    <tr>\n      <th>RoseLoose</th>\n      <td>269.17</td>\n      <td>2.380192</td>\n    </tr>\n    <tr>\n      <th>Hen</th>\n      <td>248.86</td>\n      <td>2.200597</td>\n    </tr>\n    <tr>\n      <th>Bamboo</th>\n      <td>237.50</td>\n      <td>2.100144</td>\n    </tr>\n    <tr>\n      <th>TubeRoseSingle</th>\n      <td>225.00</td>\n      <td>1.989610</td>\n    </tr>\n    <tr>\n      <th>ChrysanthemumLoose</th>\n      <td>224.25</td>\n      <td>1.982978</td>\n    </tr>\n    <tr>\n      <th>BroomstickFlowerBroom</th>\n      <td>215.50</td>\n      <td>1.905604</td>\n    </tr>\n    <tr>\n      <th>Carnation</th>\n      <td>200.00</td>\n      <td>1.768542</td>\n    </tr>\n    <tr>\n      <th>PaddyDhanBasmati</th>\n      <td>183.67</td>\n      <td>1.624141</td>\n    </tr>\n    <tr>\n      <th>TubeFlower</th>\n      <td>144.44</td>\n      <td>1.277241</td>\n    </tr>\n    <tr>\n      <th>Egg</th>\n      <td>129.93</td>\n      <td>1.148933</td>\n    </tr>\n    <tr>\n      <th>Cock</th>\n      <td>122.29</td>\n      <td>1.081375</td>\n    </tr>\n    <tr>\n      <th>CottonSeed</th>\n      <td>121.37</td>\n      <td>1.073240</td>\n    </tr>\n    <tr>\n      <th>SkinAndHide</th>\n      <td>120.00</td>\n      <td>1.061125</td>\n    </tr>\n    <tr>\n      <th>Coconut</th>\n      <td>105.82</td>\n      <td>0.935736</td>\n    </tr>\n    <tr>\n      <th>Wood</th>\n      <td>105.16</td>\n      <td>0.929899</td>\n    </tr>\n    <tr>\n      <th>Cotton</th>\n      <td>103.13</td>\n      <td>0.911949</td>\n    </tr>\n    <tr>\n      <th>DailaChandni</th>\n      <td>101.06</td>\n      <td>0.893644</td>\n    </tr>\n    <tr>\n      <th>MyrobolanHarad</th>\n      <td>98.10</td>\n      <td>0.867470</td>\n    </tr>\n    <tr>\n      <th>TubeRoseLoose</th>\n      <td>94.74</td>\n      <td>0.837758</td>\n    </tr>\n  </tbody>\n</table>\n</div>"
          },
          "metadata": {}
        }
      ],
      "execution_count": 8,
      "metadata": {
        "jupyter": {
          "source_hidden": false,
          "outputs_hidden": false
        },
        "nteract": {
          "transient": {
            "deleting": false
          }
        },
        "gather": {
          "logged": 1708212851377
        }
      }
    },
    {
      "cell_type": "code",
      "source": [],
      "outputs": [],
      "execution_count": null,
      "metadata": {
        "jupyter": {
          "source_hidden": false,
          "outputs_hidden": false
        },
        "nteract": {
          "transient": {
            "deleting": false
          }
        }
      }
    },
    {
      "cell_type": "code",
      "source": [
        "cols =['GladiolusCutFlower', 'Jaffri', 'RoseLocal', 'Lilly', 'Marget',\n",
        "       'TenderCoconut', 'RoseLoose', 'Hen', 'Bamboo', 'TubeRoseSingle',\n",
        "       'ChrysanthemumLoose', 'BroomstickFlowerBroom', 'Carnation',\n",
        "       'PaddyDhanBasmati', 'TubeFlower', 'Egg', 'Cock', 'CottonSeed',\n",
        "       'SkinAndHide', 'Coconut', 'Wood', 'Cotton', 'DailaChandni',\n",
        "       'MyrobolanHarad', 'TubeRoseLoose']\n",
        "top = newcols.index.tolist()\n",
        "\n",
        "df2 = df2[df2['Commodity'].isin(top)].copy()"
      ],
      "outputs": [],
      "execution_count": 9,
      "metadata": {
        "jupyter": {
          "source_hidden": false,
          "outputs_hidden": false
        },
        "nteract": {
          "transient": {
            "deleting": false
          }
        },
        "gather": {
          "logged": 1708212862306
        }
      }
    },
    {
      "cell_type": "code",
      "source": [],
      "outputs": [],
      "execution_count": null,
      "metadata": {
        "jupyter": {
          "source_hidden": false,
          "outputs_hidden": false
        },
        "nteract": {
          "transient": {
            "deleting": false
          }
        },
        "gather": {
          "logged": 1708202627115
        }
      }
    },
    {
      "cell_type": "code",
      "source": [
        "import pandas as pd\n",
        "from sklearn.model_selection import train_test_split\n",
        "from sklearn.ensemble import RandomForestRegressor\n",
        "from sklearn.preprocessing import LabelEncoder\n",
        "from sklearn.metrics import mean_absolute_error"
      ],
      "outputs": [],
      "execution_count": 10,
      "metadata": {
        "jupyter": {
          "source_hidden": false,
          "outputs_hidden": false
        },
        "nteract": {
          "transient": {
            "deleting": false
          }
        },
        "gather": {
          "logged": 1708212864208
        }
      }
    },
    {
      "cell_type": "code",
      "source": [],
      "outputs": [
        {
          "output_type": "stream",
          "name": "stdout",
          "text": "Shape of Sampled DataFrame: (120655, 11)\n"
        }
      ],
      "execution_count": 10,
      "metadata": {
        "jupyter": {
          "source_hidden": false,
          "outputs_hidden": false
        },
        "nteract": {
          "transient": {
            "deleting": false
          }
        },
        "gather": {
          "logged": 1708204874479
        }
      }
    },
    {
      "cell_type": "code",
      "source": [
        "from sklearn.preprocessing import LabelEncoder\n",
        "\n",
        "columns_to_encode = ['Commodity', 'State Name', 'District Name', 'Market Name', 'Variety', 'Group']\n",
        "\n",
        "label_encoder = LabelEncoder()\n",
        "\n",
        "for column in columns_to_encode:\n",
        "    df2[column] = label_encoder.fit_transform(df2[column])\n",
        "\n",
        "print(df2)\n"
      ],
      "outputs": [
        {
          "output_type": "stream",
          "name": "stdout",
          "text": "          Commodity  State Name  District Name  Market Name  Variety  Group  \\\n1415951          20          11             91          359      120      5   \n1415952          20          11             91          359      120      5   \n1415953          20          12            143          174      141      5   \n1415954          20          12            143          174      141      5   \n1415955          20          12             67          267      141      5   \n...             ...         ...            ...          ...      ...    ...   \n49957190         11          19             87          416       18      6   \n49957191         11          20             95          372       17      6   \n49957192         11          13            203         1082       17      6   \n49957193         11          13            203         1082       17      6   \n49957194         11          13            203         1082       17      6   \n\n          Arrivals (Tonnes)  Min Price (Rs/Quintal)  Max Price (Rs/Quintal)  \\\n1415951               34.00                   600.0                   650.0   \n1415952               40.00                   650.0                   700.0   \n1415953              400.00                  2000.0                  2500.0   \n1415954              200.00                  2000.0                  2300.0   \n1415955              500.00                  2600.0                  2600.0   \n...                     ...                     ...                     ...   \n49957190             248.86                    25.0                    35.0   \n49957191             520.00                 16000.0                 17000.0   \n49957192             250.00                 12000.0                 12400.0   \n49957193             248.86                 13000.0                 13400.0   \n49957194             248.86                 11000.0                 11400.0   \n\n          Modal Price (Rs/Quintal) Reported Date  \n1415951                      650.0    2003-04-04  \n1415952                      700.0    2003-04-02  \n1415953                     2300.0    2003-04-04  \n1415954                     2100.0    2003-04-01  \n1415955                     2600.0    2003-04-03  \n...                            ...           ...  \n49957190                      30.0    2021-11-01  \n49957191                   17000.0    2021-11-03  \n49957192                   12200.0    2022-11-03  \n49957193                   13200.0    2022-11-02  \n49957194                   11200.0    2022-11-01  \n\n[1206553 rows x 11 columns]\n"
        }
      ],
      "execution_count": 20,
      "metadata": {
        "jupyter": {
          "source_hidden": false,
          "outputs_hidden": false
        },
        "nteract": {
          "transient": {
            "deleting": false
          }
        },
        "gather": {
          "logged": 1708205199011
        }
      }
    },
    {
      "cell_type": "code",
      "source": [
        "\n"
      ],
      "outputs": [
        {
          "output_type": "error",
          "ename": "InvalidParameterError",
          "evalue": "The 'loss' parameter of GradientBoostingRegressor must be a str among {'quantile', 'absolute_error', 'squared_error', 'huber'}. Got 'ls' instead.",
          "traceback": [
            "\u001b[0;31m---------------------------------------------------------------------------\u001b[0m",
            "\u001b[0;31mInvalidParameterError\u001b[0m                     Traceback (most recent call last)",
            "Cell \u001b[0;32mIn[30], line 26\u001b[0m\n\u001b[1;32m     23\u001b[0m gb_regressor \u001b[38;5;241m=\u001b[39m GradientBoostingRegressor(n_estimators\u001b[38;5;241m=\u001b[39m\u001b[38;5;241m100\u001b[39m, learning_rate\u001b[38;5;241m=\u001b[39m\u001b[38;5;241m0.1\u001b[39m, max_depth\u001b[38;5;241m=\u001b[39m\u001b[38;5;241m5\u001b[39m, loss\u001b[38;5;241m=\u001b[39m\u001b[38;5;124m'\u001b[39m\u001b[38;5;124mls\u001b[39m\u001b[38;5;124m'\u001b[39m)  \u001b[38;5;66;03m# You can adjust these hyperparameters as needed\u001b[39;00m\n\u001b[1;32m     25\u001b[0m \u001b[38;5;66;03m# Fit the model to the training data\u001b[39;00m\n\u001b[0;32m---> 26\u001b[0m \u001b[43mgb_regressor\u001b[49m\u001b[38;5;241;43m.\u001b[39;49m\u001b[43mfit\u001b[49m\u001b[43m(\u001b[49m\u001b[43mX_train\u001b[49m\u001b[43m,\u001b[49m\u001b[43m \u001b[49m\u001b[43my_train\u001b[49m\u001b[43m)\u001b[49m\n\u001b[1;32m     28\u001b[0m \u001b[38;5;66;03m# Make predictions on the test data\u001b[39;00m\n\u001b[1;32m     29\u001b[0m gb_predictions \u001b[38;5;241m=\u001b[39m gb_regressor\u001b[38;5;241m.\u001b[39mpredict(X_test)\n",
            "File \u001b[0;32m/anaconda/envs/azureml_py310_sdkv2/lib/python3.10/site-packages/sklearn/ensemble/_gb.py:420\u001b[0m, in \u001b[0;36mBaseGradientBoosting.fit\u001b[0;34m(self, X, y, sample_weight, monitor)\u001b[0m\n\u001b[1;32m    384\u001b[0m \u001b[38;5;28;01mdef\u001b[39;00m \u001b[38;5;21mfit\u001b[39m(\u001b[38;5;28mself\u001b[39m, X, y, sample_weight\u001b[38;5;241m=\u001b[39m\u001b[38;5;28;01mNone\u001b[39;00m, monitor\u001b[38;5;241m=\u001b[39m\u001b[38;5;28;01mNone\u001b[39;00m):\n\u001b[1;32m    385\u001b[0m \u001b[38;5;250m    \u001b[39m\u001b[38;5;124;03m\"\"\"Fit the gradient boosting model.\u001b[39;00m\n\u001b[1;32m    386\u001b[0m \n\u001b[1;32m    387\u001b[0m \u001b[38;5;124;03m    Parameters\u001b[39;00m\n\u001b[0;32m   (...)\u001b[0m\n\u001b[1;32m    418\u001b[0m \u001b[38;5;124;03m        Fitted estimator.\u001b[39;00m\n\u001b[1;32m    419\u001b[0m \u001b[38;5;124;03m    \"\"\"\u001b[39;00m\n\u001b[0;32m--> 420\u001b[0m     \u001b[38;5;28;43mself\u001b[39;49m\u001b[38;5;241;43m.\u001b[39;49m\u001b[43m_validate_params\u001b[49m\u001b[43m(\u001b[49m\u001b[43m)\u001b[49m\n\u001b[1;32m    422\u001b[0m     \u001b[38;5;28;01mif\u001b[39;00m \u001b[38;5;129;01mnot\u001b[39;00m \u001b[38;5;28mself\u001b[39m\u001b[38;5;241m.\u001b[39mwarm_start:\n\u001b[1;32m    423\u001b[0m         \u001b[38;5;28mself\u001b[39m\u001b[38;5;241m.\u001b[39m_clear_state()\n",
            "File \u001b[0;32m/anaconda/envs/azureml_py310_sdkv2/lib/python3.10/site-packages/sklearn/base.py:600\u001b[0m, in \u001b[0;36mBaseEstimator._validate_params\u001b[0;34m(self)\u001b[0m\n\u001b[1;32m    592\u001b[0m \u001b[38;5;28;01mdef\u001b[39;00m \u001b[38;5;21m_validate_params\u001b[39m(\u001b[38;5;28mself\u001b[39m):\n\u001b[1;32m    593\u001b[0m \u001b[38;5;250m    \u001b[39m\u001b[38;5;124;03m\"\"\"Validate types and values of constructor parameters\u001b[39;00m\n\u001b[1;32m    594\u001b[0m \n\u001b[1;32m    595\u001b[0m \u001b[38;5;124;03m    The expected type and values must be defined in the `_parameter_constraints`\u001b[39;00m\n\u001b[0;32m   (...)\u001b[0m\n\u001b[1;32m    598\u001b[0m \u001b[38;5;124;03m    accepted constraints.\u001b[39;00m\n\u001b[1;32m    599\u001b[0m \u001b[38;5;124;03m    \"\"\"\u001b[39;00m\n\u001b[0;32m--> 600\u001b[0m     \u001b[43mvalidate_parameter_constraints\u001b[49m\u001b[43m(\u001b[49m\n\u001b[1;32m    601\u001b[0m \u001b[43m        \u001b[49m\u001b[38;5;28;43mself\u001b[39;49m\u001b[38;5;241;43m.\u001b[39;49m\u001b[43m_parameter_constraints\u001b[49m\u001b[43m,\u001b[49m\n\u001b[1;32m    602\u001b[0m \u001b[43m        \u001b[49m\u001b[38;5;28;43mself\u001b[39;49m\u001b[38;5;241;43m.\u001b[39;49m\u001b[43mget_params\u001b[49m\u001b[43m(\u001b[49m\u001b[43mdeep\u001b[49m\u001b[38;5;241;43m=\u001b[39;49m\u001b[38;5;28;43;01mFalse\u001b[39;49;00m\u001b[43m)\u001b[49m\u001b[43m,\u001b[49m\n\u001b[1;32m    603\u001b[0m \u001b[43m        \u001b[49m\u001b[43mcaller_name\u001b[49m\u001b[38;5;241;43m=\u001b[39;49m\u001b[38;5;28;43mself\u001b[39;49m\u001b[38;5;241;43m.\u001b[39;49m\u001b[38;5;18;43m__class__\u001b[39;49m\u001b[38;5;241;43m.\u001b[39;49m\u001b[38;5;18;43m__name__\u001b[39;49m\u001b[43m,\u001b[49m\n\u001b[1;32m    604\u001b[0m \u001b[43m    \u001b[49m\u001b[43m)\u001b[49m\n",
            "File \u001b[0;32m/anaconda/envs/azureml_py310_sdkv2/lib/python3.10/site-packages/sklearn/utils/_param_validation.py:97\u001b[0m, in \u001b[0;36mvalidate_parameter_constraints\u001b[0;34m(parameter_constraints, params, caller_name)\u001b[0m\n\u001b[1;32m     91\u001b[0m \u001b[38;5;28;01melse\u001b[39;00m:\n\u001b[1;32m     92\u001b[0m     constraints_str \u001b[38;5;241m=\u001b[39m (\n\u001b[1;32m     93\u001b[0m         \u001b[38;5;124mf\u001b[39m\u001b[38;5;124m\"\u001b[39m\u001b[38;5;132;01m{\u001b[39;00m\u001b[38;5;124m'\u001b[39m\u001b[38;5;124m, \u001b[39m\u001b[38;5;124m'\u001b[39m\u001b[38;5;241m.\u001b[39mjoin([\u001b[38;5;28mstr\u001b[39m(c)\u001b[38;5;250m \u001b[39m\u001b[38;5;28;01mfor\u001b[39;00m\u001b[38;5;250m \u001b[39mc\u001b[38;5;250m \u001b[39m\u001b[38;5;129;01min\u001b[39;00m\u001b[38;5;250m \u001b[39mconstraints[:\u001b[38;5;241m-\u001b[39m\u001b[38;5;241m1\u001b[39m]])\u001b[38;5;132;01m}\u001b[39;00m\u001b[38;5;124m or\u001b[39m\u001b[38;5;124m\"\u001b[39m\n\u001b[1;32m     94\u001b[0m         \u001b[38;5;124mf\u001b[39m\u001b[38;5;124m\"\u001b[39m\u001b[38;5;124m \u001b[39m\u001b[38;5;132;01m{\u001b[39;00mconstraints[\u001b[38;5;241m-\u001b[39m\u001b[38;5;241m1\u001b[39m]\u001b[38;5;132;01m}\u001b[39;00m\u001b[38;5;124m\"\u001b[39m\n\u001b[1;32m     95\u001b[0m     )\n\u001b[0;32m---> 97\u001b[0m \u001b[38;5;28;01mraise\u001b[39;00m InvalidParameterError(\n\u001b[1;32m     98\u001b[0m     \u001b[38;5;124mf\u001b[39m\u001b[38;5;124m\"\u001b[39m\u001b[38;5;124mThe \u001b[39m\u001b[38;5;132;01m{\u001b[39;00mparam_name\u001b[38;5;132;01m!r}\u001b[39;00m\u001b[38;5;124m parameter of \u001b[39m\u001b[38;5;132;01m{\u001b[39;00mcaller_name\u001b[38;5;132;01m}\u001b[39;00m\u001b[38;5;124m must be\u001b[39m\u001b[38;5;124m\"\u001b[39m\n\u001b[1;32m     99\u001b[0m     \u001b[38;5;124mf\u001b[39m\u001b[38;5;124m\"\u001b[39m\u001b[38;5;124m \u001b[39m\u001b[38;5;132;01m{\u001b[39;00mconstraints_str\u001b[38;5;132;01m}\u001b[39;00m\u001b[38;5;124m. Got \u001b[39m\u001b[38;5;132;01m{\u001b[39;00mparam_val\u001b[38;5;132;01m!r}\u001b[39;00m\u001b[38;5;124m instead.\u001b[39m\u001b[38;5;124m\"\u001b[39m\n\u001b[1;32m    100\u001b[0m )\n",
            "\u001b[0;31mInvalidParameterError\u001b[0m: The 'loss' parameter of GradientBoostingRegressor must be a str among {'quantile', 'absolute_error', 'squared_error', 'huber'}. Got 'ls' instead."
          ]
        }
      ],
      "execution_count": 30,
      "metadata": {
        "jupyter": {
          "source_hidden": false,
          "outputs_hidden": false
        },
        "nteract": {
          "transient": {
            "deleting": false
          }
        },
        "gather": {
          "logged": 1708205980343
        }
      }
    },
    {
      "cell_type": "code",
      "source": [
        "df2.head()"
      ],
      "outputs": [
        {
          "output_type": "execute_result",
          "execution_count": 29,
          "data": {
            "text/plain": "         Commodity  State Name  District Name  Market Name  Variety  Group  \\\n1415951         20          11             91          359      120      5   \n1415952         20          11             91          359      120      5   \n1415953         20          12            143          174      141      5   \n1415954         20          12            143          174      141      5   \n1415955         20          12             67          267      141      5   \n\n         Arrivals (Tonnes)  Min Price (Rs/Quintal)  Max Price (Rs/Quintal)  \\\n1415951               34.0                   600.0                   650.0   \n1415952               40.0                   650.0                   700.0   \n1415953              400.0                  2000.0                  2500.0   \n1415954              200.0                  2000.0                  2300.0   \n1415955              500.0                  2600.0                  2600.0   \n\n         Modal Price (Rs/Quintal) Reported Date  \n1415951                     650.0    2003-04-04  \n1415952                     700.0    2003-04-02  \n1415953                    2300.0    2003-04-04  \n1415954                    2100.0    2003-04-01  \n1415955                    2600.0    2003-04-03  ",
            "text/html": "<div>\n<style scoped>\n    .dataframe tbody tr th:only-of-type {\n        vertical-align: middle;\n    }\n\n    .dataframe tbody tr th {\n        vertical-align: top;\n    }\n\n    .dataframe thead th {\n        text-align: right;\n    }\n</style>\n<table border=\"1\" class=\"dataframe\">\n  <thead>\n    <tr style=\"text-align: right;\">\n      <th></th>\n      <th>Commodity</th>\n      <th>State Name</th>\n      <th>District Name</th>\n      <th>Market Name</th>\n      <th>Variety</th>\n      <th>Group</th>\n      <th>Arrivals (Tonnes)</th>\n      <th>Min Price (Rs/Quintal)</th>\n      <th>Max Price (Rs/Quintal)</th>\n      <th>Modal Price (Rs/Quintal)</th>\n      <th>Reported Date</th>\n    </tr>\n  </thead>\n  <tbody>\n    <tr>\n      <th>1415951</th>\n      <td>20</td>\n      <td>11</td>\n      <td>91</td>\n      <td>359</td>\n      <td>120</td>\n      <td>5</td>\n      <td>34.0</td>\n      <td>600.0</td>\n      <td>650.0</td>\n      <td>650.0</td>\n      <td>2003-04-04</td>\n    </tr>\n    <tr>\n      <th>1415952</th>\n      <td>20</td>\n      <td>11</td>\n      <td>91</td>\n      <td>359</td>\n      <td>120</td>\n      <td>5</td>\n      <td>40.0</td>\n      <td>650.0</td>\n      <td>700.0</td>\n      <td>700.0</td>\n      <td>2003-04-02</td>\n    </tr>\n    <tr>\n      <th>1415953</th>\n      <td>20</td>\n      <td>12</td>\n      <td>143</td>\n      <td>174</td>\n      <td>141</td>\n      <td>5</td>\n      <td>400.0</td>\n      <td>2000.0</td>\n      <td>2500.0</td>\n      <td>2300.0</td>\n      <td>2003-04-04</td>\n    </tr>\n    <tr>\n      <th>1415954</th>\n      <td>20</td>\n      <td>12</td>\n      <td>143</td>\n      <td>174</td>\n      <td>141</td>\n      <td>5</td>\n      <td>200.0</td>\n      <td>2000.0</td>\n      <td>2300.0</td>\n      <td>2100.0</td>\n      <td>2003-04-01</td>\n    </tr>\n    <tr>\n      <th>1415955</th>\n      <td>20</td>\n      <td>12</td>\n      <td>67</td>\n      <td>267</td>\n      <td>141</td>\n      <td>5</td>\n      <td>500.0</td>\n      <td>2600.0</td>\n      <td>2600.0</td>\n      <td>2600.0</td>\n      <td>2003-04-03</td>\n    </tr>\n  </tbody>\n</table>\n</div>"
          },
          "metadata": {}
        }
      ],
      "execution_count": 29,
      "metadata": {
        "jupyter": {
          "source_hidden": false,
          "outputs_hidden": false
        },
        "nteract": {
          "transient": {
            "deleting": false
          }
        },
        "gather": {
          "logged": 1708205876269
        }
      }
    },
    {
      "cell_type": "code",
      "source": [
        "from sklearn.model_selection import train_test_split, GridSearchCV\n",
        "from sklearn.ensemble import GradientBoostingRegressor\n",
        "from sklearn.metrics import mean_absolute_error\n",
        "\n",
        "target_variable = 'Modal Price (Rs/Quintal)'\n",
        "df2 = df2.drop(columns=['Reported Date'])\n",
        "\n",
        "X = df2.drop(columns=[target_variable])\n",
        "y = df2[target_variable]\n",
        "\n",
        "X_train, X_test, y_train, y_test = train_test_split(X, y, test_size=0.2, random_state=42)\n",
        "\n",
        "gb_regressor = GradientBoostingRegressor(n_estimators=100, learning_rate=0.1, max_depth=5, loss='squared_error')  # You can adjust these hyperparameters as needed\n",
        "\n",
        "gb_regressor.fit(X_train, y_train)\n",
        "\n",
        "gb_predictions = gb_regressor.predict(X_test)\n",
        "\n",
        "mae_gb = mean_absolute_error(y_test, gb_predictions)\n",
        "print(f'Mean Absolute Error (Gradient Boosting): {mae_gb}')\n",
        "\n",
        "param_grid = {\n",
        "    'n_estimators': [50, 100, 200],\n",
        "    'learning_rate': [0.01, 0.1, 0.2],\n",
        "    'max_depth': [3, 5, 7]\n",
        "}\n",
        "\n",
        "grid_search = GridSearchCV(GradientBoostingRegressor(), param_grid, cv=5, scoring='neg_mean_absolute_error', n_jobs=-1)\n",
        "\n",
        "grid_search.fit(X_train, y_train)\n",
        "\n",
        "best_params = grid_search.best_params_\n",
        "\n",
        "print(\"Best Hyperparameters:\", best_params)\n",
        "\n",
        "best_model = grid_search.best_estimator_\n",
        "best_predictions = best_model.predict(X_test)\n",
        "\n",
        "mae_best_model = mean_absolute_error(y_test, best_predictions)\n",
        "print(f'Mean Absolute Error (Best Model): {mae_best_model}')\n"
      ],
      "outputs": [
        {
          "output_type": "stream",
          "name": "stdout",
          "text": "Mean Absolute Error (Gradient Boosting): 160.8588003354565\n"
        }
      ],
      "execution_count": 31,
      "metadata": {
        "jupyter": {
          "source_hidden": false,
          "outputs_hidden": false
        },
        "nteract": {
          "transient": {
            "deleting": false
          }
        },
        "gather": {
          "logged": 1708205539475
        }
      }
    },
    {
      "cell_type": "code",
      "source": [
        "import os\n",
        "import pickle\n",
        "from azureml.core import Workspace\n",
        "\n",
        "#Azure Machine Learning workspace\n",
        "ws = Workspace.from_config()\n",
        "\n",
        "file_path1 = 'models/rf_state.pkl'\n",
        "#file_path1 = 'azureml://subscriptions/4f93438e-847c-469d-94ae-ef5ee130ccab/resourcegroups/project_team14/workspaces/mlnotebook/datastores/testml/paths/models/rf_state.pkl'\n",
        "\n",
        "with open(file_path1, 'wb') as f:\n",
        "    pickle.dump(gb_regressor, f)\n",
        "default_datastore = ws.get_default_datastore()\n",
        "default_datastore.upload_files(files=['models/gb_regressor.pkl'], target_path='models', overwrite=True)\n",
        "\n",
        "default_datastore.register_model(model_name='gb_regressor', model_path='models/gb_regressor.pkl')"
      ],
      "outputs": [],
      "execution_count": null,
      "metadata": {
        "jupyter": {
          "source_hidden": false,
          "outputs_hidden": false
        },
        "nteract": {
          "transient": {
            "deleting": false
          }
        },
        "gather": {
          "logged": 1708212012111
        }
      }
    },
    {
      "cell_type": "code",
      "source": [
        " \n",
        "import pickle \n",
        "  \n",
        "# Saving trained model as a pickle string. \n",
        "saved_model = pickle.dumps(gb_regressor)"
      ],
      "outputs": [],
      "execution_count": null,
      "metadata": {
        "jupyter": {
          "source_hidden": false,
          "outputs_hidden": false
        },
        "nteract": {
          "transient": {
            "deleting": false
          }
        },
        "gather": {
          "logged": 1708211797853
        }
      }
    },
    {
      "cell_type": "code",
      "source": [
        "\n"
      ],
      "outputs": [],
      "execution_count": null,
      "metadata": {
        "jupyter": {
          "source_hidden": false,
          "outputs_hidden": false
        },
        "nteract": {
          "transient": {
            "deleting": false
          }
        }
      }
    },
    {
      "cell_type": "code",
      "source": [],
      "outputs": [],
      "execution_count": null,
      "metadata": {
        "jupyter": {
          "source_hidden": false,
          "outputs_hidden": false
        },
        "nteract": {
          "transient": {
            "deleting": false
          }
        }
      }
    },
    {
      "cell_type": "code",
      "source": [],
      "outputs": [],
      "execution_count": null,
      "metadata": {
        "jupyter": {
          "source_hidden": false,
          "outputs_hidden": false
        },
        "nteract": {
          "transient": {
            "deleting": false
          }
        }
      }
    },
    {
      "cell_type": "code",
      "source": [],
      "outputs": [],
      "execution_count": null,
      "metadata": {
        "jupyter": {
          "source_hidden": false,
          "outputs_hidden": false
        },
        "nteract": {
          "transient": {
            "deleting": false
          }
        }
      }
    },
    {
      "cell_type": "code",
      "source": [],
      "outputs": [],
      "execution_count": null,
      "metadata": {
        "jupyter": {
          "source_hidden": false,
          "outputs_hidden": false
        },
        "nteract": {
          "transient": {
            "deleting": false
          }
        }
      }
    },
    {
      "cell_type": "code",
      "source": [],
      "outputs": [],
      "execution_count": null,
      "metadata": {
        "jupyter": {
          "source_hidden": false,
          "outputs_hidden": false
        },
        "nteract": {
          "transient": {
            "deleting": false
          }
        }
      }
    },
    {
      "cell_type": "code",
      "source": [],
      "outputs": [],
      "execution_count": null,
      "metadata": {
        "jupyter": {
          "source_hidden": false,
          "outputs_hidden": false
        },
        "nteract": {
          "transient": {
            "deleting": false
          }
        }
      }
    },
    {
      "cell_type": "code",
      "source": [],
      "outputs": [],
      "execution_count": null,
      "metadata": {
        "jupyter": {
          "source_hidden": false,
          "outputs_hidden": false
        },
        "nteract": {
          "transient": {
            "deleting": false
          }
        }
      }
    },
    {
      "cell_type": "code",
      "source": [],
      "outputs": [],
      "execution_count": null,
      "metadata": {
        "jupyter": {
          "source_hidden": false,
          "outputs_hidden": false
        },
        "nteract": {
          "transient": {
            "deleting": false
          }
        }
      }
    },
    {
      "cell_type": "code",
      "source": [],
      "outputs": [],
      "execution_count": null,
      "metadata": {
        "jupyter": {
          "source_hidden": false,
          "outputs_hidden": false
        },
        "nteract": {
          "transient": {
            "deleting": false
          }
        }
      }
    }
  ],
  "metadata": {
    "kernelspec": {
      "name": "python310-sdkv2",
      "language": "python",
      "display_name": "Python 3.10 - SDK v2"
    },
    "language_info": {
      "name": "python",
      "version": "3.10.11",
      "mimetype": "text/x-python",
      "codemirror_mode": {
        "name": "ipython",
        "version": 3
      },
      "pygments_lexer": "ipython3",
      "nbconvert_exporter": "python",
      "file_extension": ".py"
    },
    "microsoft": {
      "ms_spell_check": {
        "ms_spell_check_language": "en"
      },
      "host": {
        "AzureML": {
          "notebookHasBeenCompleted": true
        }
      }
    },
    "kernel_info": {
      "name": "python310-sdkv2"
    },
    "nteract": {
      "version": "nteract-front-end@1.0.0"
    }
  },
  "nbformat": 4,
  "nbformat_minor": 2
}