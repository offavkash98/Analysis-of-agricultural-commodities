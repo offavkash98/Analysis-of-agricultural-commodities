{
  "cells": [
    {
      "cell_type": "code",
      "source": [
        "import numpy as np\n",
        "import pandas as pd"
      ],
      "outputs": [],
      "execution_count": 1,
      "metadata": {
        "gather": {
          "logged": 1708255252935
        }
      }
    },
    {
      "cell_type": "code",
      "source": [
        "path=\"azureml://subscriptions/4f93438e-847c-469d-94ae-ef5ee130ccab/resourcegroups/project_team14/workspaces/mlnotebook/datastores/testml/paths/Final_Data/part-00000-tid-1107757838746000038-dd6987f9-5526-4378-b9fd-633c8f0e2565-1388-1-c000.csv\""
      ],
      "outputs": [],
      "execution_count": 2,
      "metadata": {
        "jupyter": {
          "source_hidden": false,
          "outputs_hidden": false
        },
        "nteract": {
          "transient": {
            "deleting": false
          }
        },
        "gather": {
          "logged": 1708255253373
        }
      }
    },
    {
      "cell_type": "code",
      "source": [
        "df=pd.read_csv(path,low_memory=False) "
      ],
      "outputs": [],
      "execution_count": 3,
      "metadata": {
        "jupyter": {
          "source_hidden": false,
          "outputs_hidden": false
        },
        "nteract": {
          "transient": {
            "deleting": false
          }
        },
        "gather": {
          "logged": 1708255323479
        }
      }
    },
    {
      "cell_type": "code",
      "source": [
        "df.head()"
      ],
      "outputs": [
        {
          "output_type": "execute_result",
          "execution_count": 4,
          "data": {
            "text/plain": "  Commodity         State Name District Name         Market Name Variety  \\\n0    Papaya                Goa     North Goa              Mapusa  Papaya   \n1    Papaya  Jammu and Kashmir         Jammu  Narwal Jammu (F&V)   Other   \n2    Papaya       NCT of Delhi         Delhi            Shahdara   Other   \n3    Papaya             Punjab      Bhatinda            Bathinda   Other   \n4    Papaya             Punjab      Ferozpur      Firozepur City   Other   \n\n    Group  Arrivals (Tonnes)  Min Price (Rs/Quintal)  Max Price (Rs/Quintal)  \\\n0  Fruits               1.33                  2400.0                  3600.0   \n1  Fruits              12.00                  1150.0                  1250.0   \n2  Fruits               0.10                   150.0                   300.0   \n3  Fruits               4.50                   400.0                   450.0   \n4  Fruits              10.00                   600.0                   800.0   \n\n   Modal Price (Rs/Quintal) Reported Date  \n0                    3000.0    2003-04-01  \n1                    1200.0    2003-04-01  \n2                     250.0    2003-04-02  \n3                     425.0    2003-04-01  \n4                     700.0    2003-04-02  ",
            "text/html": "<div>\n<style scoped>\n    .dataframe tbody tr th:only-of-type {\n        vertical-align: middle;\n    }\n\n    .dataframe tbody tr th {\n        vertical-align: top;\n    }\n\n    .dataframe thead th {\n        text-align: right;\n    }\n</style>\n<table border=\"1\" class=\"dataframe\">\n  <thead>\n    <tr style=\"text-align: right;\">\n      <th></th>\n      <th>Commodity</th>\n      <th>State Name</th>\n      <th>District Name</th>\n      <th>Market Name</th>\n      <th>Variety</th>\n      <th>Group</th>\n      <th>Arrivals (Tonnes)</th>\n      <th>Min Price (Rs/Quintal)</th>\n      <th>Max Price (Rs/Quintal)</th>\n      <th>Modal Price (Rs/Quintal)</th>\n      <th>Reported Date</th>\n    </tr>\n  </thead>\n  <tbody>\n    <tr>\n      <th>0</th>\n      <td>Papaya</td>\n      <td>Goa</td>\n      <td>North Goa</td>\n      <td>Mapusa</td>\n      <td>Papaya</td>\n      <td>Fruits</td>\n      <td>1.33</td>\n      <td>2400.0</td>\n      <td>3600.0</td>\n      <td>3000.0</td>\n      <td>2003-04-01</td>\n    </tr>\n    <tr>\n      <th>1</th>\n      <td>Papaya</td>\n      <td>Jammu and Kashmir</td>\n      <td>Jammu</td>\n      <td>Narwal Jammu (F&amp;V)</td>\n      <td>Other</td>\n      <td>Fruits</td>\n      <td>12.00</td>\n      <td>1150.0</td>\n      <td>1250.0</td>\n      <td>1200.0</td>\n      <td>2003-04-01</td>\n    </tr>\n    <tr>\n      <th>2</th>\n      <td>Papaya</td>\n      <td>NCT of Delhi</td>\n      <td>Delhi</td>\n      <td>Shahdara</td>\n      <td>Other</td>\n      <td>Fruits</td>\n      <td>0.10</td>\n      <td>150.0</td>\n      <td>300.0</td>\n      <td>250.0</td>\n      <td>2003-04-02</td>\n    </tr>\n    <tr>\n      <th>3</th>\n      <td>Papaya</td>\n      <td>Punjab</td>\n      <td>Bhatinda</td>\n      <td>Bathinda</td>\n      <td>Other</td>\n      <td>Fruits</td>\n      <td>4.50</td>\n      <td>400.0</td>\n      <td>450.0</td>\n      <td>425.0</td>\n      <td>2003-04-01</td>\n    </tr>\n    <tr>\n      <th>4</th>\n      <td>Papaya</td>\n      <td>Punjab</td>\n      <td>Ferozpur</td>\n      <td>Firozepur City</td>\n      <td>Other</td>\n      <td>Fruits</td>\n      <td>10.00</td>\n      <td>600.0</td>\n      <td>800.0</td>\n      <td>700.0</td>\n      <td>2003-04-02</td>\n    </tr>\n  </tbody>\n</table>\n</div>"
          },
          "metadata": {}
        }
      ],
      "execution_count": 4,
      "metadata": {
        "jupyter": {
          "source_hidden": false,
          "outputs_hidden": false
        },
        "nteract": {
          "transient": {
            "deleting": false
          }
        },
        "gather": {
          "logged": 1708255324213
        }
      }
    },
    {
      "cell_type": "code",
      "source": [
        "df.tail()"
      ],
      "outputs": [
        {
          "output_type": "execute_result",
          "execution_count": 5,
          "data": {
            "text/plain": "            Commodity   State Name District Name            Market Name  \\\n51729417  GreenChilli  West Bengal    Coochbehar              Pundibari   \n51729418  GreenChilli  West Bengal        Howrah  Ramkrishanpur(Howrah)   \n51729419  GreenChilli  West Bengal         Nadia               Ranaghat   \n51729420  GreenChilli  West Bengal       Birbhum               Sainthia   \n51729421  GreenChilli  West Bengal       Kolkata   Sealdah Koley Market   \n\n               Variety       Group  Arrivals (Tonnes)  Min Price (Rs/Quintal)  \\\n51729417         Other  Vegetables                1.1                  6000.0   \n51729418         Other  Vegetables                0.5                  6600.0   \n51729419         Other  Vegetables                6.0                  4400.0   \n51729420  Green Chilly  Vegetables               14.0                  6400.0   \n51729421         Other  Vegetables               24.0                  3200.0   \n\n          Max Price (Rs/Quintal)  Modal Price (Rs/Quintal) Reported Date  \n51729417                  6200.0                    6100.0    2023-10-31  \n51729418                  8500.0                    7500.0    2023-10-31  \n51729419                  4550.0                    4500.0    2023-10-31  \n51729420                  6600.0                    6500.0    2023-10-31  \n51729421                  3600.0                    3600.0    2023-10-31  ",
            "text/html": "<div>\n<style scoped>\n    .dataframe tbody tr th:only-of-type {\n        vertical-align: middle;\n    }\n\n    .dataframe tbody tr th {\n        vertical-align: top;\n    }\n\n    .dataframe thead th {\n        text-align: right;\n    }\n</style>\n<table border=\"1\" class=\"dataframe\">\n  <thead>\n    <tr style=\"text-align: right;\">\n      <th></th>\n      <th>Commodity</th>\n      <th>State Name</th>\n      <th>District Name</th>\n      <th>Market Name</th>\n      <th>Variety</th>\n      <th>Group</th>\n      <th>Arrivals (Tonnes)</th>\n      <th>Min Price (Rs/Quintal)</th>\n      <th>Max Price (Rs/Quintal)</th>\n      <th>Modal Price (Rs/Quintal)</th>\n      <th>Reported Date</th>\n    </tr>\n  </thead>\n  <tbody>\n    <tr>\n      <th>51729417</th>\n      <td>GreenChilli</td>\n      <td>West Bengal</td>\n      <td>Coochbehar</td>\n      <td>Pundibari</td>\n      <td>Other</td>\n      <td>Vegetables</td>\n      <td>1.1</td>\n      <td>6000.0</td>\n      <td>6200.0</td>\n      <td>6100.0</td>\n      <td>2023-10-31</td>\n    </tr>\n    <tr>\n      <th>51729418</th>\n      <td>GreenChilli</td>\n      <td>West Bengal</td>\n      <td>Howrah</td>\n      <td>Ramkrishanpur(Howrah)</td>\n      <td>Other</td>\n      <td>Vegetables</td>\n      <td>0.5</td>\n      <td>6600.0</td>\n      <td>8500.0</td>\n      <td>7500.0</td>\n      <td>2023-10-31</td>\n    </tr>\n    <tr>\n      <th>51729419</th>\n      <td>GreenChilli</td>\n      <td>West Bengal</td>\n      <td>Nadia</td>\n      <td>Ranaghat</td>\n      <td>Other</td>\n      <td>Vegetables</td>\n      <td>6.0</td>\n      <td>4400.0</td>\n      <td>4550.0</td>\n      <td>4500.0</td>\n      <td>2023-10-31</td>\n    </tr>\n    <tr>\n      <th>51729420</th>\n      <td>GreenChilli</td>\n      <td>West Bengal</td>\n      <td>Birbhum</td>\n      <td>Sainthia</td>\n      <td>Green Chilly</td>\n      <td>Vegetables</td>\n      <td>14.0</td>\n      <td>6400.0</td>\n      <td>6600.0</td>\n      <td>6500.0</td>\n      <td>2023-10-31</td>\n    </tr>\n    <tr>\n      <th>51729421</th>\n      <td>GreenChilli</td>\n      <td>West Bengal</td>\n      <td>Kolkata</td>\n      <td>Sealdah Koley Market</td>\n      <td>Other</td>\n      <td>Vegetables</td>\n      <td>24.0</td>\n      <td>3200.0</td>\n      <td>3600.0</td>\n      <td>3600.0</td>\n      <td>2023-10-31</td>\n    </tr>\n  </tbody>\n</table>\n</div>"
          },
          "metadata": {}
        }
      ],
      "execution_count": 5,
      "metadata": {
        "jupyter": {
          "source_hidden": false,
          "outputs_hidden": false
        },
        "nteract": {
          "transient": {
            "deleting": false
          }
        },
        "gather": {
          "logged": 1708255324694
        }
      }
    },
    {
      "cell_type": "code",
      "source": [
        "df.dtypes"
      ],
      "outputs": [
        {
          "output_type": "execute_result",
          "execution_count": 6,
          "data": {
            "text/plain": "Commodity                    object\nState Name                   object\nDistrict Name                object\nMarket Name                  object\nVariety                      object\nGroup                        object\nArrivals (Tonnes)           float64\nMin Price (Rs/Quintal)      float64\nMax Price (Rs/Quintal)      float64\nModal Price (Rs/Quintal)    float64\nReported Date                object\ndtype: object"
          },
          "metadata": {}
        }
      ],
      "execution_count": 6,
      "metadata": {
        "jupyter": {
          "source_hidden": false,
          "outputs_hidden": false
        },
        "nteract": {
          "transient": {
            "deleting": false
          }
        },
        "gather": {
          "logged": 1708255325438
        }
      }
    },
    {
      "cell_type": "code",
      "source": [
        "df[\"Reported Date\"] = pd.to_datetime(df[\"Reported Date\"])"
      ],
      "outputs": [],
      "execution_count": 7,
      "metadata": {
        "jupyter": {
          "source_hidden": false,
          "outputs_hidden": false
        },
        "nteract": {
          "transient": {
            "deleting": false
          }
        },
        "gather": {
          "logged": 1708255328309
        }
      }
    },
    {
      "cell_type": "code",
      "source": [
        "# checking again\n",
        "df.dtypes"
      ],
      "outputs": [
        {
          "output_type": "execute_result",
          "execution_count": 8,
          "data": {
            "text/plain": "Commodity                           object\nState Name                          object\nDistrict Name                       object\nMarket Name                         object\nVariety                             object\nGroup                               object\nArrivals (Tonnes)                  float64\nMin Price (Rs/Quintal)             float64\nMax Price (Rs/Quintal)             float64\nModal Price (Rs/Quintal)           float64\nReported Date               datetime64[ns]\ndtype: object"
          },
          "metadata": {}
        }
      ],
      "execution_count": 8,
      "metadata": {
        "jupyter": {
          "source_hidden": false,
          "outputs_hidden": false
        },
        "nteract": {
          "transient": {
            "deleting": false
          }
        },
        "gather": {
          "logged": 1708255328854
        }
      }
    },
    {
      "cell_type": "code",
      "source": [
        "df2 = df.copy()"
      ],
      "outputs": [],
      "execution_count": 9,
      "metadata": {
        "jupyter": {
          "source_hidden": false,
          "outputs_hidden": false
        },
        "nteract": {
          "transient": {
            "deleting": false
          }
        },
        "gather": {
          "logged": 1708255330420
        }
      }
    },
    {
      "cell_type": "code",
      "source": [
        "garr = df2.groupby(\"Commodity\").agg(avg_arrival=('Arrivals (Tonnes)', 'mean')).round(2)\n",
        "\n",
        "tarr = garr['avg_arrival'].sum()\n",
        "\n",
        "avgarr = garr.assign(percentage=lambda x: (x['avg_arrival'] / tarr) * 100)\n",
        "\n",
        "ranks = avgarr.sort_values(by='percentage', ascending=False)\n",
        "\n",
        "print(ranks)"
      ],
      "outputs": [
        {
          "output_type": "stream",
          "name": "stdout",
          "text": "                     avg_arrival  percentage\nCommodity                                   \nGladiolusCutFlower        695.04    6.146037\nJaffri                    681.43    6.025688\nRoseLocal                 660.00    5.836189\nLilly                     550.00    4.863491\nMarget                    542.52    4.797347\n...                          ...         ...\nMaragensu                   1.00    0.008843\nRatTailRadishMogari         1.00    0.008843\nLukad                       0.63    0.005571\nGramflour                   0.43    0.003802\nJamamkhan                   0.24    0.002122\n\n[297 rows x 2 columns]\n"
        }
      ],
      "execution_count": 10,
      "metadata": {
        "jupyter": {
          "source_hidden": false,
          "outputs_hidden": false
        },
        "nteract": {
          "transient": {
            "deleting": false
          }
        },
        "gather": {
          "logged": 1708255333787
        }
      }
    },
    {
      "cell_type": "code",
      "source": [
        "newcols = ranks.head(25)\n",
        "newcols"
      ],
      "outputs": [
        {
          "output_type": "execute_result",
          "execution_count": 11,
          "data": {
            "text/plain": "                       avg_arrival  percentage\nCommodity                                     \nGladiolusCutFlower          695.04    6.146037\nJaffri                      681.43    6.025688\nRoseLocal                   660.00    5.836189\nLilly                       550.00    4.863491\nMarget                      542.52    4.797347\nTenderCoconut               342.72    3.030574\nRoseLoose                   269.17    2.380192\nHen                         248.86    2.200597\nBamboo                      237.50    2.100144\nTubeRoseSingle              225.00    1.989610\nChrysanthemumLoose          224.25    1.982978\nBroomstickFlowerBroom       215.50    1.905604\nCarnation                   200.00    1.768542\nPaddyDhanBasmati            183.67    1.624141\nTubeFlower                  144.44    1.277241\nEgg                         129.93    1.148933\nCock                        122.29    1.081375\nCottonSeed                  121.37    1.073240\nSkinAndHide                 120.00    1.061125\nCoconut                     105.82    0.935736\nWood                        105.16    0.929899\nCotton                      103.13    0.911949\nDailaChandni                101.06    0.893644\nMyrobolanHarad               98.10    0.867470\nTubeRoseLoose                94.74    0.837758",
            "text/html": "<div>\n<style scoped>\n    .dataframe tbody tr th:only-of-type {\n        vertical-align: middle;\n    }\n\n    .dataframe tbody tr th {\n        vertical-align: top;\n    }\n\n    .dataframe thead th {\n        text-align: right;\n    }\n</style>\n<table border=\"1\" class=\"dataframe\">\n  <thead>\n    <tr style=\"text-align: right;\">\n      <th></th>\n      <th>avg_arrival</th>\n      <th>percentage</th>\n    </tr>\n    <tr>\n      <th>Commodity</th>\n      <th></th>\n      <th></th>\n    </tr>\n  </thead>\n  <tbody>\n    <tr>\n      <th>GladiolusCutFlower</th>\n      <td>695.04</td>\n      <td>6.146037</td>\n    </tr>\n    <tr>\n      <th>Jaffri</th>\n      <td>681.43</td>\n      <td>6.025688</td>\n    </tr>\n    <tr>\n      <th>RoseLocal</th>\n      <td>660.00</td>\n      <td>5.836189</td>\n    </tr>\n    <tr>\n      <th>Lilly</th>\n      <td>550.00</td>\n      <td>4.863491</td>\n    </tr>\n    <tr>\n      <th>Marget</th>\n      <td>542.52</td>\n      <td>4.797347</td>\n    </tr>\n    <tr>\n      <th>TenderCoconut</th>\n      <td>342.72</td>\n      <td>3.030574</td>\n    </tr>\n    <tr>\n      <th>RoseLoose</th>\n      <td>269.17</td>\n      <td>2.380192</td>\n    </tr>\n    <tr>\n      <th>Hen</th>\n      <td>248.86</td>\n      <td>2.200597</td>\n    </tr>\n    <tr>\n      <th>Bamboo</th>\n      <td>237.50</td>\n      <td>2.100144</td>\n    </tr>\n    <tr>\n      <th>TubeRoseSingle</th>\n      <td>225.00</td>\n      <td>1.989610</td>\n    </tr>\n    <tr>\n      <th>ChrysanthemumLoose</th>\n      <td>224.25</td>\n      <td>1.982978</td>\n    </tr>\n    <tr>\n      <th>BroomstickFlowerBroom</th>\n      <td>215.50</td>\n      <td>1.905604</td>\n    </tr>\n    <tr>\n      <th>Carnation</th>\n      <td>200.00</td>\n      <td>1.768542</td>\n    </tr>\n    <tr>\n      <th>PaddyDhanBasmati</th>\n      <td>183.67</td>\n      <td>1.624141</td>\n    </tr>\n    <tr>\n      <th>TubeFlower</th>\n      <td>144.44</td>\n      <td>1.277241</td>\n    </tr>\n    <tr>\n      <th>Egg</th>\n      <td>129.93</td>\n      <td>1.148933</td>\n    </tr>\n    <tr>\n      <th>Cock</th>\n      <td>122.29</td>\n      <td>1.081375</td>\n    </tr>\n    <tr>\n      <th>CottonSeed</th>\n      <td>121.37</td>\n      <td>1.073240</td>\n    </tr>\n    <tr>\n      <th>SkinAndHide</th>\n      <td>120.00</td>\n      <td>1.061125</td>\n    </tr>\n    <tr>\n      <th>Coconut</th>\n      <td>105.82</td>\n      <td>0.935736</td>\n    </tr>\n    <tr>\n      <th>Wood</th>\n      <td>105.16</td>\n      <td>0.929899</td>\n    </tr>\n    <tr>\n      <th>Cotton</th>\n      <td>103.13</td>\n      <td>0.911949</td>\n    </tr>\n    <tr>\n      <th>DailaChandni</th>\n      <td>101.06</td>\n      <td>0.893644</td>\n    </tr>\n    <tr>\n      <th>MyrobolanHarad</th>\n      <td>98.10</td>\n      <td>0.867470</td>\n    </tr>\n    <tr>\n      <th>TubeRoseLoose</th>\n      <td>94.74</td>\n      <td>0.837758</td>\n    </tr>\n  </tbody>\n</table>\n</div>"
          },
          "metadata": {}
        }
      ],
      "execution_count": 11,
      "metadata": {
        "jupyter": {
          "source_hidden": false,
          "outputs_hidden": false
        },
        "nteract": {
          "transient": {
            "deleting": false
          }
        },
        "gather": {
          "logged": 1708255334377
        }
      }
    },
    {
      "cell_type": "code",
      "source": [
        "cols =['GladiolusCutFlower', 'Jaffri', 'RoseLocal', 'Lilly', 'Marget',\n",
        "       'TenderCoconut', 'RoseLoose', 'Hen', 'Bamboo', 'TubeRoseSingle',\n",
        "       'ChrysanthemumLoose', 'BroomstickFlowerBroom', 'Carnation',\n",
        "       'PaddyDhanBasmati', 'TubeFlower', 'Egg', 'Cock', 'CottonSeed',\n",
        "       'SkinAndHide', 'Coconut', 'Wood', 'Cotton', 'DailaChandni',\n",
        "       'MyrobolanHarad', 'TubeRoseLoose']\n",
        "top = newcols.index.tolist()\n",
        "\n",
        "# Create a new DataFrame with only the top 10 commodity rows\n",
        "df2 = df2[df2['Commodity'].isin(top)].copy()"
      ],
      "outputs": [],
      "execution_count": 12,
      "metadata": {
        "jupyter": {
          "source_hidden": false,
          "outputs_hidden": false
        },
        "nteract": {
          "transient": {
            "deleting": false
          }
        },
        "gather": {
          "logged": 1708255338372
        }
      }
    },
    {
      "cell_type": "code",
      "source": [
        "import pandas as pd\n",
        "\n",
        "sample = 0.1\n",
        "\n",
        "sdf = df2.sample(frac=sample, random_state=42)\n",
        "\n",
        "print(f\"Sampled DataFrame: {sdf.shape}\")"
      ],
      "outputs": [
        {
          "output_type": "stream",
          "name": "stdout",
          "text": "Sampled DataFrame: (120655, 11)\n"
        }
      ],
      "execution_count": 13,
      "metadata": {
        "jupyter": {
          "source_hidden": false,
          "outputs_hidden": false
        },
        "nteract": {
          "transient": {
            "deleting": false
          }
        },
        "gather": {
          "logged": 1708255338822
        }
      }
    },
    {
      "cell_type": "code",
      "source": [
        "sdf"
      ],
      "outputs": [
        {
          "output_type": "execute_result",
          "execution_count": 14,
          "data": {
            "text/plain": "              Commodity State Name District Name  Market Name  \\\n32815289         Cotton    Gujarat         Botad        Botad   \n1420958   TenderCoconut  Karnataka        Mandya  Pandavapura   \n33335464         Cotton    Gujarat      Junagarh          Una   \n33200929         Cotton    Gujarat   Sabarkantha       Modasa   \n33171373         Cotton  Rajasthan         Ajmer        Kekri   \n...                 ...        ...           ...          ...   \n33195260         Cotton  Rajasthan         Alwar    Khairthal   \n32961429         Cotton    Gujarat        Rajkot       Upleta   \n33029605         Cotton  Rajasthan    Ganganagar        Rawla   \n33400151         Cotton     Odisha      Gajapati    Kasinagar   \n1443908   TenderCoconut     Punjab       Fazilka       Abohar   \n\n                          Variety        Group  Arrivals (Tonnes)  \\\n32815289  Shanker 6 (B) 30mm FIne  Fibre Crops         700.500000   \n1420958            Tender Coconut       Fruits         342.720000   \n33335464  Shanker 6 (B) 30mm FIne  Fibre Crops          70.000000   \n33200929          Narma BT Cotton  Fibre Crops           8.000000   \n33171373                    Other  Fibre Crops           1.000000   \n...                           ...          ...                ...   \n33195260                    Other  Fibre Crops         241.600006   \n32961429                    Other  Fibre Crops          35.000000   \n33029605                 American  Fibre Crops          87.300003   \n33400151                    Other  Fibre Crops          10.000000   \n1443908            Tender Coconut       Fruits           0.380000   \n\n          Min Price (Rs/Quintal)  Max Price (Rs/Quintal)  \\\n32815289                  2105.0                  2280.0   \n1420958                   9000.0                 18000.0   \n33335464                  3900.0                  4350.0   \n33200929                  4500.0                  4990.0   \n33171373                  1950.0                  2100.0   \n...                          ...                     ...   \n33195260                  5000.0                  5500.0   \n32961429                  3500.0                  3950.0   \n33029605                  1365.0                  1685.0   \n33400151                  5200.0                  5250.0   \n1443908                   3105.0                  3654.0   \n\n          Modal Price (Rs/Quintal) Reported Date  \n32815289                    2200.0    2006-11-09  \n1420958                    11000.0    2021-11-04  \n33335464                    4125.0    2014-12-19  \n33200929                    4750.0    2018-02-08  \n33171373                    2031.0    2006-12-06  \n...                            ...           ...  \n33195260                    5350.0    2019-11-07  \n32961429                    3725.0    2015-03-21  \n33029605                    1525.0    2006-01-25  \n33400151                    5250.0    2018-12-24  \n1443908                     3654.0    2021-08-23  \n\n[120655 rows x 11 columns]",
            "text/html": "<div>\n<style scoped>\n    .dataframe tbody tr th:only-of-type {\n        vertical-align: middle;\n    }\n\n    .dataframe tbody tr th {\n        vertical-align: top;\n    }\n\n    .dataframe thead th {\n        text-align: right;\n    }\n</style>\n<table border=\"1\" class=\"dataframe\">\n  <thead>\n    <tr style=\"text-align: right;\">\n      <th></th>\n      <th>Commodity</th>\n      <th>State Name</th>\n      <th>District Name</th>\n      <th>Market Name</th>\n      <th>Variety</th>\n      <th>Group</th>\n      <th>Arrivals (Tonnes)</th>\n      <th>Min Price (Rs/Quintal)</th>\n      <th>Max Price (Rs/Quintal)</th>\n      <th>Modal Price (Rs/Quintal)</th>\n      <th>Reported Date</th>\n    </tr>\n  </thead>\n  <tbody>\n    <tr>\n      <th>32815289</th>\n      <td>Cotton</td>\n      <td>Gujarat</td>\n      <td>Botad</td>\n      <td>Botad</td>\n      <td>Shanker 6 (B) 30mm FIne</td>\n      <td>Fibre Crops</td>\n      <td>700.500000</td>\n      <td>2105.0</td>\n      <td>2280.0</td>\n      <td>2200.0</td>\n      <td>2006-11-09</td>\n    </tr>\n    <tr>\n      <th>1420958</th>\n      <td>TenderCoconut</td>\n      <td>Karnataka</td>\n      <td>Mandya</td>\n      <td>Pandavapura</td>\n      <td>Tender Coconut</td>\n      <td>Fruits</td>\n      <td>342.720000</td>\n      <td>9000.0</td>\n      <td>18000.0</td>\n      <td>11000.0</td>\n      <td>2021-11-04</td>\n    </tr>\n    <tr>\n      <th>33335464</th>\n      <td>Cotton</td>\n      <td>Gujarat</td>\n      <td>Junagarh</td>\n      <td>Una</td>\n      <td>Shanker 6 (B) 30mm FIne</td>\n      <td>Fibre Crops</td>\n      <td>70.000000</td>\n      <td>3900.0</td>\n      <td>4350.0</td>\n      <td>4125.0</td>\n      <td>2014-12-19</td>\n    </tr>\n    <tr>\n      <th>33200929</th>\n      <td>Cotton</td>\n      <td>Gujarat</td>\n      <td>Sabarkantha</td>\n      <td>Modasa</td>\n      <td>Narma BT Cotton</td>\n      <td>Fibre Crops</td>\n      <td>8.000000</td>\n      <td>4500.0</td>\n      <td>4990.0</td>\n      <td>4750.0</td>\n      <td>2018-02-08</td>\n    </tr>\n    <tr>\n      <th>33171373</th>\n      <td>Cotton</td>\n      <td>Rajasthan</td>\n      <td>Ajmer</td>\n      <td>Kekri</td>\n      <td>Other</td>\n      <td>Fibre Crops</td>\n      <td>1.000000</td>\n      <td>1950.0</td>\n      <td>2100.0</td>\n      <td>2031.0</td>\n      <td>2006-12-06</td>\n    </tr>\n    <tr>\n      <th>...</th>\n      <td>...</td>\n      <td>...</td>\n      <td>...</td>\n      <td>...</td>\n      <td>...</td>\n      <td>...</td>\n      <td>...</td>\n      <td>...</td>\n      <td>...</td>\n      <td>...</td>\n      <td>...</td>\n    </tr>\n    <tr>\n      <th>33195260</th>\n      <td>Cotton</td>\n      <td>Rajasthan</td>\n      <td>Alwar</td>\n      <td>Khairthal</td>\n      <td>Other</td>\n      <td>Fibre Crops</td>\n      <td>241.600006</td>\n      <td>5000.0</td>\n      <td>5500.0</td>\n      <td>5350.0</td>\n      <td>2019-11-07</td>\n    </tr>\n    <tr>\n      <th>32961429</th>\n      <td>Cotton</td>\n      <td>Gujarat</td>\n      <td>Rajkot</td>\n      <td>Upleta</td>\n      <td>Other</td>\n      <td>Fibre Crops</td>\n      <td>35.000000</td>\n      <td>3500.0</td>\n      <td>3950.0</td>\n      <td>3725.0</td>\n      <td>2015-03-21</td>\n    </tr>\n    <tr>\n      <th>33029605</th>\n      <td>Cotton</td>\n      <td>Rajasthan</td>\n      <td>Ganganagar</td>\n      <td>Rawla</td>\n      <td>American</td>\n      <td>Fibre Crops</td>\n      <td>87.300003</td>\n      <td>1365.0</td>\n      <td>1685.0</td>\n      <td>1525.0</td>\n      <td>2006-01-25</td>\n    </tr>\n    <tr>\n      <th>33400151</th>\n      <td>Cotton</td>\n      <td>Odisha</td>\n      <td>Gajapati</td>\n      <td>Kasinagar</td>\n      <td>Other</td>\n      <td>Fibre Crops</td>\n      <td>10.000000</td>\n      <td>5200.0</td>\n      <td>5250.0</td>\n      <td>5250.0</td>\n      <td>2018-12-24</td>\n    </tr>\n    <tr>\n      <th>1443908</th>\n      <td>TenderCoconut</td>\n      <td>Punjab</td>\n      <td>Fazilka</td>\n      <td>Abohar</td>\n      <td>Tender Coconut</td>\n      <td>Fruits</td>\n      <td>0.380000</td>\n      <td>3105.0</td>\n      <td>3654.0</td>\n      <td>3654.0</td>\n      <td>2021-08-23</td>\n    </tr>\n  </tbody>\n</table>\n<p>120655 rows × 11 columns</p>\n</div>"
          },
          "metadata": {}
        }
      ],
      "execution_count": 14,
      "metadata": {
        "jupyter": {
          "source_hidden": false,
          "outputs_hidden": false
        },
        "nteract": {
          "transient": {
            "deleting": false
          }
        },
        "gather": {
          "logged": 1708255339681
        }
      }
    },
    {
      "cell_type": "code",
      "source": [
        "sdf.isnull().sum()"
      ],
      "outputs": [
        {
          "output_type": "execute_result",
          "execution_count": 15,
          "data": {
            "text/plain": "Commodity                   0\nState Name                  0\nDistrict Name               0\nMarket Name                 0\nVariety                     0\nGroup                       0\nArrivals (Tonnes)           0\nMin Price (Rs/Quintal)      0\nMax Price (Rs/Quintal)      0\nModal Price (Rs/Quintal)    0\nReported Date               0\ndtype: int64"
          },
          "metadata": {}
        }
      ],
      "execution_count": 15,
      "metadata": {
        "jupyter": {
          "source_hidden": false,
          "outputs_hidden": false
        },
        "nteract": {
          "transient": {
            "deleting": false
          }
        },
        "gather": {
          "logged": 1708255340281
        }
      }
    },
    {
      "cell_type": "code",
      "source": [
        "sdf = df.sample(n=10000, random_state=42) "
      ],
      "outputs": [],
      "execution_count": 16,
      "metadata": {
        "jupyter": {
          "source_hidden": false,
          "outputs_hidden": false
        },
        "nteract": {
          "transient": {
            "deleting": false
          }
        },
        "gather": {
          "logged": 1708255340997
        }
      }
    },
    {
      "cell_type": "code",
      "source": [
        "# independent var\n",
        "x = sdf[['Commodity', 'Market Name', 'Variety', 'Arrivals (Tonnes)','Modal Price (Rs/Quintal)']]"
      ],
      "outputs": [],
      "execution_count": 39,
      "metadata": {
        "jupyter": {
          "source_hidden": false,
          "outputs_hidden": false
        },
        "nteract": {
          "transient": {
            "deleting": false
          }
        },
        "gather": {
          "logged": 1708256361582
        }
      }
    },
    {
      "cell_type": "code",
      "source": [
        "# dependent var state\n",
        "sy = sdf[\"State Name\"] "
      ],
      "outputs": [],
      "execution_count": 40,
      "metadata": {
        "jupyter": {
          "source_hidden": false,
          "outputs_hidden": false
        },
        "nteract": {
          "transient": {
            "deleting": false
          }
        },
        "gather": {
          "logged": 1708256364486
        }
      }
    },
    {
      "cell_type": "code",
      "source": [
        "dy = sdf[\"District Name\"]"
      ],
      "outputs": [],
      "execution_count": 41,
      "metadata": {
        "jupyter": {
          "source_hidden": false,
          "outputs_hidden": false
        },
        "nteract": {
          "transient": {
            "deleting": false
          }
        },
        "gather": {
          "logged": 1708256367871
        }
      }
    },
    {
      "cell_type": "code",
      "source": [
        "sdf[\"Commodity\"].nunique()"
      ],
      "outputs": [
        {
          "output_type": "execute_result",
          "execution_count": 20,
          "data": {
            "text/plain": "211"
          },
          "metadata": {}
        }
      ],
      "execution_count": 20,
      "metadata": {
        "jupyter": {
          "source_hidden": false,
          "outputs_hidden": false
        },
        "nteract": {
          "transient": {
            "deleting": false
          }
        },
        "gather": {
          "logged": 1708255343513
        }
      }
    },
    {
      "cell_type": "code",
      "source": [
        "x = pd.get_dummies(x)"
      ],
      "outputs": [],
      "execution_count": 42,
      "metadata": {
        "jupyter": {
          "source_hidden": false,
          "outputs_hidden": false
        },
        "nteract": {
          "transient": {
            "deleting": false
          }
        },
        "gather": {
          "logged": 1708256373431
        }
      }
    },
    {
      "cell_type": "code",
      "source": [
        "from sklearn.model_selection import train_test_split"
      ],
      "outputs": [],
      "execution_count": 22,
      "metadata": {
        "jupyter": {
          "source_hidden": false,
          "outputs_hidden": false
        },
        "nteract": {
          "transient": {
            "deleting": false
          }
        },
        "gather": {
          "logged": 1708255344861
        }
      }
    },
    {
      "cell_type": "code",
      "source": [
        "x_train, x_test, y_train, y_test = train_test_split(x, sy, test_size=0.2, random_state=42)"
      ],
      "outputs": [],
      "execution_count": 43,
      "metadata": {
        "jupyter": {
          "source_hidden": false,
          "outputs_hidden": false
        },
        "nteract": {
          "transient": {
            "deleting": false
          }
        },
        "gather": {
          "logged": 1708256377987
        }
      }
    },
    {
      "cell_type": "code",
      "source": [
        "from sklearn.ensemble import RandomForestClassifier"
      ],
      "outputs": [],
      "execution_count": 44,
      "metadata": {
        "jupyter": {
          "source_hidden": false,
          "outputs_hidden": false
        },
        "nteract": {
          "transient": {
            "deleting": false
          }
        },
        "gather": {
          "logged": 1708256380394
        }
      }
    },
    {
      "cell_type": "code",
      "source": [
        "classifier_state = RandomForestClassifier(n_estimators=100, random_state=42)"
      ],
      "outputs": [],
      "execution_count": 45,
      "metadata": {
        "jupyter": {
          "source_hidden": false,
          "outputs_hidden": false
        },
        "nteract": {
          "transient": {
            "deleting": false
          }
        },
        "gather": {
          "logged": 1708256382847
        }
      }
    },
    {
      "cell_type": "code",
      "source": [
        "classifier_state.fit(x_train, y_train)"
      ],
      "outputs": [
        {
          "output_type": "execute_result",
          "execution_count": 46,
          "data": {
            "text/plain": "RandomForestClassifier(random_state=42)",
            "text/html": "<style>#sk-container-id-3 {color: black;background-color: white;}#sk-container-id-3 pre{padding: 0;}#sk-container-id-3 div.sk-toggleable {background-color: white;}#sk-container-id-3 label.sk-toggleable__label {cursor: pointer;display: block;width: 100%;margin-bottom: 0;padding: 0.3em;box-sizing: border-box;text-align: center;}#sk-container-id-3 label.sk-toggleable__label-arrow:before {content: \"▸\";float: left;margin-right: 0.25em;color: #696969;}#sk-container-id-3 label.sk-toggleable__label-arrow:hover:before {color: black;}#sk-container-id-3 div.sk-estimator:hover label.sk-toggleable__label-arrow:before {color: black;}#sk-container-id-3 div.sk-toggleable__content {max-height: 0;max-width: 0;overflow: hidden;text-align: left;background-color: #f0f8ff;}#sk-container-id-3 div.sk-toggleable__content pre {margin: 0.2em;color: black;border-radius: 0.25em;background-color: #f0f8ff;}#sk-container-id-3 input.sk-toggleable__control:checked~div.sk-toggleable__content {max-height: 200px;max-width: 100%;overflow: auto;}#sk-container-id-3 input.sk-toggleable__control:checked~label.sk-toggleable__label-arrow:before {content: \"▾\";}#sk-container-id-3 div.sk-estimator input.sk-toggleable__control:checked~label.sk-toggleable__label {background-color: #d4ebff;}#sk-container-id-3 div.sk-label input.sk-toggleable__control:checked~label.sk-toggleable__label {background-color: #d4ebff;}#sk-container-id-3 input.sk-hidden--visually {border: 0;clip: rect(1px 1px 1px 1px);clip: rect(1px, 1px, 1px, 1px);height: 1px;margin: -1px;overflow: hidden;padding: 0;position: absolute;width: 1px;}#sk-container-id-3 div.sk-estimator {font-family: monospace;background-color: #f0f8ff;border: 1px dotted black;border-radius: 0.25em;box-sizing: border-box;margin-bottom: 0.5em;}#sk-container-id-3 div.sk-estimator:hover {background-color: #d4ebff;}#sk-container-id-3 div.sk-parallel-item::after {content: \"\";width: 100%;border-bottom: 1px solid gray;flex-grow: 1;}#sk-container-id-3 div.sk-label:hover label.sk-toggleable__label {background-color: #d4ebff;}#sk-container-id-3 div.sk-serial::before {content: \"\";position: absolute;border-left: 1px solid gray;box-sizing: border-box;top: 0;bottom: 0;left: 50%;z-index: 0;}#sk-container-id-3 div.sk-serial {display: flex;flex-direction: column;align-items: center;background-color: white;padding-right: 0.2em;padding-left: 0.2em;position: relative;}#sk-container-id-3 div.sk-item {position: relative;z-index: 1;}#sk-container-id-3 div.sk-parallel {display: flex;align-items: stretch;justify-content: center;background-color: white;position: relative;}#sk-container-id-3 div.sk-item::before, #sk-container-id-3 div.sk-parallel-item::before {content: \"\";position: absolute;border-left: 1px solid gray;box-sizing: border-box;top: 0;bottom: 0;left: 50%;z-index: -1;}#sk-container-id-3 div.sk-parallel-item {display: flex;flex-direction: column;z-index: 1;position: relative;background-color: white;}#sk-container-id-3 div.sk-parallel-item:first-child::after {align-self: flex-end;width: 50%;}#sk-container-id-3 div.sk-parallel-item:last-child::after {align-self: flex-start;width: 50%;}#sk-container-id-3 div.sk-parallel-item:only-child::after {width: 0;}#sk-container-id-3 div.sk-dashed-wrapped {border: 1px dashed gray;margin: 0 0.4em 0.5em 0.4em;box-sizing: border-box;padding-bottom: 0.4em;background-color: white;}#sk-container-id-3 div.sk-label label {font-family: monospace;font-weight: bold;display: inline-block;line-height: 1.2em;}#sk-container-id-3 div.sk-label-container {text-align: center;}#sk-container-id-3 div.sk-container {/* jupyter's `normalize.less` sets `[hidden] { display: none; }` but bootstrap.min.css set `[hidden] { display: none !important; }` so we also need the `!important` here to be able to override the default hidden behavior on the sphinx rendered scikit-learn.org. See: https://github.com/scikit-learn/scikit-learn/issues/21755 */display: inline-block !important;position: relative;}#sk-container-id-3 div.sk-text-repr-fallback {display: none;}</style><div id=\"sk-container-id-3\" class=\"sk-top-container\"><div class=\"sk-text-repr-fallback\"><pre>RandomForestClassifier(random_state=42)</pre><b>In a Jupyter environment, please rerun this cell to show the HTML representation or trust the notebook. <br />On GitHub, the HTML representation is unable to render, please try loading this page with nbviewer.org.</b></div><div class=\"sk-container\" hidden><div class=\"sk-item\"><div class=\"sk-estimator sk-toggleable\"><input class=\"sk-toggleable__control sk-hidden--visually\" id=\"sk-estimator-id-3\" type=\"checkbox\" checked><label for=\"sk-estimator-id-3\" class=\"sk-toggleable__label sk-toggleable__label-arrow\">RandomForestClassifier</label><div class=\"sk-toggleable__content\"><pre>RandomForestClassifier(random_state=42)</pre></div></div></div></div></div>"
          },
          "metadata": {}
        }
      ],
      "execution_count": 46,
      "metadata": {
        "jupyter": {
          "source_hidden": false,
          "outputs_hidden": false
        },
        "nteract": {
          "transient": {
            "deleting": false
          }
        },
        "gather": {
          "logged": 1708256398309
        }
      }
    },
    {
      "cell_type": "code",
      "source": [
        "accuracys = classifier_state.score(x_test, y_test)\n",
        "print(\"State accuracy:\", accuracys)"
      ],
      "outputs": [
        {
          "output_type": "stream",
          "name": "stdout",
          "text": "State accuracy: 0.6635\n"
        }
      ],
      "execution_count": 48,
      "metadata": {
        "jupyter": {
          "source_hidden": false,
          "outputs_hidden": false
        },
        "nteract": {
          "transient": {
            "deleting": false
          }
        },
        "gather": {
          "logged": 1708256462342
        }
      }
    },
    {
      "cell_type": "code",
      "source": [
        "x_traind, x_testd, y_traind, y_testd = train_test_split(x, dy, test_size=0.2, random_state=42)\n"
      ],
      "outputs": [],
      "execution_count": 49,
      "metadata": {
        "jupyter": {
          "source_hidden": false,
          "outputs_hidden": false
        },
        "nteract": {
          "transient": {
            "deleting": false
          }
        },
        "gather": {
          "logged": 1708256467051
        }
      }
    },
    {
      "cell_type": "code",
      "source": [
        "classifier_district = RandomForestClassifier(n_estimators=100, random_state=42)"
      ],
      "outputs": [],
      "execution_count": 50,
      "metadata": {
        "jupyter": {
          "source_hidden": false,
          "outputs_hidden": false
        },
        "nteract": {
          "transient": {
            "deleting": false
          }
        },
        "gather": {
          "logged": 1708256470984
        }
      }
    },
    {
      "cell_type": "code",
      "source": [
        "classifier_district.fit(x_traind, y_traind)"
      ],
      "outputs": [
        {
          "output_type": "execute_result",
          "execution_count": 51,
          "data": {
            "text/plain": "RandomForestClassifier(random_state=42)",
            "text/html": "<style>#sk-container-id-4 {color: black;background-color: white;}#sk-container-id-4 pre{padding: 0;}#sk-container-id-4 div.sk-toggleable {background-color: white;}#sk-container-id-4 label.sk-toggleable__label {cursor: pointer;display: block;width: 100%;margin-bottom: 0;padding: 0.3em;box-sizing: border-box;text-align: center;}#sk-container-id-4 label.sk-toggleable__label-arrow:before {content: \"▸\";float: left;margin-right: 0.25em;color: #696969;}#sk-container-id-4 label.sk-toggleable__label-arrow:hover:before {color: black;}#sk-container-id-4 div.sk-estimator:hover label.sk-toggleable__label-arrow:before {color: black;}#sk-container-id-4 div.sk-toggleable__content {max-height: 0;max-width: 0;overflow: hidden;text-align: left;background-color: #f0f8ff;}#sk-container-id-4 div.sk-toggleable__content pre {margin: 0.2em;color: black;border-radius: 0.25em;background-color: #f0f8ff;}#sk-container-id-4 input.sk-toggleable__control:checked~div.sk-toggleable__content {max-height: 200px;max-width: 100%;overflow: auto;}#sk-container-id-4 input.sk-toggleable__control:checked~label.sk-toggleable__label-arrow:before {content: \"▾\";}#sk-container-id-4 div.sk-estimator input.sk-toggleable__control:checked~label.sk-toggleable__label {background-color: #d4ebff;}#sk-container-id-4 div.sk-label input.sk-toggleable__control:checked~label.sk-toggleable__label {background-color: #d4ebff;}#sk-container-id-4 input.sk-hidden--visually {border: 0;clip: rect(1px 1px 1px 1px);clip: rect(1px, 1px, 1px, 1px);height: 1px;margin: -1px;overflow: hidden;padding: 0;position: absolute;width: 1px;}#sk-container-id-4 div.sk-estimator {font-family: monospace;background-color: #f0f8ff;border: 1px dotted black;border-radius: 0.25em;box-sizing: border-box;margin-bottom: 0.5em;}#sk-container-id-4 div.sk-estimator:hover {background-color: #d4ebff;}#sk-container-id-4 div.sk-parallel-item::after {content: \"\";width: 100%;border-bottom: 1px solid gray;flex-grow: 1;}#sk-container-id-4 div.sk-label:hover label.sk-toggleable__label {background-color: #d4ebff;}#sk-container-id-4 div.sk-serial::before {content: \"\";position: absolute;border-left: 1px solid gray;box-sizing: border-box;top: 0;bottom: 0;left: 50%;z-index: 0;}#sk-container-id-4 div.sk-serial {display: flex;flex-direction: column;align-items: center;background-color: white;padding-right: 0.2em;padding-left: 0.2em;position: relative;}#sk-container-id-4 div.sk-item {position: relative;z-index: 1;}#sk-container-id-4 div.sk-parallel {display: flex;align-items: stretch;justify-content: center;background-color: white;position: relative;}#sk-container-id-4 div.sk-item::before, #sk-container-id-4 div.sk-parallel-item::before {content: \"\";position: absolute;border-left: 1px solid gray;box-sizing: border-box;top: 0;bottom: 0;left: 50%;z-index: -1;}#sk-container-id-4 div.sk-parallel-item {display: flex;flex-direction: column;z-index: 1;position: relative;background-color: white;}#sk-container-id-4 div.sk-parallel-item:first-child::after {align-self: flex-end;width: 50%;}#sk-container-id-4 div.sk-parallel-item:last-child::after {align-self: flex-start;width: 50%;}#sk-container-id-4 div.sk-parallel-item:only-child::after {width: 0;}#sk-container-id-4 div.sk-dashed-wrapped {border: 1px dashed gray;margin: 0 0.4em 0.5em 0.4em;box-sizing: border-box;padding-bottom: 0.4em;background-color: white;}#sk-container-id-4 div.sk-label label {font-family: monospace;font-weight: bold;display: inline-block;line-height: 1.2em;}#sk-container-id-4 div.sk-label-container {text-align: center;}#sk-container-id-4 div.sk-container {/* jupyter's `normalize.less` sets `[hidden] { display: none; }` but bootstrap.min.css set `[hidden] { display: none !important; }` so we also need the `!important` here to be able to override the default hidden behavior on the sphinx rendered scikit-learn.org. See: https://github.com/scikit-learn/scikit-learn/issues/21755 */display: inline-block !important;position: relative;}#sk-container-id-4 div.sk-text-repr-fallback {display: none;}</style><div id=\"sk-container-id-4\" class=\"sk-top-container\"><div class=\"sk-text-repr-fallback\"><pre>RandomForestClassifier(random_state=42)</pre><b>In a Jupyter environment, please rerun this cell to show the HTML representation or trust the notebook. <br />On GitHub, the HTML representation is unable to render, please try loading this page with nbviewer.org.</b></div><div class=\"sk-container\" hidden><div class=\"sk-item\"><div class=\"sk-estimator sk-toggleable\"><input class=\"sk-toggleable__control sk-hidden--visually\" id=\"sk-estimator-id-4\" type=\"checkbox\" checked><label for=\"sk-estimator-id-4\" class=\"sk-toggleable__label sk-toggleable__label-arrow\">RandomForestClassifier</label><div class=\"sk-toggleable__content\"><pre>RandomForestClassifier(random_state=42)</pre></div></div></div></div></div>"
          },
          "metadata": {}
        }
      ],
      "execution_count": 51,
      "metadata": {
        "jupyter": {
          "source_hidden": false,
          "outputs_hidden": false
        },
        "nteract": {
          "transient": {
            "deleting": false
          }
        },
        "gather": {
          "logged": 1708256501823
        }
      }
    },
    {
      "cell_type": "code",
      "source": [
        "accuracyd = classifier_district.score(x_testd, y_testd)\n",
        "print(\"District accuracy:\", accuracyd)"
      ],
      "outputs": [
        {
          "output_type": "stream",
          "name": "stdout",
          "text": "District accuracy: 0.83\n"
        }
      ],
      "execution_count": 52,
      "metadata": {
        "jupyter": {
          "source_hidden": false,
          "outputs_hidden": false
        },
        "nteract": {
          "transient": {
            "deleting": false
          }
        },
        "gather": {
          "logged": 1708256502666
        }
      }
    }
  ],
  "metadata": {
    "kernelspec": {
      "name": "python310-sdkv2",
      "language": "python",
      "display_name": "Python 3.10 - SDK v2"
    },
    "language_info": {
      "name": "python",
      "version": "3.10.11",
      "mimetype": "text/x-python",
      "codemirror_mode": {
        "name": "ipython",
        "version": 3
      },
      "pygments_lexer": "ipython3",
      "nbconvert_exporter": "python",
      "file_extension": ".py"
    },
    "microsoft": {
      "ms_spell_check": {
        "ms_spell_check_language": "en"
      }
    },
    "kernel_info": {
      "name": "python310-sdkv2"
    },
    "nteract": {
      "version": "nteract-front-end@1.0.0"
    }
  },
  "nbformat": 4,
  "nbformat_minor": 2
}