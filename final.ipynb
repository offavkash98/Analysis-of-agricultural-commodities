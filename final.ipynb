{
  "cells": [
    {
      "cell_type": "code",
      "source": [
        "import numpy as np\n",
        "import pandas as pd\n",
        "from pandas import Series ,DataFrame\n",
        "\n",
        "file_path=\"azureml://subscriptions/4f93438e-847c-469d-94ae-ef5ee130ccab/resourcegroups/project_team14/workspaces/mlnotebook/datastores/testml/paths/Final_Data/part-00000-tid-1107757838746000038-dd6987f9-5526-4378-b9fd-633c8f0e2565-1388-1-c000.csv\""
      ],
      "outputs": [],
      "execution_count": 3,
      "metadata": {
        "gather": {
          "logged": 1708196743991
        }
      }
    },
    {
      "cell_type": "code",
      "source": [
        "df=pd.read_csv(file_path,low_memory=False)"
      ],
      "outputs": [],
      "execution_count": 4,
      "metadata": {
        "jupyter": {
          "source_hidden": false,
          "outputs_hidden": false
        },
        "nteract": {
          "transient": {
            "deleting": false
          }
        },
        "gather": {
          "logged": 1708196821096
        }
      }
    },
    {
      "cell_type": "code",
      "source": [
        "df.head()"
      ],
      "outputs": [
        {
          "output_type": "execute_result",
          "execution_count": 5,
          "data": {
            "text/plain": "  Commodity         State Name District Name         Market Name Variety  \\\n0    Papaya                Goa     North Goa              Mapusa  Papaya   \n1    Papaya  Jammu and Kashmir         Jammu  Narwal Jammu (F&V)   Other   \n2    Papaya       NCT of Delhi         Delhi            Shahdara   Other   \n3    Papaya             Punjab      Bhatinda            Bathinda   Other   \n4    Papaya             Punjab      Ferozpur      Firozepur City   Other   \n\n    Group  Arrivals (Tonnes)  Min Price (Rs/Quintal)  Max Price (Rs/Quintal)  \\\n0  Fruits               1.33                  2400.0                  3600.0   \n1  Fruits              12.00                  1150.0                  1250.0   \n2  Fruits               0.10                   150.0                   300.0   \n3  Fruits               4.50                   400.0                   450.0   \n4  Fruits              10.00                   600.0                   800.0   \n\n   Modal Price (Rs/Quintal) Reported Date  \n0                    3000.0    2003-04-01  \n1                    1200.0    2003-04-01  \n2                     250.0    2003-04-02  \n3                     425.0    2003-04-01  \n4                     700.0    2003-04-02  ",
            "text/html": "<div>\n<style scoped>\n    .dataframe tbody tr th:only-of-type {\n        vertical-align: middle;\n    }\n\n    .dataframe tbody tr th {\n        vertical-align: top;\n    }\n\n    .dataframe thead th {\n        text-align: right;\n    }\n</style>\n<table border=\"1\" class=\"dataframe\">\n  <thead>\n    <tr style=\"text-align: right;\">\n      <th></th>\n      <th>Commodity</th>\n      <th>State Name</th>\n      <th>District Name</th>\n      <th>Market Name</th>\n      <th>Variety</th>\n      <th>Group</th>\n      <th>Arrivals (Tonnes)</th>\n      <th>Min Price (Rs/Quintal)</th>\n      <th>Max Price (Rs/Quintal)</th>\n      <th>Modal Price (Rs/Quintal)</th>\n      <th>Reported Date</th>\n    </tr>\n  </thead>\n  <tbody>\n    <tr>\n      <th>0</th>\n      <td>Papaya</td>\n      <td>Goa</td>\n      <td>North Goa</td>\n      <td>Mapusa</td>\n      <td>Papaya</td>\n      <td>Fruits</td>\n      <td>1.33</td>\n      <td>2400.0</td>\n      <td>3600.0</td>\n      <td>3000.0</td>\n      <td>2003-04-01</td>\n    </tr>\n    <tr>\n      <th>1</th>\n      <td>Papaya</td>\n      <td>Jammu and Kashmir</td>\n      <td>Jammu</td>\n      <td>Narwal Jammu (F&amp;V)</td>\n      <td>Other</td>\n      <td>Fruits</td>\n      <td>12.00</td>\n      <td>1150.0</td>\n      <td>1250.0</td>\n      <td>1200.0</td>\n      <td>2003-04-01</td>\n    </tr>\n    <tr>\n      <th>2</th>\n      <td>Papaya</td>\n      <td>NCT of Delhi</td>\n      <td>Delhi</td>\n      <td>Shahdara</td>\n      <td>Other</td>\n      <td>Fruits</td>\n      <td>0.10</td>\n      <td>150.0</td>\n      <td>300.0</td>\n      <td>250.0</td>\n      <td>2003-04-02</td>\n    </tr>\n    <tr>\n      <th>3</th>\n      <td>Papaya</td>\n      <td>Punjab</td>\n      <td>Bhatinda</td>\n      <td>Bathinda</td>\n      <td>Other</td>\n      <td>Fruits</td>\n      <td>4.50</td>\n      <td>400.0</td>\n      <td>450.0</td>\n      <td>425.0</td>\n      <td>2003-04-01</td>\n    </tr>\n    <tr>\n      <th>4</th>\n      <td>Papaya</td>\n      <td>Punjab</td>\n      <td>Ferozpur</td>\n      <td>Firozepur City</td>\n      <td>Other</td>\n      <td>Fruits</td>\n      <td>10.00</td>\n      <td>600.0</td>\n      <td>800.0</td>\n      <td>700.0</td>\n      <td>2003-04-02</td>\n    </tr>\n  </tbody>\n</table>\n</div>"
          },
          "metadata": {}
        }
      ],
      "execution_count": 5,
      "metadata": {
        "jupyter": {
          "source_hidden": false,
          "outputs_hidden": false
        },
        "nteract": {
          "transient": {
            "deleting": false
          }
        },
        "gather": {
          "logged": 1708196821314
        }
      }
    },
    {
      "cell_type": "code",
      "source": [
        "df.shape"
      ],
      "outputs": [
        {
          "output_type": "execute_result",
          "execution_count": 6,
          "data": {
            "text/plain": "(51729422, 11)"
          },
          "metadata": {}
        }
      ],
      "execution_count": 6,
      "metadata": {
        "jupyter": {
          "source_hidden": false,
          "outputs_hidden": false
        },
        "nteract": {
          "transient": {
            "deleting": false
          }
        },
        "gather": {
          "logged": 1708196826005
        }
      }
    },
    {
      "cell_type": "code",
      "source": [
        "df[\"Reported Date\"] = pd.to_datetime(df[\"Reported Date\"])"
      ],
      "outputs": [],
      "execution_count": 7,
      "metadata": {
        "jupyter": {
          "source_hidden": false,
          "outputs_hidden": false
        },
        "nteract": {
          "transient": {
            "deleting": false
          }
        },
        "gather": {
          "logged": 1708196834293
        }
      }
    },
    {
      "cell_type": "code",
      "source": [
        "df2 = df.copy()"
      ],
      "outputs": [],
      "execution_count": 8,
      "metadata": {
        "jupyter": {
          "source_hidden": false,
          "outputs_hidden": false
        },
        "nteract": {
          "transient": {
            "deleting": false
          }
        },
        "gather": {
          "logged": 1708196839306
        }
      }
    },
    {
      "cell_type": "code",
      "source": [
        "garr = df2.groupby(\"Commodity\").agg(avg_arrival=('Arrivals (Tonnes)', 'mean')).round(2)\n",
        "\n",
        "tarr = garr['avg_arrival'].sum()\n",
        "\n",
        "avgarr = garr.assign(percentage=lambda x: (x['avg_arrival'] / tarr) * 100)\n",
        "\n",
        "ranks = avgarr.sort_values(by='percentage', ascending=False)\n",
        "\n",
        "print(ranks)"
      ],
      "outputs": [
        {
          "output_type": "stream",
          "name": "stdout",
          "text": "                     avg_arrival  percentage\nCommodity                                   \nGladiolusCutFlower        695.04    6.146037\nJaffri                    681.43    6.025688\nRoseLocal                 660.00    5.836189\nLilly                     550.00    4.863491\nMarget                    542.52    4.797347\n...                          ...         ...\nMaragensu                   1.00    0.008843\nRatTailRadishMogari         1.00    0.008843\nLukad                       0.63    0.005571\nGramflour                   0.43    0.003802\nJamamkhan                   0.24    0.002122\n\n[297 rows x 2 columns]\n"
        }
      ],
      "execution_count": 9,
      "metadata": {
        "jupyter": {
          "source_hidden": false,
          "outputs_hidden": false
        },
        "nteract": {
          "transient": {
            "deleting": false
          }
        },
        "gather": {
          "logged": 1708196845288
        }
      }
    },
    {
      "cell_type": "code",
      "source": [
        "newcols = ranks.head(25)\n",
        "newcols"
      ],
      "outputs": [
        {
          "output_type": "execute_result",
          "execution_count": 10,
          "data": {
            "text/plain": "                       avg_arrival  percentage\nCommodity                                     \nGladiolusCutFlower          695.04    6.146037\nJaffri                      681.43    6.025688\nRoseLocal                   660.00    5.836189\nLilly                       550.00    4.863491\nMarget                      542.52    4.797347\nTenderCoconut               342.72    3.030574\nRoseLoose                   269.17    2.380192\nHen                         248.86    2.200597\nBamboo                      237.50    2.100144\nTubeRoseSingle              225.00    1.989610\nChrysanthemumLoose          224.25    1.982978\nBroomstickFlowerBroom       215.50    1.905604\nCarnation                   200.00    1.768542\nPaddyDhanBasmati            183.67    1.624141\nTubeFlower                  144.44    1.277241\nEgg                         129.93    1.148933\nCock                        122.29    1.081375\nCottonSeed                  121.37    1.073240\nSkinAndHide                 120.00    1.061125\nCoconut                     105.82    0.935736\nWood                        105.16    0.929899\nCotton                      103.13    0.911949\nDailaChandni                101.06    0.893644\nMyrobolanHarad               98.10    0.867470\nTubeRoseLoose                94.74    0.837758",
            "text/html": "<div>\n<style scoped>\n    .dataframe tbody tr th:only-of-type {\n        vertical-align: middle;\n    }\n\n    .dataframe tbody tr th {\n        vertical-align: top;\n    }\n\n    .dataframe thead th {\n        text-align: right;\n    }\n</style>\n<table border=\"1\" class=\"dataframe\">\n  <thead>\n    <tr style=\"text-align: right;\">\n      <th></th>\n      <th>avg_arrival</th>\n      <th>percentage</th>\n    </tr>\n    <tr>\n      <th>Commodity</th>\n      <th></th>\n      <th></th>\n    </tr>\n  </thead>\n  <tbody>\n    <tr>\n      <th>GladiolusCutFlower</th>\n      <td>695.04</td>\n      <td>6.146037</td>\n    </tr>\n    <tr>\n      <th>Jaffri</th>\n      <td>681.43</td>\n      <td>6.025688</td>\n    </tr>\n    <tr>\n      <th>RoseLocal</th>\n      <td>660.00</td>\n      <td>5.836189</td>\n    </tr>\n    <tr>\n      <th>Lilly</th>\n      <td>550.00</td>\n      <td>4.863491</td>\n    </tr>\n    <tr>\n      <th>Marget</th>\n      <td>542.52</td>\n      <td>4.797347</td>\n    </tr>\n    <tr>\n      <th>TenderCoconut</th>\n      <td>342.72</td>\n      <td>3.030574</td>\n    </tr>\n    <tr>\n      <th>RoseLoose</th>\n      <td>269.17</td>\n      <td>2.380192</td>\n    </tr>\n    <tr>\n      <th>Hen</th>\n      <td>248.86</td>\n      <td>2.200597</td>\n    </tr>\n    <tr>\n      <th>Bamboo</th>\n      <td>237.50</td>\n      <td>2.100144</td>\n    </tr>\n    <tr>\n      <th>TubeRoseSingle</th>\n      <td>225.00</td>\n      <td>1.989610</td>\n    </tr>\n    <tr>\n      <th>ChrysanthemumLoose</th>\n      <td>224.25</td>\n      <td>1.982978</td>\n    </tr>\n    <tr>\n      <th>BroomstickFlowerBroom</th>\n      <td>215.50</td>\n      <td>1.905604</td>\n    </tr>\n    <tr>\n      <th>Carnation</th>\n      <td>200.00</td>\n      <td>1.768542</td>\n    </tr>\n    <tr>\n      <th>PaddyDhanBasmati</th>\n      <td>183.67</td>\n      <td>1.624141</td>\n    </tr>\n    <tr>\n      <th>TubeFlower</th>\n      <td>144.44</td>\n      <td>1.277241</td>\n    </tr>\n    <tr>\n      <th>Egg</th>\n      <td>129.93</td>\n      <td>1.148933</td>\n    </tr>\n    <tr>\n      <th>Cock</th>\n      <td>122.29</td>\n      <td>1.081375</td>\n    </tr>\n    <tr>\n      <th>CottonSeed</th>\n      <td>121.37</td>\n      <td>1.073240</td>\n    </tr>\n    <tr>\n      <th>SkinAndHide</th>\n      <td>120.00</td>\n      <td>1.061125</td>\n    </tr>\n    <tr>\n      <th>Coconut</th>\n      <td>105.82</td>\n      <td>0.935736</td>\n    </tr>\n    <tr>\n      <th>Wood</th>\n      <td>105.16</td>\n      <td>0.929899</td>\n    </tr>\n    <tr>\n      <th>Cotton</th>\n      <td>103.13</td>\n      <td>0.911949</td>\n    </tr>\n    <tr>\n      <th>DailaChandni</th>\n      <td>101.06</td>\n      <td>0.893644</td>\n    </tr>\n    <tr>\n      <th>MyrobolanHarad</th>\n      <td>98.10</td>\n      <td>0.867470</td>\n    </tr>\n    <tr>\n      <th>TubeRoseLoose</th>\n      <td>94.74</td>\n      <td>0.837758</td>\n    </tr>\n  </tbody>\n</table>\n</div>"
          },
          "metadata": {}
        }
      ],
      "execution_count": 10,
      "metadata": {
        "jupyter": {
          "source_hidden": false,
          "outputs_hidden": false
        },
        "nteract": {
          "transient": {
            "deleting": false
          }
        },
        "gather": {
          "logged": 1708196850808
        }
      }
    },
    {
      "cell_type": "code",
      "source": [
        "cols =['GladiolusCutFlower', 'Jaffri', 'RoseLocal', 'Lilly', 'Marget',\n",
        "       'TenderCoconut', 'RoseLoose', 'Hen', 'Bamboo', 'TubeRoseSingle',\n",
        "       'ChrysanthemumLoose', 'BroomstickFlowerBroom', 'Carnation',\n",
        "       'PaddyDhanBasmati', 'TubeFlower', 'Egg', 'Cock', 'CottonSeed',\n",
        "       'SkinAndHide', 'Coconut', 'Wood', 'Cotton', 'DailaChandni',\n",
        "       'MyrobolanHarad', 'TubeRoseLoose']\n",
        "top = newcols.index.tolist()\n",
        "\n",
        "df2 = df2[df2['Commodity'].isin(top)].copy()"
      ],
      "outputs": [],
      "execution_count": 11,
      "metadata": {
        "jupyter": {
          "source_hidden": false,
          "outputs_hidden": false
        },
        "nteract": {
          "transient": {
            "deleting": false
          }
        },
        "gather": {
          "logged": 1708196860128
        }
      }
    },
    {
      "cell_type": "code",
      "source": [
        "df2.shape"
      ],
      "outputs": [
        {
          "output_type": "execute_result",
          "execution_count": 12,
          "data": {
            "text/plain": "(1206553, 11)"
          },
          "metadata": {}
        }
      ],
      "execution_count": 12,
      "metadata": {
        "jupyter": {
          "source_hidden": false,
          "outputs_hidden": false
        },
        "nteract": {
          "transient": {
            "deleting": false
          }
        },
        "gather": {
          "logged": 1708196863738
        }
      }
    },
    {
      "cell_type": "code",
      "source": [
        "df2.dtypes"
      ],
      "outputs": [
        {
          "output_type": "execute_result",
          "execution_count": 17,
          "data": {
            "text/plain": "Commodity                           object\nState Name                          object\nDistrict Name                       object\nMarket Name                         object\nVariety                             object\nGroup                               object\nArrivals (Tonnes)                  float64\nMin Price (Rs/Quintal)             float64\nMax Price (Rs/Quintal)             float64\nModal Price (Rs/Quintal)           float64\nReported Date               datetime64[ns]\ndtype: object"
          },
          "metadata": {}
        }
      ],
      "execution_count": 17,
      "metadata": {
        "jupyter": {
          "source_hidden": false,
          "outputs_hidden": false
        },
        "nteract": {
          "transient": {
            "deleting": false
          }
        },
        "gather": {
          "logged": 1708197157446
        }
      }
    },
    {
      "cell_type": "code",
      "source": [
        "df2['Commodity'].nunique()"
      ],
      "outputs": [
        {
          "output_type": "execute_result",
          "execution_count": 18,
          "data": {
            "text/plain": "25"
          },
          "metadata": {}
        }
      ],
      "execution_count": 18,
      "metadata": {
        "jupyter": {
          "source_hidden": false,
          "outputs_hidden": false
        },
        "nteract": {
          "transient": {
            "deleting": false
          }
        },
        "gather": {
          "logged": 1708197703455
        }
      }
    },
    {
      "cell_type": "code",
      "source": [
        "df2['State Name'].nunique()"
      ],
      "outputs": [
        {
          "output_type": "execute_result",
          "execution_count": 19,
          "data": {
            "text/plain": "30"
          },
          "metadata": {}
        }
      ],
      "execution_count": 19,
      "metadata": {
        "jupyter": {
          "source_hidden": false,
          "outputs_hidden": false
        },
        "nteract": {
          "transient": {
            "deleting": false
          }
        },
        "gather": {
          "logged": 1708197763076
        }
      }
    },
    {
      "cell_type": "code",
      "source": [
        "df2['District Name'].nunique()"
      ],
      "outputs": [
        {
          "output_type": "execute_result",
          "execution_count": 20,
          "data": {
            "text/plain": "373"
          },
          "metadata": {}
        }
      ],
      "execution_count": 20,
      "metadata": {
        "jupyter": {
          "source_hidden": false,
          "outputs_hidden": false
        },
        "nteract": {
          "transient": {
            "deleting": false
          }
        },
        "gather": {
          "logged": 1708197825963
        }
      }
    },
    {
      "cell_type": "code",
      "source": [
        "df2['Market Name'].nunique()"
      ],
      "outputs": [
        {
          "output_type": "execute_result",
          "execution_count": 21,
          "data": {
            "text/plain": "1558"
          },
          "metadata": {}
        }
      ],
      "execution_count": 21,
      "metadata": {
        "jupyter": {
          "source_hidden": false,
          "outputs_hidden": false
        },
        "nteract": {
          "transient": {
            "deleting": false
          }
        },
        "gather": {
          "logged": 1708197910624
        }
      }
    },
    {
      "cell_type": "code",
      "source": [
        "df2['Market Name'].nunique()"
      ],
      "outputs": [
        {
          "output_type": "execute_result",
          "execution_count": 22,
          "data": {
            "text/plain": "1558"
          },
          "metadata": {}
        }
      ],
      "execution_count": 22,
      "metadata": {
        "jupyter": {
          "source_hidden": false,
          "outputs_hidden": false
        },
        "nteract": {
          "transient": {
            "deleting": false
          }
        },
        "gather": {
          "logged": 1708197925700
        }
      }
    },
    {
      "cell_type": "code",
      "source": [
        "df2['Group'].nunique()"
      ],
      "outputs": [
        {
          "output_type": "execute_result",
          "execution_count": 23,
          "data": {
            "text/plain": "10"
          },
          "metadata": {}
        }
      ],
      "execution_count": 23,
      "metadata": {
        "jupyter": {
          "source_hidden": false,
          "outputs_hidden": false
        },
        "nteract": {
          "transient": {
            "deleting": false
          }
        },
        "gather": {
          "logged": 1708197991930
        }
      }
    },
    {
      "cell_type": "code",
      "source": [
        "df2['season'] = ''\n",
        "\n",
        "for index, date in enumerate(df2[\"Reported Date\"]):\n",
        "    month = date.month\n",
        "    \n",
        "    if month in [1, 2, 11, 12]:\n",
        "        df2.at[index, 'season'] = \"Winter\"\n",
        "    elif month in [3, 4]:\n",
        "        df2.at[index, 'season'] = \"Spring\"\n",
        "    elif month in [5, 6]:\n",
        "        df2.at[index, 'season'] = \"Summer\"\n",
        "    elif month in [7, 8]:\n",
        "        df2.at[index, 'season'] = \"Monsoon\"\n",
        "    elif month in [9, 10]:\n",
        "        df2.at[index, 'season'] = \"Autumn\""
      ],
      "outputs": [],
      "execution_count": null,
      "metadata": {
        "jupyter": {
          "source_hidden": false,
          "outputs_hidden": false
        },
        "nteract": {
          "transient": {
            "deleting": false
          }
        },
        "gather": {
          "logged": 1708195986775
        }
      }
    },
    {
      "cell_type": "code",
      "source": [
        "import pandas as pd\n",
        "\n",
        "sample = 0.1\n",
        "\n",
        "sampled_df = df2.sample(frac=sample, random_state=42)\n",
        "\n",
        "print(f\"Shape of Sampled DataFrame: {sampled_df.shape}\")"
      ],
      "outputs": [
        {
          "output_type": "stream",
          "name": "stdout",
          "text": "Shape of Sampled DataFrame: (120655, 11)\n"
        }
      ],
      "execution_count": 51,
      "metadata": {
        "jupyter": {
          "source_hidden": false,
          "outputs_hidden": false
        },
        "nteract": {
          "transient": {
            "deleting": false
          }
        },
        "gather": {
          "logged": 1708202554795
        }
      }
    },
    {
      "cell_type": "code",
      "source": [
        "import pandas as pd\n",
        "from sklearn.model_selection import train_test_split\n",
        "from sklearn.ensemble import RandomForestRegressor\n",
        "from sklearn.preprocessing import LabelEncoder\n",
        "from sklearn.metrics import mean_absolute_error"
      ],
      "outputs": [],
      "execution_count": 25,
      "metadata": {
        "jupyter": {
          "source_hidden": false,
          "outputs_hidden": false
        },
        "nteract": {
          "transient": {
            "deleting": false
          }
        },
        "gather": {
          "logged": 1708198942538
        }
      }
    },
    {
      "cell_type": "code",
      "source": [
        "categorical_columns = ['Commodity', 'State Name', 'District Name', 'Market Name', 'Variety','Group']\n",
        "numerical_columns = ['Arrivals (Tonnes)', 'Min Price (Rs/Quintal)', 'Max Price (Rs/Quintal)', 'Modal Price (Rs/Quintal)']\n",
        "target_variable = 'Max Price (Rs/Quintal)'\n",
        "\n",
        "label_encoder = LabelEncoder()\n",
        "for col in categorical_columns:\n",
        "    sampled_df[col] = label_encoder.fit_transform(sampled_df[col])\n"
      ],
      "outputs": [],
      "execution_count": 52,
      "metadata": {
        "jupyter": {
          "source_hidden": false,
          "outputs_hidden": false
        },
        "nteract": {
          "transient": {
            "deleting": false
          }
        },
        "gather": {
          "logged": 1708202579915
        }
      }
    },
    {
      "cell_type": "code",
      "source": [
        "sampled_df.dtypes"
      ],
      "outputs": [
        {
          "output_type": "execute_result",
          "execution_count": 53,
          "data": {
            "text/plain": "Commodity                            int64\nState Name                           int64\nDistrict Name                        int64\nMarket Name                          int64\nVariety                              int64\nGroup                                int64\nArrivals (Tonnes)                  float64\nMin Price (Rs/Quintal)             float64\nMax Price (Rs/Quintal)             float64\nModal Price (Rs/Quintal)           float64\nReported Date               datetime64[ns]\ndtype: object"
          },
          "metadata": {}
        }
      ],
      "execution_count": 53,
      "metadata": {
        "jupyter": {
          "source_hidden": false,
          "outputs_hidden": false
        },
        "nteract": {
          "transient": {
            "deleting": false
          }
        },
        "gather": {
          "logged": 1708202596897
        }
      }
    },
    {
      "cell_type": "code",
      "source": [
        "test=sampled_df.drop(['Reported Date'],axis=1)\n"
      ],
      "outputs": [],
      "execution_count": 39,
      "metadata": {
        "jupyter": {
          "source_hidden": false,
          "outputs_hidden": false
        },
        "nteract": {
          "transient": {
            "deleting": false
          }
        },
        "gather": {
          "logged": 1708199528019
        }
      }
    },
    {
      "cell_type": "code",
      "source": [
        "test.corr()"
      ],
      "outputs": [
        {
          "output_type": "error",
          "ename": "NameError",
          "evalue": "name 'test' is not defined",
          "traceback": [
            "\u001b[0;31m---------------------------------------------------------------------------\u001b[0m",
            "\u001b[0;31mNameError\u001b[0m                                 Traceback (most recent call last)",
            "Cell \u001b[0;32mIn[1], line 1\u001b[0m\n\u001b[0;32m----> 1\u001b[0m \u001b[43mtest\u001b[49m\u001b[38;5;241m.\u001b[39mcorr()\n",
            "\u001b[0;31mNameError\u001b[0m: name 'test' is not defined"
          ]
        }
      ],
      "execution_count": 1,
      "metadata": {
        "jupyter": {
          "source_hidden": false,
          "outputs_hidden": false
        },
        "nteract": {
          "transient": {
            "deleting": false
          }
        },
        "gather": {
          "logged": 1708255394980
        }
      }
    },
    {
      "cell_type": "code",
      "source": [
        "X = sampled_df[numerical_columns + categorical_columns]\n",
        "y = sampled_df[target_variable]"
      ],
      "outputs": [],
      "execution_count": null,
      "metadata": {
        "jupyter": {
          "source_hidden": false,
          "outputs_hidden": false
        },
        "nteract": {
          "transient": {
            "deleting": false
          }
        },
        "gather": {
          "logged": 1708255395539
        }
      }
    },
    {
      "cell_type": "code",
      "source": [
        "df2.shape"
      ],
      "outputs": [],
      "execution_count": null,
      "metadata": {
        "jupyter": {
          "source_hidden": false,
          "outputs_hidden": false
        },
        "nteract": {
          "transient": {
            "deleting": false
          }
        },
        "gather": {
          "logged": 1708255395596
        }
      }
    },
    {
      "cell_type": "code",
      "source": [
        "x = df2[[\"Commodity\",\"State Name\",\"District Name\",\"Market Name\",\"season\"]]"
      ],
      "outputs": [],
      "execution_count": null,
      "metadata": {
        "jupyter": {
          "source_hidden": false,
          "outputs_hidden": false
        },
        "nteract": {
          "transient": {
            "deleting": false
          }
        },
        "gather": {
          "logged": 1708255395638
        }
      }
    },
    {
      "cell_type": "code",
      "source": [
        "y = df2[[\"Modal Price (Rs/Quintal)\"]]"
      ],
      "outputs": [],
      "execution_count": null,
      "metadata": {
        "jupyter": {
          "source_hidden": false,
          "outputs_hidden": false
        },
        "nteract": {
          "transient": {
            "deleting": false
          }
        },
        "gather": {
          "logged": 1708255395686
        }
      }
    },
    {
      "cell_type": "code",
      "source": [
        "import pandas as pd\n",
        "from sklearn.model_selection import train_test_split\n",
        "from sklearn.ensemble import RandomForestRegressor\n",
        "from sklearn.metrics import mean_absolute_error\n",
        "\n",
        "potential_predictors = ['Arrivals (Tonnes)', 'Variety', 'Group']\n",
        "\n",
        "X = sampled_df[potential_predictors]\n",
        "y = sampled_df['Max Price (Rs/Quintal)']\n",
        "\n",
        "X_train, X_test, y_train, y_test = train_test_split(X, y, test_size=0.2, random_state=42)\n",
        "\n",
        "model = RandomForestRegressor()\n",
        "\n",
        "model.fit(X_train, y_train)\n",
        "\n",
        "predictions = model.predict(X_test)\n",
        "\n",
        "mae = mean_absolute_error(y_test, predictions)\n",
        "print(f'Mean Absolute Error: {mae}')"
      ],
      "outputs": [
        {
          "output_type": "stream",
          "name": "stdout",
          "text": "Mean Absolute Error: 3430.5408215330694\n"
        }
      ],
      "execution_count": 42,
      "metadata": {
        "jupyter": {
          "source_hidden": false,
          "outputs_hidden": false
        },
        "nteract": {
          "transient": {
            "deleting": false
          }
        },
        "gather": {
          "logged": 1708200017777
        }
      }
    },
    {
      "cell_type": "code",
      "source": [
        "from sklearn.model_selection import GridSearchCV\n",
        "\n",
        "param_grid = {\n",
        "    'n_estimators': [50, 100, 200],\n",
        "    'max_depth': [None, 10, 20],\n",
        "    'min_samples_split': [2, 5, 10],\n",
        "    'min_samples_leaf': [1, 2, 4]\n",
        "}\n",
        "\n",
        "grid_search = GridSearchCV(RandomForestRegressor(), param_grid, cv=5, scoring='neg_mean_absolute_error', n_jobs=-1)\n",
        "\n",
        "grid_search.fit(X_train, y_train)\n",
        "\n",
        "best_params = grid_search.best_params_\n",
        "\n",
        "# best hyperparameter values\n",
        "print(\"Best Hyperparameters:\", best_params)\n",
        "\n",
        "best_model = grid_search.best_estimator_\n",
        "best_predictions = best_model.predict(X_test)\n",
        "\n",
        "# Evaluation\n",
        "mae_best_model = mean_absolute_error(y_test, best_predictions)\n",
        "print(f'Mean Absolute Error (Best Model): {mae_best_model}')\n"
      ],
      "outputs": [
        {
          "output_type": "stream",
          "name": "stdout",
          "text": "Best Hyperparameters: {'max_depth': 20, 'min_samples_leaf': 2, 'min_samples_split': 5, 'n_estimators': 200}\nMean Absolute Error (Best Model): 3336.269985217242\n"
        }
      ],
      "execution_count": 44,
      "metadata": {
        "jupyter": {
          "source_hidden": false,
          "outputs_hidden": false
        },
        "nteract": {
          "transient": {
            "deleting": false
          }
        },
        "gather": {
          "logged": 1708201579954
        }
      }
    },
    {
      "cell_type": "markdown",
      "source": [],
      "metadata": {
        "nteract": {
          "transient": {
            "deleting": false
          }
        }
      }
    },
    {
      "cell_type": "code",
      "source": [
        "sampled_df.dtypes\n"
      ],
      "outputs": [
        {
          "output_type": "execute_result",
          "execution_count": 50,
          "data": {
            "text/plain": "Commodity                     int64\nState Name                    int64\nDistrict Name                 int64\nMarket Name                   int64\nVariety                       int64\nGroup                         int64\nArrivals (Tonnes)           float64\nMin Price (Rs/Quintal)      float64\nMax Price (Rs/Quintal)      float64\nModal Price (Rs/Quintal)    float64\ndtype: object"
          },
          "metadata": {}
        }
      ],
      "execution_count": 50,
      "metadata": {
        "jupyter": {
          "source_hidden": false,
          "outputs_hidden": false
        },
        "nteract": {
          "transient": {
            "deleting": false
          }
        },
        "gather": {
          "logged": 1708202428105
        }
      }
    },
    {
      "cell_type": "code",
      "source": [
        "import pandas as pd\n",
        "import numpy as np\n",
        "import matplotlib.pyplot as plt\n",
        "from statsmodels.tsa.arima.model import ARIMA\n",
        "from sklearn.metrics import mean_squared_error\n",
        "from math import sqrt\n",
        "\n",
        "sampled_df.sort_values('Reported Date', inplace=True)\n",
        "sampled_df.set_index('Reported Date', inplace=True)\n",
        "\n",
        "# Extract the target variable\n",
        "y = sampled_df['Max Price (Rs/Quintal)']\n",
        "\n",
        "train_size = int(len(y) * 0.8)\n",
        "train, test = y[0:train_size], y[train_size:]\n",
        "\n",
        "best_mse = float('inf')\n",
        "best_order = None\n",
        "\n",
        "for p in range(1, 6):\n",
        "    for d in range(2):\n",
        "        for q in range(1, 6):\n",
        "            order = (p, d, q)\n",
        "            \n",
        "            # Fit ARIMA model\n",
        "            model = ARIMA(train, order=order)\n",
        "            model_fit = model.fit()\n",
        "\n",
        "            #  predictions\n",
        "            predictions = model_fit.forecast(steps=len(test))\n",
        "\n",
        "            #  MSE\n",
        "            mse = mean_squared_error(test, predictions)\n",
        "\n",
        "            # Update best parameters \n",
        "            if mse < best_mse:\n",
        "                best_mse = mse\n",
        "                best_order = order\n",
        "\n",
        "print(f'Best ARIMA Order: {best_order}')\n",
        "print(f'Best Mean Squared Error (MSE): {best_mse}')\n",
        "\n",
        "best_model = ARIMA(y, order=best_order)\n",
        "best_model_fit = best_model.fit()\n",
        "\n",
        "all_predictions = best_model_fit.forecast(steps=len(y))\n",
        "\n",
        "plt.figure(figsize=(10, 6))\n",
        "plt.plot(y, label='Actual')\n",
        "plt.plot(all_predictions, color='red', label='ARIMA Predictions')\n",
        "plt.title('ARIMA Model Predictions vs Actual')\n",
        "plt.xlabel('Time')\n",
        "plt.ylabel('Max Price (Rs/Quintal)')\n",
        "plt.legend()\n",
        "plt.show()\n"
      ],
      "outputs": [
        {
          "output_type": "stream",
          "name": "stderr",
          "text": "/anaconda/envs/azureml_py310_sdkv2/lib/python3.10/site-packages/statsmodels/tsa/base/tsa_model.py:473: ValueWarning: A date index has been provided, but it has no associated frequency information and so will be ignored when e.g. forecasting.\n  self._init_dates(dates, freq)\n/anaconda/envs/azureml_py310_sdkv2/lib/python3.10/site-packages/statsmodels/tsa/base/tsa_model.py:473: ValueWarning: A date index has been provided, but it has no associated frequency information and so will be ignored when e.g. forecasting.\n  self._init_dates(dates, freq)\n/anaconda/envs/azureml_py310_sdkv2/lib/python3.10/site-packages/statsmodels/tsa/base/tsa_model.py:473: ValueWarning: A date index has been provided, but it has no associated frequency information and so will be ignored when e.g. forecasting.\n  self._init_dates(dates, freq)\n/anaconda/envs/azureml_py310_sdkv2/lib/python3.10/site-packages/statsmodels/tsa/base/tsa_model.py:836: ValueWarning: No supported index is available. Prediction results will be given with an integer index beginning at `start`.\n  return get_prediction_index(\n/anaconda/envs/azureml_py310_sdkv2/lib/python3.10/site-packages/statsmodels/tsa/base/tsa_model.py:836: FutureWarning: No supported index is available. In the next version, calling this method in a model without a supported index will result in an exception.\n  return get_prediction_index(\n/anaconda/envs/azureml_py310_sdkv2/lib/python3.10/site-packages/statsmodels/tsa/base/tsa_model.py:473: ValueWarning: A date index has been provided, but it has no associated frequency information and so will be ignored when e.g. forecasting.\n  self._init_dates(dates, freq)\n/anaconda/envs/azureml_py310_sdkv2/lib/python3.10/site-packages/statsmodels/tsa/base/tsa_model.py:473: ValueWarning: A date index has been provided, but it has no associated frequency information and so will be ignored when e.g. forecasting.\n  self._init_dates(dates, freq)\n/anaconda/envs/azureml_py310_sdkv2/lib/python3.10/site-packages/statsmodels/tsa/base/tsa_model.py:473: ValueWarning: A date index has been provided, but it has no associated frequency information and so will be ignored when e.g. forecasting.\n  self._init_dates(dates, freq)\n/anaconda/envs/azureml_py310_sdkv2/lib/python3.10/site-packages/statsmodels/tsa/base/tsa_model.py:836: ValueWarning: No supported index is available. Prediction results will be given with an integer index beginning at `start`.\n  return get_prediction_index(\n/anaconda/envs/azureml_py310_sdkv2/lib/python3.10/site-packages/statsmodels/tsa/base/tsa_model.py:836: FutureWarning: No supported index is available. In the next version, calling this method in a model without a supported index will result in an exception.\n  return get_prediction_index(\n/anaconda/envs/azureml_py310_sdkv2/lib/python3.10/site-packages/statsmodels/tsa/base/tsa_model.py:473: ValueWarning: A date index has been provided, but it has no associated frequency information and so will be ignored when e.g. forecasting.\n  self._init_dates(dates, freq)\n/anaconda/envs/azureml_py310_sdkv2/lib/python3.10/site-packages/statsmodels/tsa/base/tsa_model.py:473: ValueWarning: A date index has been provided, but it has no associated frequency information and so will be ignored when e.g. forecasting.\n  self._init_dates(dates, freq)\n/anaconda/envs/azureml_py310_sdkv2/lib/python3.10/site-packages/statsmodels/tsa/base/tsa_model.py:473: ValueWarning: A date index has been provided, but it has no associated frequency information and so will be ignored when e.g. forecasting.\n  self._init_dates(dates, freq)\n/anaconda/envs/azureml_py310_sdkv2/lib/python3.10/site-packages/statsmodels/tsa/base/tsa_model.py:836: ValueWarning: No supported index is available. Prediction results will be given with an integer index beginning at `start`.\n  return get_prediction_index(\n/anaconda/envs/azureml_py310_sdkv2/lib/python3.10/site-packages/statsmodels/tsa/base/tsa_model.py:836: FutureWarning: No supported index is available. In the next version, calling this method in a model without a supported index will result in an exception.\n  return get_prediction_index(\n/anaconda/envs/azureml_py310_sdkv2/lib/python3.10/site-packages/statsmodels/tsa/base/tsa_model.py:473: ValueWarning: A date index has been provided, but it has no associated frequency information and so will be ignored when e.g. forecasting.\n  self._init_dates(dates, freq)\n/anaconda/envs/azureml_py310_sdkv2/lib/python3.10/site-packages/statsmodels/tsa/base/tsa_model.py:473: ValueWarning: A date index has been provided, but it has no associated frequency information and so will be ignored when e.g. forecasting.\n  self._init_dates(dates, freq)\n/anaconda/envs/azureml_py310_sdkv2/lib/python3.10/site-packages/statsmodels/tsa/base/tsa_model.py:473: ValueWarning: A date index has been provided, but it has no associated frequency information and so will be ignored when e.g. forecasting.\n  self._init_dates(dates, freq)\n/anaconda/envs/azureml_py310_sdkv2/lib/python3.10/site-packages/statsmodels/tsa/base/tsa_model.py:836: ValueWarning: No supported index is available. Prediction results will be given with an integer index beginning at `start`.\n  return get_prediction_index(\n/anaconda/envs/azureml_py310_sdkv2/lib/python3.10/site-packages/statsmodels/tsa/base/tsa_model.py:836: FutureWarning: No supported index is available. In the next version, calling this method in a model without a supported index will result in an exception.\n  return get_prediction_index(\n/anaconda/envs/azureml_py310_sdkv2/lib/python3.10/site-packages/statsmodels/tsa/base/tsa_model.py:473: ValueWarning: A date index has been provided, but it has no associated frequency information and so will be ignored when e.g. forecasting.\n  self._init_dates(dates, freq)\n/anaconda/envs/azureml_py310_sdkv2/lib/python3.10/site-packages/statsmodels/tsa/base/tsa_model.py:473: ValueWarning: A date index has been provided, but it has no associated frequency information and so will be ignored when e.g. forecasting.\n  self._init_dates(dates, freq)\n/anaconda/envs/azureml_py310_sdkv2/lib/python3.10/site-packages/statsmodels/tsa/base/tsa_model.py:473: ValueWarning: A date index has been provided, but it has no associated frequency information and so will be ignored when e.g. forecasting.\n  self._init_dates(dates, freq)\n/anaconda/envs/azureml_py310_sdkv2/lib/python3.10/site-packages/statsmodels/tsa/statespace/sarimax.py:966: UserWarning: Non-stationary starting autoregressive parameters found. Using zeros as starting parameters.\n  warn('Non-stationary starting autoregressive parameters'\n/anaconda/envs/azureml_py310_sdkv2/lib/python3.10/site-packages/statsmodels/tsa/statespace/sarimax.py:978: UserWarning: Non-invertible starting MA parameters found. Using zeros as starting parameters.\n  warn('Non-invertible starting MA parameters found.'\n/anaconda/envs/azureml_py310_sdkv2/lib/python3.10/site-packages/statsmodels/tsa/base/tsa_model.py:836: ValueWarning: No supported index is available. Prediction results will be given with an integer index beginning at `start`.\n  return get_prediction_index(\n/anaconda/envs/azureml_py310_sdkv2/lib/python3.10/site-packages/statsmodels/tsa/base/tsa_model.py:836: FutureWarning: No supported index is available. In the next version, calling this method in a model without a supported index will result in an exception.\n  return get_prediction_index(\n/anaconda/envs/azureml_py310_sdkv2/lib/python3.10/site-packages/statsmodels/tsa/base/tsa_model.py:473: ValueWarning: A date index has been provided, but it has no associated frequency information and so will be ignored when e.g. forecasting.\n  self._init_dates(dates, freq)\n/anaconda/envs/azureml_py310_sdkv2/lib/python3.10/site-packages/statsmodels/tsa/base/tsa_model.py:473: ValueWarning: A date index has been provided, but it has no associated frequency information and so will be ignored when e.g. forecasting.\n  self._init_dates(dates, freq)\n/anaconda/envs/azureml_py310_sdkv2/lib/python3.10/site-packages/statsmodels/tsa/base/tsa_model.py:473: ValueWarning: A date index has been provided, but it has no associated frequency information and so will be ignored when e.g. forecasting.\n  self._init_dates(dates, freq)\n/anaconda/envs/azureml_py310_sdkv2/lib/python3.10/site-packages/statsmodels/tsa/base/tsa_model.py:836: ValueWarning: No supported index is available. Prediction results will be given with an integer index beginning at `start`.\n  return get_prediction_index(\n/anaconda/envs/azureml_py310_sdkv2/lib/python3.10/site-packages/statsmodels/tsa/base/tsa_model.py:836: FutureWarning: No supported index is available. In the next version, calling this method in a model without a supported index will result in an exception.\n  return get_prediction_index(\n/anaconda/envs/azureml_py310_sdkv2/lib/python3.10/site-packages/statsmodels/tsa/base/tsa_model.py:473: ValueWarning: A date index has been provided, but it has no associated frequency information and so will be ignored when e.g. forecasting.\n  self._init_dates(dates, freq)\n/anaconda/envs/azureml_py310_sdkv2/lib/python3.10/site-packages/statsmodels/tsa/base/tsa_model.py:473: ValueWarning: A date index has been provided, but it has no associated frequency information and so will be ignored when e.g. forecasting.\n  self._init_dates(dates, freq)\n/anaconda/envs/azureml_py310_sdkv2/lib/python3.10/site-packages/statsmodels/tsa/base/tsa_model.py:473: ValueWarning: A date index has been provided, but it has no associated frequency information and so will be ignored when e.g. forecasting.\n  self._init_dates(dates, freq)\n/anaconda/envs/azureml_py310_sdkv2/lib/python3.10/site-packages/statsmodels/tsa/base/tsa_model.py:836: ValueWarning: No supported index is available. Prediction results will be given with an integer index beginning at `start`.\n  return get_prediction_index(\n/anaconda/envs/azureml_py310_sdkv2/lib/python3.10/site-packages/statsmodels/tsa/base/tsa_model.py:836: FutureWarning: No supported index is available. In the next version, calling this method in a model without a supported index will result in an exception.\n  return get_prediction_index(\n/anaconda/envs/azureml_py310_sdkv2/lib/python3.10/site-packages/statsmodels/tsa/base/tsa_model.py:473: ValueWarning: A date index has been provided, but it has no associated frequency information and so will be ignored when e.g. forecasting.\n  self._init_dates(dates, freq)\n/anaconda/envs/azureml_py310_sdkv2/lib/python3.10/site-packages/statsmodels/tsa/base/tsa_model.py:473: ValueWarning: A date index has been provided, but it has no associated frequency information and so will be ignored when e.g. forecasting.\n  self._init_dates(dates, freq)\n/anaconda/envs/azureml_py310_sdkv2/lib/python3.10/site-packages/statsmodels/tsa/base/tsa_model.py:473: ValueWarning: A date index has been provided, but it has no associated frequency information and so will be ignored when e.g. forecasting.\n  self._init_dates(dates, freq)\n/anaconda/envs/azureml_py310_sdkv2/lib/python3.10/site-packages/statsmodels/tsa/base/tsa_model.py:836: ValueWarning: No supported index is available. Prediction results will be given with an integer index beginning at `start`.\n  return get_prediction_index(\n/anaconda/envs/azureml_py310_sdkv2/lib/python3.10/site-packages/statsmodels/tsa/base/tsa_model.py:836: FutureWarning: No supported index is available. In the next version, calling this method in a model without a supported index will result in an exception.\n  return get_prediction_index(\n/anaconda/envs/azureml_py310_sdkv2/lib/python3.10/site-packages/statsmodels/tsa/base/tsa_model.py:473: ValueWarning: A date index has been provided, but it has no associated frequency information and so will be ignored when e.g. forecasting.\n  self._init_dates(dates, freq)\n/anaconda/envs/azureml_py310_sdkv2/lib/python3.10/site-packages/statsmodels/tsa/base/tsa_model.py:473: ValueWarning: A date index has been provided, but it has no associated frequency information and so will be ignored when e.g. forecasting.\n  self._init_dates(dates, freq)\n/anaconda/envs/azureml_py310_sdkv2/lib/python3.10/site-packages/statsmodels/tsa/base/tsa_model.py:473: ValueWarning: A date index has been provided, but it has no associated frequency information and so will be ignored when e.g. forecasting.\n  self._init_dates(dates, freq)\n/anaconda/envs/azureml_py310_sdkv2/lib/python3.10/site-packages/statsmodels/tsa/base/tsa_model.py:836: ValueWarning: No supported index is available. Prediction results will be given with an integer index beginning at `start`.\n  return get_prediction_index(\n/anaconda/envs/azureml_py310_sdkv2/lib/python3.10/site-packages/statsmodels/tsa/base/tsa_model.py:836: FutureWarning: No supported index is available. In the next version, calling this method in a model without a supported index will result in an exception.\n  return get_prediction_index(\n/anaconda/envs/azureml_py310_sdkv2/lib/python3.10/site-packages/statsmodels/tsa/base/tsa_model.py:473: ValueWarning: A date index has been provided, but it has no associated frequency information and so will be ignored when e.g. forecasting.\n  self._init_dates(dates, freq)\n/anaconda/envs/azureml_py310_sdkv2/lib/python3.10/site-packages/statsmodels/tsa/base/tsa_model.py:473: ValueWarning: A date index has been provided, but it has no associated frequency information and so will be ignored when e.g. forecasting.\n  self._init_dates(dates, freq)\n/anaconda/envs/azureml_py310_sdkv2/lib/python3.10/site-packages/statsmodels/tsa/base/tsa_model.py:473: ValueWarning: A date index has been provided, but it has no associated frequency information and so will be ignored when e.g. forecasting.\n  self._init_dates(dates, freq)\n/anaconda/envs/azureml_py310_sdkv2/lib/python3.10/site-packages/statsmodels/tsa/base/tsa_model.py:836: ValueWarning: No supported index is available. Prediction results will be given with an integer index beginning at `start`.\n  return get_prediction_index(\n/anaconda/envs/azureml_py310_sdkv2/lib/python3.10/site-packages/statsmodels/tsa/base/tsa_model.py:836: FutureWarning: No supported index is available. In the next version, calling this method in a model without a supported index will result in an exception.\n  return get_prediction_index(\n/anaconda/envs/azureml_py310_sdkv2/lib/python3.10/site-packages/statsmodels/tsa/base/tsa_model.py:473: ValueWarning: A date index has been provided, but it has no associated frequency information and so will be ignored when e.g. forecasting.\n  self._init_dates(dates, freq)\n/anaconda/envs/azureml_py310_sdkv2/lib/python3.10/site-packages/statsmodels/tsa/base/tsa_model.py:473: ValueWarning: A date index has been provided, but it has no associated frequency information and so will be ignored when e.g. forecasting.\n  self._init_dates(dates, freq)\n/anaconda/envs/azureml_py310_sdkv2/lib/python3.10/site-packages/statsmodels/tsa/base/tsa_model.py:473: ValueWarning: A date index has been provided, but it has no associated frequency information and so will be ignored when e.g. forecasting.\n  self._init_dates(dates, freq)\n/anaconda/envs/azureml_py310_sdkv2/lib/python3.10/site-packages/statsmodels/tsa/base/tsa_model.py:836: ValueWarning: No supported index is available. Prediction results will be given with an integer index beginning at `start`.\n  return get_prediction_index(\n/anaconda/envs/azureml_py310_sdkv2/lib/python3.10/site-packages/statsmodels/tsa/base/tsa_model.py:836: FutureWarning: No supported index is available. In the next version, calling this method in a model without a supported index will result in an exception.\n  return get_prediction_index(\n/anaconda/envs/azureml_py310_sdkv2/lib/python3.10/site-packages/statsmodels/tsa/base/tsa_model.py:473: ValueWarning: A date index has been provided, but it has no associated frequency information and so will be ignored when e.g. forecasting.\n  self._init_dates(dates, freq)\n/anaconda/envs/azureml_py310_sdkv2/lib/python3.10/site-packages/statsmodels/tsa/base/tsa_model.py:473: ValueWarning: A date index has been provided, but it has no associated frequency information and so will be ignored when e.g. forecasting.\n  self._init_dates(dates, freq)\n/anaconda/envs/azureml_py310_sdkv2/lib/python3.10/site-packages/statsmodels/tsa/base/tsa_model.py:473: ValueWarning: A date index has been provided, but it has no associated frequency information and so will be ignored when e.g. forecasting.\n  self._init_dates(dates, freq)\n/anaconda/envs/azureml_py310_sdkv2/lib/python3.10/site-packages/statsmodels/tsa/base/tsa_model.py:836: ValueWarning: No supported index is available. Prediction results will be given with an integer index beginning at `start`.\n  return get_prediction_index(\n/anaconda/envs/azureml_py310_sdkv2/lib/python3.10/site-packages/statsmodels/tsa/base/tsa_model.py:836: FutureWarning: No supported index is available. In the next version, calling this method in a model without a supported index will result in an exception.\n  return get_prediction_index(\n/anaconda/envs/azureml_py310_sdkv2/lib/python3.10/site-packages/statsmodels/tsa/base/tsa_model.py:473: ValueWarning: A date index has been provided, but it has no associated frequency information and so will be ignored when e.g. forecasting.\n  self._init_dates(dates, freq)\n/anaconda/envs/azureml_py310_sdkv2/lib/python3.10/site-packages/statsmodels/tsa/base/tsa_model.py:473: ValueWarning: A date index has been provided, but it has no associated frequency information and so will be ignored when e.g. forecasting.\n  self._init_dates(dates, freq)\n/anaconda/envs/azureml_py310_sdkv2/lib/python3.10/site-packages/statsmodels/tsa/base/tsa_model.py:473: ValueWarning: A date index has been provided, but it has no associated frequency information and so will be ignored when e.g. forecasting.\n  self._init_dates(dates, freq)\n/anaconda/envs/azureml_py310_sdkv2/lib/python3.10/site-packages/statsmodels/tsa/statespace/sarimax.py:966: UserWarning: Non-stationary starting autoregressive parameters found. Using zeros as starting parameters.\n  warn('Non-stationary starting autoregressive parameters'\n/anaconda/envs/azureml_py310_sdkv2/lib/python3.10/site-packages/statsmodels/tsa/statespace/sarimax.py:978: UserWarning: Non-invertible starting MA parameters found. Using zeros as starting parameters.\n  warn('Non-invertible starting MA parameters found.'\n"
        }
      ],
      "execution_count": 54,
      "metadata": {
        "jupyter": {
          "source_hidden": false,
          "outputs_hidden": false
        },
        "nteract": {
          "transient": {
            "deleting": false
          }
        },
        "gather": {
          "logged": 1708202391755
        }
      }
    }
  ],
  "metadata": {
    "kernelspec": {
      "name": "python310-sdkv2",
      "language": "python",
      "display_name": "Python 3.10 - SDK v2"
    },
    "language_info": {
      "name": "python",
      "version": "3.10.11",
      "mimetype": "text/x-python",
      "codemirror_mode": {
        "name": "ipython",
        "version": 3
      },
      "pygments_lexer": "ipython3",
      "nbconvert_exporter": "python",
      "file_extension": ".py"
    },
    "microsoft": {
      "ms_spell_check": {
        "ms_spell_check_language": "en"
      },
      "host": {
        "AzureML": {
          "notebookHasBeenCompleted": true
        }
      }
    },
    "kernel_info": {
      "name": "python310-sdkv2"
    },
    "nteract": {
      "version": "nteract-front-end@1.0.0"
    }
  },
  "nbformat": 4,
  "nbformat_minor": 2
}