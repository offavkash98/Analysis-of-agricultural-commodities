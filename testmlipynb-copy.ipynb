{
  "cells": [
    {
      "cell_type": "code",
      "source": [
        "import pandas as pd\n",
        "import numpy as np"
      ],
      "outputs": [],
      "execution_count": 1,
      "metadata": {
        "gather": {
          "logged": 1708183557566
        }
      }
    },
    {
      "cell_type": "code",
      "source": [
        "%pip install statsmodels\n",
        "%pip install xgboost\n",
        "%pip install dask\n",
        "%pip install dask-ml\n",
        "%pip install scikit-learn\n",
        "%pip install --upgrade ray\n",
        "\n"
      ],
      "outputs": [
        {
          "output_type": "stream",
          "name": "stdout",
          "text": "Requirement already satisfied: statsmodels in /anaconda/envs/azureml_py310_sdkv2/lib/python3.10/site-packages (0.14.1)\nRequirement already satisfied: numpy<2,>=1.18 in /anaconda/envs/azureml_py310_sdkv2/lib/python3.10/site-packages (from statsmodels) (1.25.0)\nRequirement already satisfied: scipy!=1.9.2,>=1.4 in /anaconda/envs/azureml_py310_sdkv2/lib/python3.10/site-packages (from statsmodels) (1.10.1)\nRequirement already satisfied: pandas!=2.1.0,>=1.0 in /anaconda/envs/azureml_py310_sdkv2/lib/python3.10/site-packages (from statsmodels) (2.0.2)\nRequirement already satisfied: patsy>=0.5.4 in /anaconda/envs/azureml_py310_sdkv2/lib/python3.10/site-packages (from statsmodels) (0.5.6)\nRequirement already satisfied: packaging>=21.3 in /anaconda/envs/azureml_py310_sdkv2/lib/python3.10/site-packages (from statsmodels) (23.0)\nRequirement already satisfied: python-dateutil>=2.8.2 in /anaconda/envs/azureml_py310_sdkv2/lib/python3.10/site-packages (from pandas!=2.1.0,>=1.0->statsmodels) (2.8.2)\nRequirement already satisfied: pytz>=2020.1 in /anaconda/envs/azureml_py310_sdkv2/lib/python3.10/site-packages (from pandas!=2.1.0,>=1.0->statsmodels) (2023.3)\nRequirement already satisfied: tzdata>=2022.1 in /anaconda/envs/azureml_py310_sdkv2/lib/python3.10/site-packages (from pandas!=2.1.0,>=1.0->statsmodels) (2023.3)\nRequirement already satisfied: six in /anaconda/envs/azureml_py310_sdkv2/lib/python3.10/site-packages (from patsy>=0.5.4->statsmodels) (1.16.0)\nNote: you may need to restart the kernel to use updated packages.\nCollecting xgboost\n  Downloading xgboost-2.0.3-py3-none-manylinux2014_x86_64.whl (297.1 MB)\n\u001b[2K     \u001b[90m━━━━━━━━━━━━━━━━━━━━━━━━━━━━━━━━━━━━━━━\u001b[0m \u001b[32m297.1/297.1 MB\u001b[0m \u001b[31m3.0 MB/s\u001b[0m eta \u001b[36m0:00:00\u001b[0m00:01\u001b[0m00:01\u001b[0m\n\u001b[?25hRequirement already satisfied: numpy in /anaconda/envs/azureml_py310_sdkv2/lib/python3.10/site-packages (from xgboost) (1.25.0)\nRequirement already satisfied: scipy in /anaconda/envs/azureml_py310_sdkv2/lib/python3.10/site-packages (from xgboost) (1.10.1)\nInstalling collected packages: xgboost\nSuccessfully installed xgboost-2.0.3\nNote: you may need to restart the kernel to use updated packages.\nCollecting dask\n  Downloading dask-2024.2.0-py3-none-any.whl (1.2 MB)\n\u001b[2K     \u001b[90m━━━━━━━━━━━━━━━━━━━━━━━━━━━━━━━━━━━━━━━━\u001b[0m \u001b[32m1.2/1.2 MB\u001b[0m \u001b[31m25.6 MB/s\u001b[0m eta \u001b[36m0:00:00\u001b[0m00:01\u001b[0m\n\u001b[?25hCollecting click>=8.1 (from dask)\n  Downloading click-8.1.7-py3-none-any.whl (97 kB)\n\u001b[2K     \u001b[90m━━━━━━━━━━━━━━━━━━━━━━━━━━━━━━━━━━━━━━━━\u001b[0m \u001b[32m97.9/97.9 kB\u001b[0m \u001b[31m11.6 MB/s\u001b[0m eta \u001b[36m0:00:00\u001b[0m\n\u001b[?25hRequirement already satisfied: cloudpickle>=1.5.0 in /anaconda/envs/azureml_py310_sdkv2/lib/python3.10/site-packages (from dask) (2.2.1)\nRequirement already satisfied: fsspec>=2021.09.0 in /anaconda/envs/azureml_py310_sdkv2/lib/python3.10/site-packages (from dask) (2023.6.0)\nRequirement already satisfied: packaging>=20.0 in /anaconda/envs/azureml_py310_sdkv2/lib/python3.10/site-packages (from dask) (23.0)\nCollecting partd>=1.2.0 (from dask)\n  Downloading partd-1.4.1-py3-none-any.whl (18 kB)\nRequirement already satisfied: pyyaml>=5.3.1 in /anaconda/envs/azureml_py310_sdkv2/lib/python3.10/site-packages (from dask) (6.0)\nCollecting toolz>=0.10.0 (from dask)\n  Downloading toolz-0.12.1-py3-none-any.whl (56 kB)\n\u001b[2K     \u001b[90m━━━━━━━━━━━━━━━━━━━━━━━━━━━━━━━━━━━━━━━━\u001b[0m \u001b[32m56.1/56.1 kB\u001b[0m \u001b[31m7.1 MB/s\u001b[0m eta \u001b[36m0:00:00\u001b[0m\n\u001b[?25hRequirement already satisfied: importlib-metadata>=4.13.0 in /anaconda/envs/azureml_py310_sdkv2/lib/python3.10/site-packages (from dask) (6.7.0)\nRequirement already satisfied: zipp>=0.5 in /anaconda/envs/azureml_py310_sdkv2/lib/python3.10/site-packages (from importlib-metadata>=4.13.0->dask) (3.15.0)\nCollecting locket (from partd>=1.2.0->dask)\n  Downloading locket-1.0.0-py2.py3-none-any.whl (4.4 kB)\nInstalling collected packages: toolz, locket, click, partd, dask\n  Attempting uninstall: click\n    Found existing installation: click 8.0.4\n    Uninstalling click-8.0.4:\n      Successfully uninstalled click-8.0.4\n\u001b[31mERROR: pip's dependency resolver does not currently take into account all the packages that are installed. This behaviour is the source of the following dependency conflicts.\nray 2.0.0 requires click<=8.0.4,>=7.0, but you have click 8.1.7 which is incompatible.\u001b[0m\u001b[31m\n\u001b[0mSuccessfully installed click-8.1.7 dask-2024.2.0 locket-1.0.0 partd-1.4.1 toolz-0.12.1\nNote: you may need to restart the kernel to use updated packages.\nCollecting dask-ml\n  Downloading dask_ml-2023.3.24-py3-none-any.whl (148 kB)\n\u001b[2K     \u001b[90m━━━━━━━━━━━━━━━━━━━━━━━━━━━━━━━━━━━━━━━\u001b[0m \u001b[32m148.7/148.7 kB\u001b[0m \u001b[31m5.8 MB/s\u001b[0m eta \u001b[36m0:00:00\u001b[0m\n\u001b[?25hRequirement already satisfied: dask[array,dataframe]>=2.4.0 in /anaconda/envs/azureml_py310_sdkv2/lib/python3.10/site-packages (from dask-ml) (2024.2.0)\nCollecting distributed>=2.4.0 (from dask-ml)\n  Downloading distributed-2024.2.0-py3-none-any.whl (1.0 MB)\n\u001b[2K     \u001b[90m━━━━━━━━━━━━━━━━━━━━━━━━━━━━━━━━━━━━━━━━\u001b[0m \u001b[32m1.0/1.0 MB\u001b[0m \u001b[31m35.3 MB/s\u001b[0m eta \u001b[36m0:00:00\u001b[0m\n\u001b[?25hCollecting numba>=0.51.0 (from dask-ml)\n  Downloading numba-0.59.0-cp310-cp310-manylinux2014_x86_64.manylinux_2_17_x86_64.whl (3.7 MB)\n\u001b[2K     \u001b[90m━━━━━━━━━━━━━━━━━━━━━━━━━━━━━━━━━━━━━━━━\u001b[0m \u001b[32m3.7/3.7 MB\u001b[0m \u001b[31m73.7 MB/s\u001b[0m eta \u001b[36m0:00:00\u001b[0m:00:01\u001b[0m\n\u001b[?25hRequirement already satisfied: numpy>=1.20.0 in /anaconda/envs/azureml_py310_sdkv2/lib/python3.10/site-packages (from dask-ml) (1.25.0)\nRequirement already satisfied: pandas>=0.24.2 in /anaconda/envs/azureml_py310_sdkv2/lib/python3.10/site-packages (from dask-ml) (2.0.2)\nRequirement already satisfied: scikit-learn>=1.2.0 in /anaconda/envs/azureml_py310_sdkv2/lib/python3.10/site-packages (from dask-ml) (1.2.2)\nRequirement already satisfied: scipy in /anaconda/envs/azureml_py310_sdkv2/lib/python3.10/site-packages (from dask-ml) (1.10.1)\nCollecting dask-glm>=0.2.0 (from dask-ml)\n  Downloading dask_glm-0.3.2-py2.py3-none-any.whl (13 kB)\nCollecting multipledispatch>=0.4.9 (from dask-ml)\n  Downloading multipledispatch-1.0.0-py3-none-any.whl (12 kB)\nRequirement already satisfied: packaging in /anaconda/envs/azureml_py310_sdkv2/lib/python3.10/site-packages (from dask-ml) (23.0)\nRequirement already satisfied: cloudpickle>=0.2.2 in /anaconda/envs/azureml_py310_sdkv2/lib/python3.10/site-packages (from dask-glm>=0.2.0->dask-ml) (2.2.1)\nCollecting sparse>=0.7.0 (from dask-glm>=0.2.0->dask-ml)\n  Downloading sparse-0.15.1-py2.py3-none-any.whl (116 kB)\n\u001b[2K     \u001b[90m━━━━━━━━━━━━━━━━━━━━━━━━━━━━━━━━━━━━━━\u001b[0m \u001b[32m116.3/116.3 kB\u001b[0m \u001b[31m13.0 MB/s\u001b[0m eta \u001b[36m0:00:00\u001b[0m\n\u001b[?25hRequirement already satisfied: click>=8.1 in /anaconda/envs/azureml_py310_sdkv2/lib/python3.10/site-packages (from dask[array,dataframe]>=2.4.0->dask-ml) (8.1.7)\nRequirement already satisfied: fsspec>=2021.09.0 in /anaconda/envs/azureml_py310_sdkv2/lib/python3.10/site-packages (from dask[array,dataframe]>=2.4.0->dask-ml) (2023.6.0)\nRequirement already satisfied: partd>=1.2.0 in /anaconda/envs/azureml_py310_sdkv2/lib/python3.10/site-packages (from dask[array,dataframe]>=2.4.0->dask-ml) (1.4.1)\nRequirement already satisfied: pyyaml>=5.3.1 in /anaconda/envs/azureml_py310_sdkv2/lib/python3.10/site-packages (from dask[array,dataframe]>=2.4.0->dask-ml) (6.0)\nRequirement already satisfied: toolz>=0.10.0 in /anaconda/envs/azureml_py310_sdkv2/lib/python3.10/site-packages (from dask[array,dataframe]>=2.4.0->dask-ml) (0.12.1)\nRequirement already satisfied: importlib-metadata>=4.13.0 in /anaconda/envs/azureml_py310_sdkv2/lib/python3.10/site-packages (from dask[array,dataframe]>=2.4.0->dask-ml) (6.7.0)\nRequirement already satisfied: jinja2>=2.10.3 in /anaconda/envs/azureml_py310_sdkv2/lib/python3.10/site-packages (from distributed>=2.4.0->dask-ml) (3.1.2)\nRequirement already satisfied: locket>=1.0.0 in /anaconda/envs/azureml_py310_sdkv2/lib/python3.10/site-packages (from distributed>=2.4.0->dask-ml) (1.0.0)\nRequirement already satisfied: msgpack>=1.0.0 in /anaconda/envs/azureml_py310_sdkv2/lib/python3.10/site-packages (from distributed>=2.4.0->dask-ml) (1.0.5)\nRequirement already satisfied: psutil>=5.7.2 in /anaconda/envs/azureml_py310_sdkv2/lib/python3.10/site-packages (from distributed>=2.4.0->dask-ml) (5.9.0)\nCollecting sortedcontainers>=2.0.5 (from distributed>=2.4.0->dask-ml)\n  Downloading sortedcontainers-2.4.0-py2.py3-none-any.whl (29 kB)\nCollecting tblib>=1.6.0 (from distributed>=2.4.0->dask-ml)\n  Downloading tblib-3.0.0-py3-none-any.whl (12 kB)\nRequirement already satisfied: tornado>=6.0.4 in /anaconda/envs/azureml_py310_sdkv2/lib/python3.10/site-packages (from distributed>=2.4.0->dask-ml) (6.1)\nRequirement already satisfied: urllib3>=1.24.3 in /anaconda/envs/azureml_py310_sdkv2/lib/python3.10/site-packages (from distributed>=2.4.0->dask-ml) (1.26.16)\nCollecting zict>=3.0.0 (from distributed>=2.4.0->dask-ml)\n  Downloading zict-3.0.0-py2.py3-none-any.whl (43 kB)\n\u001b[2K     \u001b[90m━━━━━━━━━━━━━━━━━━━━━━━━━━━━━━━━━━━━━━━━\u001b[0m \u001b[32m43.3/43.3 kB\u001b[0m \u001b[31m2.4 MB/s\u001b[0m eta \u001b[36m0:00:00\u001b[0m\n\u001b[?25hCollecting llvmlite<0.43,>=0.42.0dev0 (from numba>=0.51.0->dask-ml)\n  Downloading llvmlite-0.42.0-cp310-cp310-manylinux_2_17_x86_64.manylinux2014_x86_64.whl (43.8 MB)\n\u001b[2K     \u001b[90m━━━━━━━━━━━━━━━━━━━━━━━━━━━━━━━━━━━━━━━━\u001b[0m \u001b[32m43.8/43.8 MB\u001b[0m \u001b[31m22.8 MB/s\u001b[0m eta \u001b[36m0:00:00\u001b[0m00:01\u001b[0m00:01\u001b[0m\n\u001b[?25hRequirement already satisfied: python-dateutil>=2.8.2 in /anaconda/envs/azureml_py310_sdkv2/lib/python3.10/site-packages (from pandas>=0.24.2->dask-ml) (2.8.2)\nRequirement already satisfied: pytz>=2020.1 in /anaconda/envs/azureml_py310_sdkv2/lib/python3.10/site-packages (from pandas>=0.24.2->dask-ml) (2023.3)\nRequirement already satisfied: tzdata>=2022.1 in /anaconda/envs/azureml_py310_sdkv2/lib/python3.10/site-packages (from pandas>=0.24.2->dask-ml) (2023.3)\nRequirement already satisfied: joblib>=1.1.1 in /anaconda/envs/azureml_py310_sdkv2/lib/python3.10/site-packages (from scikit-learn>=1.2.0->dask-ml) (1.2.0)\nRequirement already satisfied: threadpoolctl>=2.0.0 in /anaconda/envs/azureml_py310_sdkv2/lib/python3.10/site-packages (from scikit-learn>=1.2.0->dask-ml) (3.1.0)\nRequirement already satisfied: zipp>=0.5 in /anaconda/envs/azureml_py310_sdkv2/lib/python3.10/site-packages (from importlib-metadata>=4.13.0->dask[array,dataframe]>=2.4.0->dask-ml) (3.15.0)\nRequirement already satisfied: MarkupSafe>=2.0 in /anaconda/envs/azureml_py310_sdkv2/lib/python3.10/site-packages (from jinja2>=2.10.3->distributed>=2.4.0->dask-ml) (2.1.3)\nRequirement already satisfied: six>=1.5 in /anaconda/envs/azureml_py310_sdkv2/lib/python3.10/site-packages (from python-dateutil>=2.8.2->pandas>=0.24.2->dask-ml) (1.16.0)\nInstalling collected packages: sortedcontainers, multipledispatch, zict, tblib, llvmlite, numba, sparse, distributed, dask-glm, dask-ml\nSuccessfully installed dask-glm-0.3.2 dask-ml-2023.3.24 distributed-2024.2.0 llvmlite-0.42.0 multipledispatch-1.0.0 numba-0.59.0 sortedcontainers-2.4.0 sparse-0.15.1 tblib-3.0.0 zict-3.0.0\nNote: you may need to restart the kernel to use updated packages.\nRequirement already satisfied: scikit-learn in /anaconda/envs/azureml_py310_sdkv2/lib/python3.10/site-packages (1.2.2)\nRequirement already satisfied: numpy>=1.17.3 in /anaconda/envs/azureml_py310_sdkv2/lib/python3.10/site-packages (from scikit-learn) (1.25.0)\nRequirement already satisfied: scipy>=1.3.2 in /anaconda/envs/azureml_py310_sdkv2/lib/python3.10/site-packages (from scikit-learn) (1.10.1)\nRequirement already satisfied: joblib>=1.1.1 in /anaconda/envs/azureml_py310_sdkv2/lib/python3.10/site-packages (from scikit-learn) (1.2.0)\nRequirement already satisfied: threadpoolctl>=2.0.0 in /anaconda/envs/azureml_py310_sdkv2/lib/python3.10/site-packages (from scikit-learn) (3.1.0)\nNote: you may need to restart the kernel to use updated packages.\n"
        }
      ],
      "execution_count": 2,
      "metadata": {
        "jupyter": {
          "source_hidden": false,
          "outputs_hidden": false
        },
        "nteract": {
          "transient": {
            "deleting": false
          }
        },
        "gather": {
          "logged": 1708182932005
        }
      }
    },
    {
      "cell_type": "code",
      "source": [
        "%pip install --upgrade ray"
      ],
      "outputs": [
        {
          "output_type": "stream",
          "name": "stdout",
          "text": "Requirement already satisfied: ray in /anaconda/envs/azureml_py310_sdkv2/lib/python3.10/site-packages (2.0.0)\nCollecting ray\n  Downloading ray-2.9.2-cp310-cp310-manylinux2014_x86_64.whl (64.9 MB)\n\u001b[2K     \u001b[90m━━━━━━━━━━━━━━━━━━━━━━━━━━━━━━━━━━━━━━━━\u001b[0m \u001b[32m64.9/64.9 MB\u001b[0m \u001b[31m19.3 MB/s\u001b[0m eta \u001b[36m0:00:00\u001b[0m00:01\u001b[0m00:01\u001b[0m\n\u001b[?25hRequirement already satisfied: click>=7.0 in /anaconda/envs/azureml_py310_sdkv2/lib/python3.10/site-packages (from ray) (8.1.7)\nRequirement already satisfied: filelock in /anaconda/envs/azureml_py310_sdkv2/lib/python3.10/site-packages (from ray) (3.12.2)\nRequirement already satisfied: jsonschema in /anaconda/envs/azureml_py310_sdkv2/lib/python3.10/site-packages (from ray) (4.17.3)\nRequirement already satisfied: msgpack<2.0.0,>=1.0.0 in /anaconda/envs/azureml_py310_sdkv2/lib/python3.10/site-packages (from ray) (1.0.5)\nRequirement already satisfied: packaging in /anaconda/envs/azureml_py310_sdkv2/lib/python3.10/site-packages (from ray) (23.0)\nRequirement already satisfied: protobuf!=3.19.5,>=3.15.3 in /anaconda/envs/azureml_py310_sdkv2/lib/python3.10/site-packages (from ray) (3.20.3)\nRequirement already satisfied: pyyaml in /anaconda/envs/azureml_py310_sdkv2/lib/python3.10/site-packages (from ray) (6.0)\nRequirement already satisfied: aiosignal in /anaconda/envs/azureml_py310_sdkv2/lib/python3.10/site-packages (from ray) (1.3.1)\nRequirement already satisfied: frozenlist in /anaconda/envs/azureml_py310_sdkv2/lib/python3.10/site-packages (from ray) (1.3.3)\nRequirement already satisfied: requests in /anaconda/envs/azureml_py310_sdkv2/lib/python3.10/site-packages (from ray) (2.31.0)\nRequirement already satisfied: attrs>=17.4.0 in /anaconda/envs/azureml_py310_sdkv2/lib/python3.10/site-packages (from jsonschema->ray) (23.1.0)\nRequirement already satisfied: pyrsistent!=0.17.0,!=0.17.1,!=0.17.2,>=0.14.0 in /anaconda/envs/azureml_py310_sdkv2/lib/python3.10/site-packages (from jsonschema->ray) (0.19.3)\nRequirement already satisfied: charset-normalizer<4,>=2 in /anaconda/envs/azureml_py310_sdkv2/lib/python3.10/site-packages (from requests->ray) (3.1.0)\nRequirement already satisfied: idna<4,>=2.5 in /anaconda/envs/azureml_py310_sdkv2/lib/python3.10/site-packages (from requests->ray) (3.4)\nRequirement already satisfied: urllib3<3,>=1.21.1 in /anaconda/envs/azureml_py310_sdkv2/lib/python3.10/site-packages (from requests->ray) (1.26.16)\nRequirement already satisfied: certifi>=2017.4.17 in /anaconda/envs/azureml_py310_sdkv2/lib/python3.10/site-packages (from requests->ray) (2023.5.7)\nInstalling collected packages: ray\n  Attempting uninstall: ray\n    Found existing installation: ray 2.0.0\n    Uninstalling ray-2.0.0:\n      Successfully uninstalled ray-2.0.0\nSuccessfully installed ray-2.9.2\nNote: you may need to restart the kernel to use updated packages.\n"
        }
      ],
      "execution_count": 3,
      "metadata": {
        "jupyter": {
          "source_hidden": false,
          "outputs_hidden": false
        },
        "nteract": {
          "transient": {
            "deleting": false
          }
        }
      }
    },
    {
      "cell_type": "code",
      "source": [
        "%pip install click==8.0.4\n"
      ],
      "outputs": [
        {
          "output_type": "stream",
          "name": "stdout",
          "text": "Collecting click==8.0.4\n  Downloading click-8.0.4-py3-none-any.whl (97 kB)\n\u001b[2K     \u001b[90m━━━━━━━━━━━━━━━━━━━━━━━━━━━━━━━━━━━━━━━━\u001b[0m \u001b[32m97.5/97.5 kB\u001b[0m \u001b[31m4.4 MB/s\u001b[0m eta \u001b[36m0:00:00\u001b[0m\n\u001b[?25hInstalling collected packages: click\n  Attempting uninstall: click\n    Found existing installation: click 8.1.7\n    Uninstalling click-8.1.7:\n      Successfully uninstalled click-8.1.7\n\u001b[31mERROR: pip's dependency resolver does not currently take into account all the packages that are installed. This behaviour is the source of the following dependency conflicts.\nflask 2.3.2 requires click>=8.1.3, but you have click 8.0.4 which is incompatible.\ndask 2024.2.0 requires click>=8.1, but you have click 8.0.4 which is incompatible.\u001b[0m\u001b[31m\n\u001b[0mSuccessfully installed click-8.0.4\nNote: you may need to restart the kernel to use updated packages.\n"
        }
      ],
      "execution_count": 4,
      "metadata": {
        "jupyter": {
          "source_hidden": false,
          "outputs_hidden": false
        },
        "nteract": {
          "transient": {
            "deleting": false
          }
        }
      }
    },
    {
      "cell_type": "code",
      "source": [
        "%pip install --upgrade dask\n"
      ],
      "outputs": [
        {
          "output_type": "stream",
          "name": "stdout",
          "text": "Requirement already satisfied: dask in /anaconda/envs/azureml_py310_sdkv2/lib/python3.10/site-packages (2024.2.0)\nRequirement already satisfied: click>=8.1 in /anaconda/envs/azureml_py310_sdkv2/lib/python3.10/site-packages (from dask) (8.1.7)\nRequirement already satisfied: cloudpickle>=1.5.0 in /anaconda/envs/azureml_py310_sdkv2/lib/python3.10/site-packages (from dask) (2.2.1)\nRequirement already satisfied: fsspec>=2021.09.0 in /anaconda/envs/azureml_py310_sdkv2/lib/python3.10/site-packages (from dask) (2023.6.0)\nRequirement already satisfied: packaging>=20.0 in /anaconda/envs/azureml_py310_sdkv2/lib/python3.10/site-packages (from dask) (23.0)\nRequirement already satisfied: partd>=1.2.0 in /anaconda/envs/azureml_py310_sdkv2/lib/python3.10/site-packages (from dask) (1.4.1)\nRequirement already satisfied: pyyaml>=5.3.1 in /anaconda/envs/azureml_py310_sdkv2/lib/python3.10/site-packages (from dask) (6.0)\nRequirement already satisfied: toolz>=0.10.0 in /anaconda/envs/azureml_py310_sdkv2/lib/python3.10/site-packages (from dask) (0.12.1)\nRequirement already satisfied: importlib-metadata>=4.13.0 in /anaconda/envs/azureml_py310_sdkv2/lib/python3.10/site-packages (from dask) (6.7.0)\nRequirement already satisfied: zipp>=0.5 in /anaconda/envs/azureml_py310_sdkv2/lib/python3.10/site-packages (from importlib-metadata>=4.13.0->dask) (3.15.0)\nRequirement already satisfied: locket in /anaconda/envs/azureml_py310_sdkv2/lib/python3.10/site-packages (from partd>=1.2.0->dask) (1.0.0)\nNote: you may need to restart the kernel to use updated packages.\n"
        }
      ],
      "execution_count": 6,
      "metadata": {
        "jupyter": {
          "source_hidden": false,
          "outputs_hidden": false
        },
        "nteract": {
          "transient": {
            "deleting": false
          }
        }
      }
    },
    {
      "cell_type": "code",
      "source": [
        "%pip install --upgrade click\n"
      ],
      "outputs": [
        {
          "output_type": "stream",
          "name": "stdout",
          "text": "Requirement already satisfied: click in /anaconda/envs/azureml_py310_sdkv2/lib/python3.10/site-packages (8.0.4)\nCollecting click\n  Using cached click-8.1.7-py3-none-any.whl (97 kB)\nInstalling collected packages: click\n  Attempting uninstall: click\n    Found existing installation: click 8.0.4\n    Uninstalling click-8.0.4:\n      Successfully uninstalled click-8.0.4\nSuccessfully installed click-8.1.7\nNote: you may need to restart the kernel to use updated packages.\n"
        }
      ],
      "execution_count": 5,
      "metadata": {
        "jupyter": {
          "source_hidden": false,
          "outputs_hidden": false
        },
        "nteract": {
          "transient": {
            "deleting": false
          }
        }
      }
    },
    {
      "cell_type": "code",
      "source": [
        "import matplotlib\n",
        "from matplotlib import pyplot\n",
        "import statsmodels\n",
        "import statsmodels.api as sm\n",
        "import sklearn\n",
        "from sklearn.metrics import mean_squared_error\n",
        "import math\n",
        "from math import sqrt \n",
        "from statsmodels.tsa.seasonal import seasonal_decompose"
      ],
      "outputs": [],
      "execution_count": 5,
      "metadata": {
        "jupyter": {
          "source_hidden": false,
          "outputs_hidden": false
        },
        "nteract": {
          "transient": {
            "deleting": false
          }
        },
        "gather": {
          "logged": 1708174437976
        }
      }
    },
    {
      "cell_type": "code",
      "source": [
        "df1=pd.read_csv(\"azureml://subscriptions/4f93438e-847c-469d-94ae-ef5ee130ccab/resourcegroups/project_team14/workspaces/mlnotebook/datastores/testml/paths/Final_Data/part-00000-tid-1107757838746000038-dd6987f9-5526-4378-b9fd-633c8f0e2565-1388-1-c000.csv\",low_memory=True)\n",
        "df1.head()\n"
      ],
      "outputs": [
        {
          "output_type": "execute_result",
          "execution_count": 18,
          "data": {
            "text/plain": "  Commodity         State Name District Name         Market Name Variety  \\\n0    Papaya                Goa     North Goa              Mapusa  Papaya   \n1    Papaya  Jammu and Kashmir         Jammu  Narwal Jammu (F&V)   Other   \n2    Papaya       NCT of Delhi         Delhi            Shahdara   Other   \n3    Papaya             Punjab      Bhatinda            Bathinda   Other   \n4    Papaya             Punjab      Ferozpur      Firozepur City   Other   \n\n    Group  Arrivals (Tonnes)  Min Price (Rs/Quintal)  Max Price (Rs/Quintal)  \\\n0  Fruits               1.33                  2400.0                  3600.0   \n1  Fruits              12.00                  1150.0                  1250.0   \n2  Fruits               0.10                   150.0                   300.0   \n3  Fruits               4.50                   400.0                   450.0   \n4  Fruits              10.00                   600.0                   800.0   \n\n   Modal Price (Rs/Quintal) Reported Date  \n0                    3000.0    2003-04-01  \n1                    1200.0    2003-04-01  \n2                     250.0    2003-04-02  \n3                     425.0    2003-04-01  \n4                     700.0    2003-04-02  ",
            "text/html": "<div>\n<style scoped>\n    .dataframe tbody tr th:only-of-type {\n        vertical-align: middle;\n    }\n\n    .dataframe tbody tr th {\n        vertical-align: top;\n    }\n\n    .dataframe thead th {\n        text-align: right;\n    }\n</style>\n<table border=\"1\" class=\"dataframe\">\n  <thead>\n    <tr style=\"text-align: right;\">\n      <th></th>\n      <th>Commodity</th>\n      <th>State Name</th>\n      <th>District Name</th>\n      <th>Market Name</th>\n      <th>Variety</th>\n      <th>Group</th>\n      <th>Arrivals (Tonnes)</th>\n      <th>Min Price (Rs/Quintal)</th>\n      <th>Max Price (Rs/Quintal)</th>\n      <th>Modal Price (Rs/Quintal)</th>\n      <th>Reported Date</th>\n    </tr>\n  </thead>\n  <tbody>\n    <tr>\n      <th>0</th>\n      <td>Papaya</td>\n      <td>Goa</td>\n      <td>North Goa</td>\n      <td>Mapusa</td>\n      <td>Papaya</td>\n      <td>Fruits</td>\n      <td>1.33</td>\n      <td>2400.0</td>\n      <td>3600.0</td>\n      <td>3000.0</td>\n      <td>2003-04-01</td>\n    </tr>\n    <tr>\n      <th>1</th>\n      <td>Papaya</td>\n      <td>Jammu and Kashmir</td>\n      <td>Jammu</td>\n      <td>Narwal Jammu (F&amp;V)</td>\n      <td>Other</td>\n      <td>Fruits</td>\n      <td>12.00</td>\n      <td>1150.0</td>\n      <td>1250.0</td>\n      <td>1200.0</td>\n      <td>2003-04-01</td>\n    </tr>\n    <tr>\n      <th>2</th>\n      <td>Papaya</td>\n      <td>NCT of Delhi</td>\n      <td>Delhi</td>\n      <td>Shahdara</td>\n      <td>Other</td>\n      <td>Fruits</td>\n      <td>0.10</td>\n      <td>150.0</td>\n      <td>300.0</td>\n      <td>250.0</td>\n      <td>2003-04-02</td>\n    </tr>\n    <tr>\n      <th>3</th>\n      <td>Papaya</td>\n      <td>Punjab</td>\n      <td>Bhatinda</td>\n      <td>Bathinda</td>\n      <td>Other</td>\n      <td>Fruits</td>\n      <td>4.50</td>\n      <td>400.0</td>\n      <td>450.0</td>\n      <td>425.0</td>\n      <td>2003-04-01</td>\n    </tr>\n    <tr>\n      <th>4</th>\n      <td>Papaya</td>\n      <td>Punjab</td>\n      <td>Ferozpur</td>\n      <td>Firozepur City</td>\n      <td>Other</td>\n      <td>Fruits</td>\n      <td>10.00</td>\n      <td>600.0</td>\n      <td>800.0</td>\n      <td>700.0</td>\n      <td>2003-04-02</td>\n    </tr>\n  </tbody>\n</table>\n</div>"
          },
          "metadata": {}
        }
      ],
      "execution_count": 18,
      "metadata": {
        "jupyter": {
          "source_hidden": false,
          "outputs_hidden": false
        },
        "nteract": {
          "transient": {
            "deleting": false
          }
        },
        "gather": {
          "logged": 1708175800702
        }
      }
    },
    {
      "cell_type": "code",
      "source": [
        "print(df1.shape)\n"
      ],
      "outputs": [
        {
          "output_type": "stream",
          "name": "stdout",
          "text": "(51729422, 11)\n"
        }
      ],
      "execution_count": 19,
      "metadata": {
        "jupyter": {
          "source_hidden": false,
          "outputs_hidden": false
        },
        "nteract": {
          "transient": {
            "deleting": false
          }
        },
        "gather": {
          "logged": 1708175819128
        }
      }
    },
    {
      "cell_type": "code",
      "source": [
        "df1.dtypes"
      ],
      "outputs": [
        {
          "output_type": "execute_result",
          "execution_count": 20,
          "data": {
            "text/plain": "Commodity                    object\nState Name                   object\nDistrict Name                object\nMarket Name                  object\nVariety                      object\nGroup                        object\nArrivals (Tonnes)           float64\nMin Price (Rs/Quintal)      float64\nMax Price (Rs/Quintal)      float64\nModal Price (Rs/Quintal)    float64\nReported Date                object\ndtype: object"
          },
          "metadata": {}
        }
      ],
      "execution_count": 20,
      "metadata": {
        "jupyter": {
          "source_hidden": false,
          "outputs_hidden": false
        },
        "nteract": {
          "transient": {
            "deleting": false
          }
        },
        "gather": {
          "logged": 1708175821775
        }
      }
    },
    {
      "cell_type": "code",
      "source": [
        "df1[\"Reported Date\"] = pd.to_datetime(df1[\"Reported Date\"])"
      ],
      "outputs": [],
      "execution_count": 21,
      "metadata": {
        "jupyter": {
          "source_hidden": false,
          "outputs_hidden": false
        },
        "nteract": {
          "transient": {
            "deleting": false
          }
        },
        "gather": {
          "logged": 1708176045155
        }
      }
    },
    {
      "cell_type": "code",
      "source": [
        "df1.dtypes"
      ],
      "outputs": [
        {
          "output_type": "execute_result",
          "execution_count": 22,
          "data": {
            "text/plain": "Commodity                           object\nState Name                          object\nDistrict Name                       object\nMarket Name                         object\nVariety                             object\nGroup                               object\nArrivals (Tonnes)                  float64\nMin Price (Rs/Quintal)             float64\nMax Price (Rs/Quintal)             float64\nModal Price (Rs/Quintal)           float64\nReported Date               datetime64[ns]\ndtype: object"
          },
          "metadata": {}
        }
      ],
      "execution_count": 22,
      "metadata": {
        "jupyter": {
          "source_hidden": false,
          "outputs_hidden": false
        },
        "nteract": {
          "transient": {
            "deleting": false
          }
        },
        "gather": {
          "logged": 1708176061569
        }
      }
    },
    {
      "cell_type": "code",
      "source": [
        "df1.shape"
      ],
      "outputs": [
        {
          "output_type": "execute_result",
          "execution_count": 23,
          "data": {
            "text/plain": "(51729422, 11)"
          },
          "metadata": {}
        }
      ],
      "execution_count": 23,
      "metadata": {
        "jupyter": {
          "source_hidden": false,
          "outputs_hidden": false
        },
        "nteract": {
          "transient": {
            "deleting": false
          }
        },
        "gather": {
          "logged": 1708176143248
        }
      }
    },
    {
      "cell_type": "code",
      "source": [
        "from sklearn.preprocessing import LabelEncoder\n",
        "\n",
        "# Assuming df is your DataFrame\n",
        "label_encoder = LabelEncoder()\n",
        "\n",
        "df1['Commodity'] = label_encoder.fit_transform(df1['Commodity'])\n",
        "df1['State Name'] = label_encoder.fit_transform(df1['State Name'])\n",
        "df1['District Name'] = label_encoder.fit_transform(df1['District Name'])\n",
        "df1['Market Name'] = label_encoder.fit_transform(df1['Market Name'])\n",
        "df1['Variety'] = label_encoder.fit_transform(df1['Variety'])\n",
        "df1['Group'] = label_encoder.fit_transform(df1['Group'])\n"
      ],
      "outputs": [],
      "execution_count": 25,
      "metadata": {
        "jupyter": {
          "source_hidden": false,
          "outputs_hidden": false
        },
        "nteract": {
          "transient": {
            "deleting": false
          }
        },
        "gather": {
          "logged": 1708176234527
        }
      }
    },
    {
      "cell_type": "code",
      "source": [
        "df1.dtypes"
      ],
      "outputs": [
        {
          "output_type": "execute_result",
          "execution_count": 26,
          "data": {
            "text/plain": "Commodity                            int64\nState Name                           int64\nDistrict Name                        int64\nMarket Name                          int64\nVariety                              int64\nGroup                                int64\nArrivals (Tonnes)                  float64\nMin Price (Rs/Quintal)             float64\nMax Price (Rs/Quintal)             float64\nModal Price (Rs/Quintal)           float64\nReported Date               datetime64[ns]\ndtype: object"
          },
          "metadata": {}
        }
      ],
      "execution_count": 26,
      "metadata": {
        "jupyter": {
          "source_hidden": false,
          "outputs_hidden": false
        },
        "nteract": {
          "transient": {
            "deleting": false
          }
        },
        "gather": {
          "logged": 1708176271583
        }
      }
    },
    {
      "cell_type": "code",
      "source": [
        "from sklearn.model_selection import train_test_split\n",
        "from sklearn.tree import DecisionTreeRegressor\n",
        "from sklearn.metrics import mean_squared_error\n",
        "from sklearn.preprocessing import StandardScaler\n",
        "\n",
        "\n",
        "# Assuming 'df' is your DataFrame\n",
        "\n",
        "# Separate features and target variable\n",
        "X = df1.drop(['Modal Price (Rs/Quintal)', 'Reported Date'], axis=1)  # Assuming Reported Date is not used as a feature\n",
        "y = df1['Modal Price (Rs/Quintal)']\n",
        "\n",
        "# Split the dataset into training and testing sets\n",
        "X_train, X_test, y_train, y_test = train_test_split(X, y, test_size=0.2, random_state=42)\n",
        "\n",
        "# Standardize features (optional but can be beneficial for decision trees)\n",
        "scaler = StandardScaler()\n",
        "X_train_scaled = scaler.fit_transform(X_train)\n",
        "X_test_scaled = scaler.transform(X_test)\n",
        "\n",
        "# Create a Decision Tree Regressor\n",
        "dt_regressor = DecisionTreeRegressor(random_state=42)\n",
        "\n",
        "# Fit the model on the training data\n",
        "dt_regressor.fit(X_train_scaled, y_train)\n",
        "\n",
        "# Make predictions on the test set\n",
        "y_pred = dt_regressor.predict(X_test_scaled)\n",
        "\n",
        "# Evaluate the model\n",
        "mse = mean_squared_error(y_test, y_pred)\n",
        "print(f'Mean Squared Error: {mse}')\n"
      ],
      "outputs": [
        {
          "output_type": "stream",
          "name": "stdout",
          "text": "Mean Squared Error: 321670.3723928894\n"
        }
      ],
      "execution_count": 27,
      "metadata": {
        "jupyter": {
          "source_hidden": false,
          "outputs_hidden": false
        },
        "nteract": {
          "transient": {
            "deleting": false
          }
        },
        "gather": {
          "logged": 1708177072584
        }
      }
    },
    {
      "cell_type": "code",
      "source": [
        "from sklearn.metrics import mean_squared_error, r2_score\n",
        "r2 = r2_score(y_test, y_pred)\n",
        "print(f'R-squared: {r2}')"
      ],
      "outputs": [],
      "execution_count": null,
      "metadata": {
        "jupyter": {
          "source_hidden": false,
          "outputs_hidden": false
        },
        "nteract": {
          "transient": {
            "deleting": false
          }
        }
      }
    },
    {
      "cell_type": "markdown",
      "source": [],
      "metadata": {
        "nteract": {
          "transient": {
            "deleting": false
          }
        }
      }
    },
    {
      "cell_type": "code",
      "source": [
        "%pip install dask-ml\n"
      ],
      "outputs": [
        {
          "output_type": "stream",
          "name": "stdout",
          "text": "Requirement already satisfied: dask-ml in /anaconda/envs/azureml_py310_sdkv2/lib/python3.10/site-packages (2023.3.24)\nRequirement already satisfied: dask[array,dataframe]>=2.4.0 in /anaconda/envs/azureml_py310_sdkv2/lib/python3.10/site-packages (from dask-ml) (2024.2.0)\nRequirement already satisfied: distributed>=2.4.0 in /anaconda/envs/azureml_py310_sdkv2/lib/python3.10/site-packages (from dask-ml) (2024.2.0)\nRequirement already satisfied: numba>=0.51.0 in /anaconda/envs/azureml_py310_sdkv2/lib/python3.10/site-packages (from dask-ml) (0.59.0)\nRequirement already satisfied: numpy>=1.20.0 in /anaconda/envs/azureml_py310_sdkv2/lib/python3.10/site-packages (from dask-ml) (1.25.0)\nRequirement already satisfied: pandas>=0.24.2 in /anaconda/envs/azureml_py310_sdkv2/lib/python3.10/site-packages (from dask-ml) (2.0.2)\nRequirement already satisfied: scikit-learn>=1.2.0 in /anaconda/envs/azureml_py310_sdkv2/lib/python3.10/site-packages (from dask-ml) (1.2.2)\nRequirement already satisfied: scipy in /anaconda/envs/azureml_py310_sdkv2/lib/python3.10/site-packages (from dask-ml) (1.10.1)\nRequirement already satisfied: dask-glm>=0.2.0 in /anaconda/envs/azureml_py310_sdkv2/lib/python3.10/site-packages (from dask-ml) (0.3.2)\nRequirement already satisfied: multipledispatch>=0.4.9 in /anaconda/envs/azureml_py310_sdkv2/lib/python3.10/site-packages (from dask-ml) (1.0.0)\nRequirement already satisfied: packaging in /anaconda/envs/azureml_py310_sdkv2/lib/python3.10/site-packages (from dask-ml) (23.0)\nRequirement already satisfied: cloudpickle>=0.2.2 in /anaconda/envs/azureml_py310_sdkv2/lib/python3.10/site-packages (from dask-glm>=0.2.0->dask-ml) (2.2.1)\nRequirement already satisfied: sparse>=0.7.0 in /anaconda/envs/azureml_py310_sdkv2/lib/python3.10/site-packages (from dask-glm>=0.2.0->dask-ml) (0.15.1)\nRequirement already satisfied: click>=8.1 in /anaconda/envs/azureml_py310_sdkv2/lib/python3.10/site-packages (from dask[array,dataframe]>=2.4.0->dask-ml) (8.1.7)\nRequirement already satisfied: fsspec>=2021.09.0 in /anaconda/envs/azureml_py310_sdkv2/lib/python3.10/site-packages (from dask[array,dataframe]>=2.4.0->dask-ml) (2023.6.0)\nRequirement already satisfied: partd>=1.2.0 in /anaconda/envs/azureml_py310_sdkv2/lib/python3.10/site-packages (from dask[array,dataframe]>=2.4.0->dask-ml) (1.4.1)\nRequirement already satisfied: pyyaml>=5.3.1 in /anaconda/envs/azureml_py310_sdkv2/lib/python3.10/site-packages (from dask[array,dataframe]>=2.4.0->dask-ml) (6.0)\nRequirement already satisfied: toolz>=0.10.0 in /anaconda/envs/azureml_py310_sdkv2/lib/python3.10/site-packages (from dask[array,dataframe]>=2.4.0->dask-ml) (0.12.1)\nRequirement already satisfied: importlib-metadata>=4.13.0 in /anaconda/envs/azureml_py310_sdkv2/lib/python3.10/site-packages (from dask[array,dataframe]>=2.4.0->dask-ml) (6.7.0)\nRequirement already satisfied: jinja2>=2.10.3 in /anaconda/envs/azureml_py310_sdkv2/lib/python3.10/site-packages (from distributed>=2.4.0->dask-ml) (3.1.2)\nRequirement already satisfied: locket>=1.0.0 in /anaconda/envs/azureml_py310_sdkv2/lib/python3.10/site-packages (from distributed>=2.4.0->dask-ml) (1.0.0)\nRequirement already satisfied: msgpack>=1.0.0 in /anaconda/envs/azureml_py310_sdkv2/lib/python3.10/site-packages (from distributed>=2.4.0->dask-ml) (1.0.5)\nRequirement already satisfied: psutil>=5.7.2 in /anaconda/envs/azureml_py310_sdkv2/lib/python3.10/site-packages (from distributed>=2.4.0->dask-ml) (5.9.0)\nRequirement already satisfied: sortedcontainers>=2.0.5 in /anaconda/envs/azureml_py310_sdkv2/lib/python3.10/site-packages (from distributed>=2.4.0->dask-ml) (2.4.0)\nRequirement already satisfied: tblib>=1.6.0 in /anaconda/envs/azureml_py310_sdkv2/lib/python3.10/site-packages (from distributed>=2.4.0->dask-ml) (3.0.0)\nRequirement already satisfied: tornado>=6.0.4 in /anaconda/envs/azureml_py310_sdkv2/lib/python3.10/site-packages (from distributed>=2.4.0->dask-ml) (6.1)\nRequirement already satisfied: urllib3>=1.24.3 in /anaconda/envs/azureml_py310_sdkv2/lib/python3.10/site-packages (from distributed>=2.4.0->dask-ml) (1.26.16)\nRequirement already satisfied: zict>=3.0.0 in /anaconda/envs/azureml_py310_sdkv2/lib/python3.10/site-packages (from distributed>=2.4.0->dask-ml) (3.0.0)\nRequirement already satisfied: llvmlite<0.43,>=0.42.0dev0 in /anaconda/envs/azureml_py310_sdkv2/lib/python3.10/site-packages (from numba>=0.51.0->dask-ml) (0.42.0)\nRequirement already satisfied: python-dateutil>=2.8.2 in /anaconda/envs/azureml_py310_sdkv2/lib/python3.10/site-packages (from pandas>=0.24.2->dask-ml) (2.8.2)\nRequirement already satisfied: pytz>=2020.1 in /anaconda/envs/azureml_py310_sdkv2/lib/python3.10/site-packages (from pandas>=0.24.2->dask-ml) (2023.3)\nRequirement already satisfied: tzdata>=2022.1 in /anaconda/envs/azureml_py310_sdkv2/lib/python3.10/site-packages (from pandas>=0.24.2->dask-ml) (2023.3)\nRequirement already satisfied: joblib>=1.1.1 in /anaconda/envs/azureml_py310_sdkv2/lib/python3.10/site-packages (from scikit-learn>=1.2.0->dask-ml) (1.2.0)\nRequirement already satisfied: threadpoolctl>=2.0.0 in /anaconda/envs/azureml_py310_sdkv2/lib/python3.10/site-packages (from scikit-learn>=1.2.0->dask-ml) (3.1.0)\nRequirement already satisfied: zipp>=0.5 in /anaconda/envs/azureml_py310_sdkv2/lib/python3.10/site-packages (from importlib-metadata>=4.13.0->dask[array,dataframe]>=2.4.0->dask-ml) (3.15.0)\nRequirement already satisfied: MarkupSafe>=2.0 in /anaconda/envs/azureml_py310_sdkv2/lib/python3.10/site-packages (from jinja2>=2.10.3->distributed>=2.4.0->dask-ml) (2.1.3)\nRequirement already satisfied: six>=1.5 in /anaconda/envs/azureml_py310_sdkv2/lib/python3.10/site-packages (from python-dateutil>=2.8.2->pandas>=0.24.2->dask-ml) (1.16.0)\nNote: you may need to restart the kernel to use updated packages.\n"
        }
      ],
      "execution_count": 7,
      "metadata": {
        "jupyter": {
          "source_hidden": false,
          "outputs_hidden": false
        },
        "nteract": {
          "transient": {
            "deleting": false
          }
        }
      }
    },
    {
      "cell_type": "code",
      "source": [
        "%pip install --upgrade dask-ml\n"
      ],
      "outputs": [
        {
          "output_type": "stream",
          "name": "stdout",
          "text": "Requirement already satisfied: dask-ml in /anaconda/envs/azureml_py310_sdkv2/lib/python3.10/site-packages (2023.3.24)\nRequirement already satisfied: dask[array,dataframe]>=2.4.0 in /anaconda/envs/azureml_py310_sdkv2/lib/python3.10/site-packages (from dask-ml) (2024.2.0)\nRequirement already satisfied: distributed>=2.4.0 in /anaconda/envs/azureml_py310_sdkv2/lib/python3.10/site-packages (from dask-ml) (2024.2.0)\nRequirement already satisfied: numba>=0.51.0 in /anaconda/envs/azureml_py310_sdkv2/lib/python3.10/site-packages (from dask-ml) (0.59.0)\nRequirement already satisfied: numpy>=1.20.0 in /anaconda/envs/azureml_py310_sdkv2/lib/python3.10/site-packages (from dask-ml) (1.25.0)\nRequirement already satisfied: pandas>=0.24.2 in /anaconda/envs/azureml_py310_sdkv2/lib/python3.10/site-packages (from dask-ml) (2.0.2)\nRequirement already satisfied: scikit-learn>=1.2.0 in /anaconda/envs/azureml_py310_sdkv2/lib/python3.10/site-packages (from dask-ml) (1.2.2)\nRequirement already satisfied: scipy in /anaconda/envs/azureml_py310_sdkv2/lib/python3.10/site-packages (from dask-ml) (1.10.1)\nRequirement already satisfied: dask-glm>=0.2.0 in /anaconda/envs/azureml_py310_sdkv2/lib/python3.10/site-packages (from dask-ml) (0.3.2)\nRequirement already satisfied: multipledispatch>=0.4.9 in /anaconda/envs/azureml_py310_sdkv2/lib/python3.10/site-packages (from dask-ml) (1.0.0)\nRequirement already satisfied: packaging in /anaconda/envs/azureml_py310_sdkv2/lib/python3.10/site-packages (from dask-ml) (23.0)\nRequirement already satisfied: cloudpickle>=0.2.2 in /anaconda/envs/azureml_py310_sdkv2/lib/python3.10/site-packages (from dask-glm>=0.2.0->dask-ml) (2.2.1)\nRequirement already satisfied: sparse>=0.7.0 in /anaconda/envs/azureml_py310_sdkv2/lib/python3.10/site-packages (from dask-glm>=0.2.0->dask-ml) (0.15.1)\nRequirement already satisfied: click>=8.1 in /anaconda/envs/azureml_py310_sdkv2/lib/python3.10/site-packages (from dask[array,dataframe]>=2.4.0->dask-ml) (8.1.7)\nRequirement already satisfied: fsspec>=2021.09.0 in /anaconda/envs/azureml_py310_sdkv2/lib/python3.10/site-packages (from dask[array,dataframe]>=2.4.0->dask-ml) (2023.6.0)\nRequirement already satisfied: partd>=1.2.0 in /anaconda/envs/azureml_py310_sdkv2/lib/python3.10/site-packages (from dask[array,dataframe]>=2.4.0->dask-ml) (1.4.1)\nRequirement already satisfied: pyyaml>=5.3.1 in /anaconda/envs/azureml_py310_sdkv2/lib/python3.10/site-packages (from dask[array,dataframe]>=2.4.0->dask-ml) (6.0)\nRequirement already satisfied: toolz>=0.10.0 in /anaconda/envs/azureml_py310_sdkv2/lib/python3.10/site-packages (from dask[array,dataframe]>=2.4.0->dask-ml) (0.12.1)\nRequirement already satisfied: importlib-metadata>=4.13.0 in /anaconda/envs/azureml_py310_sdkv2/lib/python3.10/site-packages (from dask[array,dataframe]>=2.4.0->dask-ml) (6.7.0)\nRequirement already satisfied: jinja2>=2.10.3 in /anaconda/envs/azureml_py310_sdkv2/lib/python3.10/site-packages (from distributed>=2.4.0->dask-ml) (3.1.2)\nRequirement already satisfied: locket>=1.0.0 in /anaconda/envs/azureml_py310_sdkv2/lib/python3.10/site-packages (from distributed>=2.4.0->dask-ml) (1.0.0)\nRequirement already satisfied: msgpack>=1.0.0 in /anaconda/envs/azureml_py310_sdkv2/lib/python3.10/site-packages (from distributed>=2.4.0->dask-ml) (1.0.5)\nRequirement already satisfied: psutil>=5.7.2 in /anaconda/envs/azureml_py310_sdkv2/lib/python3.10/site-packages (from distributed>=2.4.0->dask-ml) (5.9.0)\nRequirement already satisfied: sortedcontainers>=2.0.5 in /anaconda/envs/azureml_py310_sdkv2/lib/python3.10/site-packages (from distributed>=2.4.0->dask-ml) (2.4.0)\nRequirement already satisfied: tblib>=1.6.0 in /anaconda/envs/azureml_py310_sdkv2/lib/python3.10/site-packages (from distributed>=2.4.0->dask-ml) (3.0.0)\nRequirement already satisfied: tornado>=6.0.4 in /anaconda/envs/azureml_py310_sdkv2/lib/python3.10/site-packages (from distributed>=2.4.0->dask-ml) (6.1)\nRequirement already satisfied: urllib3>=1.24.3 in /anaconda/envs/azureml_py310_sdkv2/lib/python3.10/site-packages (from distributed>=2.4.0->dask-ml) (1.26.16)\nRequirement already satisfied: zict>=3.0.0 in /anaconda/envs/azureml_py310_sdkv2/lib/python3.10/site-packages (from distributed>=2.4.0->dask-ml) (3.0.0)\nRequirement already satisfied: llvmlite<0.43,>=0.42.0dev0 in /anaconda/envs/azureml_py310_sdkv2/lib/python3.10/site-packages (from numba>=0.51.0->dask-ml) (0.42.0)\nRequirement already satisfied: python-dateutil>=2.8.2 in /anaconda/envs/azureml_py310_sdkv2/lib/python3.10/site-packages (from pandas>=0.24.2->dask-ml) (2.8.2)\nRequirement already satisfied: pytz>=2020.1 in /anaconda/envs/azureml_py310_sdkv2/lib/python3.10/site-packages (from pandas>=0.24.2->dask-ml) (2023.3)\nRequirement already satisfied: tzdata>=2022.1 in /anaconda/envs/azureml_py310_sdkv2/lib/python3.10/site-packages (from pandas>=0.24.2->dask-ml) (2023.3)\nRequirement already satisfied: joblib>=1.1.1 in /anaconda/envs/azureml_py310_sdkv2/lib/python3.10/site-packages (from scikit-learn>=1.2.0->dask-ml) (1.2.0)\nRequirement already satisfied: threadpoolctl>=2.0.0 in /anaconda/envs/azureml_py310_sdkv2/lib/python3.10/site-packages (from scikit-learn>=1.2.0->dask-ml) (3.1.0)\nRequirement already satisfied: zipp>=0.5 in /anaconda/envs/azureml_py310_sdkv2/lib/python3.10/site-packages (from importlib-metadata>=4.13.0->dask[array,dataframe]>=2.4.0->dask-ml) (3.15.0)\nRequirement already satisfied: MarkupSafe>=2.0 in /anaconda/envs/azureml_py310_sdkv2/lib/python3.10/site-packages (from jinja2>=2.10.3->distributed>=2.4.0->dask-ml) (2.1.3)\nRequirement already satisfied: six>=1.5 in /anaconda/envs/azureml_py310_sdkv2/lib/python3.10/site-packages (from python-dateutil>=2.8.2->pandas>=0.24.2->dask-ml) (1.16.0)\nNote: you may need to restart the kernel to use updated packages.\n"
        }
      ],
      "execution_count": 8,
      "metadata": {
        "jupyter": {
          "source_hidden": false,
          "outputs_hidden": false
        },
        "nteract": {
          "transient": {
            "deleting": false
          }
        }
      }
    },
    {
      "cell_type": "code",
      "source": [
        "import dask.dataframe as dd\n",
        "from dask_ml.model_selection import GridSearchCV as DaskGridSearchCV\n",
        "from sklearn.tree import DecisionTreeRegressor\n",
        "\n",
        "# Convert your pandas DataFrame to a Dask DataFrame\n",
        "ddf = dd.from_pandas(df, npartitions=10)  # You can adjust the number of partitions\n",
        "\n",
        "# Separate features and target variable\n",
        "X = ddf.drop(['Modal Price (Rs/Quintal)', 'Reported Date'], axis=1)\n",
        "y = ddf['Modal Price (Rs/Quintal)']\n",
        "\n",
        "# Create a Decision Tree Regressor\n",
        "dt_regressor = DecisionTreeRegressor(random_state=42)\n",
        "\n",
        "# Define the hyperparameter grid\n",
        "param_grid = {\n",
        "    'max_depth': [None, 10, 20, 30],\n",
        "    'min_samples_split': [2, 5, 10],\n",
        "    'min_samples_leaf': [1, 2, 4]\n",
        "}\n",
        "\n",
        "# Create DaskGridSearchCV object\n",
        "grid_search = DaskGridSearchCV(dt_regressor, param_grid, cv=5, scoring='neg_mean_squared_error')\n",
        "\n",
        "# Fit the DaskGridSearchCV object to the data\n",
        "grid_search.fit(X.values.compute(), y.values.compute())\n",
        "\n",
        "# Print the best hyperparameters\n",
        "best_params = grid_search.best_params_\n",
        "print(f'Best Hyperparameters: {best_params}')\n",
        "\n",
        "# Get the best model\n",
        "best_dt_regressor = grid_search.best_estimator_\n",
        "\n",
        "# Make predictions on the test set using the best model\n",
        "y_pred_best = best_dt_regressor.predict(X_test_scaled)\n",
        "\n",
        "# Evaluate the best model\n",
        "mse_best = mean_squared_error(y_test, y_pred_best)\n",
        "print(f'Mean Squared Error (Best Model): {mse_best}')\n"
      ],
      "outputs": [
        {
          "output_type": "stream",
          "name": "stderr",
          "text": "/anaconda/envs/azureml_py310_sdkv2/lib/python3.10/site-packages/dask/dataframe/_pyarrow_compat.py:23: UserWarning: You are using pyarrow version 12.0.1 which is known to be insecure. See https://www.cve.org/CVERecord?id=CVE-2023-47248 for further details. Please upgrade to pyarrow>=14.0.1 or install pyarrow-hotfix to patch your current version.\n  warnings.warn(\n/tmp/ipykernel_4356/1980421374.py:1: DeprecationWarning: The current Dask DataFrame implementation is deprecated. \nIn a future release, Dask DataFrame will use new implementation that\ncontains several improvements including a logical query planning.\nThe user-facing DataFrame API will remain unchanged.\n\nThe new implementation is already available and can be enabled by\ninstalling the dask-expr library:\n\n    $ pip install dask-expr\n\nand turning the query planning option on:\n\n    >>> import dask\n    >>> dask.config.set({'dataframe.query-planning': True})\n    >>> import dask.dataframe as dd\n\nAPI documentation for the new implementation is available at\nhttps://docs.dask.org/en/stable/dask-expr-api.html\n\nAny feedback can be reported on the Dask issue tracker\nhttps://github.com/dask/dask/issues \n\n  import dask.dataframe as dd\n"
        },
        {
          "output_type": "error",
          "ename": "FileNotFoundError",
          "evalue": "[Errno 2] No such file or directory: '/anaconda/envs/azureml_py310_sdkv2/lib/python3.10/site-packages/click-8.0.4.dist-info/METADATA'",
          "traceback": [
            "\u001b[0;31m---------------------------------------------------------------------------\u001b[0m",
            "\u001b[0;31mAttributeError\u001b[0m                            Traceback (most recent call last)",
            "File \u001b[0;32m/anaconda/envs/azureml_py310_sdkv2/lib/python3.10/site-packages/pkg_resources/__init__.py:3108\u001b[0m, in \u001b[0;36mDistInfoDistribution._dep_map\u001b[0;34m(self)\u001b[0m\n\u001b[1;32m   3107\u001b[0m \u001b[38;5;28;01mtry\u001b[39;00m:\n\u001b[0;32m-> 3108\u001b[0m     \u001b[38;5;28;01mreturn\u001b[39;00m \u001b[38;5;28;43mself\u001b[39;49m\u001b[38;5;241;43m.\u001b[39;49m\u001b[43m__dep_map\u001b[49m\n\u001b[1;32m   3109\u001b[0m \u001b[38;5;28;01mexcept\u001b[39;00m \u001b[38;5;167;01mAttributeError\u001b[39;00m:\n",
            "File \u001b[0;32m/anaconda/envs/azureml_py310_sdkv2/lib/python3.10/site-packages/pkg_resources/__init__.py:2901\u001b[0m, in \u001b[0;36mDistribution.__getattr__\u001b[0;34m(self, attr)\u001b[0m\n\u001b[1;32m   2900\u001b[0m \u001b[38;5;28;01mif\u001b[39;00m attr\u001b[38;5;241m.\u001b[39mstartswith(\u001b[38;5;124m'\u001b[39m\u001b[38;5;124m_\u001b[39m\u001b[38;5;124m'\u001b[39m):\n\u001b[0;32m-> 2901\u001b[0m     \u001b[38;5;28;01mraise\u001b[39;00m \u001b[38;5;167;01mAttributeError\u001b[39;00m(attr)\n\u001b[1;32m   2902\u001b[0m \u001b[38;5;28;01mreturn\u001b[39;00m \u001b[38;5;28mgetattr\u001b[39m(\u001b[38;5;28mself\u001b[39m\u001b[38;5;241m.\u001b[39m_provider, attr)\n",
            "\u001b[0;31mAttributeError\u001b[0m: _DistInfoDistribution__dep_map",
            "\nDuring handling of the above exception, another exception occurred:\n",
            "\u001b[0;31mAttributeError\u001b[0m                            Traceback (most recent call last)",
            "File \u001b[0;32m/anaconda/envs/azureml_py310_sdkv2/lib/python3.10/site-packages/pkg_resources/__init__.py:3099\u001b[0m, in \u001b[0;36mDistInfoDistribution._parsed_pkg_info\u001b[0;34m(self)\u001b[0m\n\u001b[1;32m   3098\u001b[0m \u001b[38;5;28;01mtry\u001b[39;00m:\n\u001b[0;32m-> 3099\u001b[0m     \u001b[38;5;28;01mreturn\u001b[39;00m \u001b[38;5;28;43mself\u001b[39;49m\u001b[38;5;241;43m.\u001b[39;49m\u001b[43m_pkg_info\u001b[49m\n\u001b[1;32m   3100\u001b[0m \u001b[38;5;28;01mexcept\u001b[39;00m \u001b[38;5;167;01mAttributeError\u001b[39;00m:\n",
            "File \u001b[0;32m/anaconda/envs/azureml_py310_sdkv2/lib/python3.10/site-packages/pkg_resources/__init__.py:2901\u001b[0m, in \u001b[0;36mDistribution.__getattr__\u001b[0;34m(self, attr)\u001b[0m\n\u001b[1;32m   2900\u001b[0m \u001b[38;5;28;01mif\u001b[39;00m attr\u001b[38;5;241m.\u001b[39mstartswith(\u001b[38;5;124m'\u001b[39m\u001b[38;5;124m_\u001b[39m\u001b[38;5;124m'\u001b[39m):\n\u001b[0;32m-> 2901\u001b[0m     \u001b[38;5;28;01mraise\u001b[39;00m \u001b[38;5;167;01mAttributeError\u001b[39;00m(attr)\n\u001b[1;32m   2902\u001b[0m \u001b[38;5;28;01mreturn\u001b[39;00m \u001b[38;5;28mgetattr\u001b[39m(\u001b[38;5;28mself\u001b[39m\u001b[38;5;241m.\u001b[39m_provider, attr)\n",
            "\u001b[0;31mAttributeError\u001b[0m: _pkg_info",
            "\nDuring handling of the above exception, another exception occurred:\n",
            "\u001b[0;31mFileNotFoundError\u001b[0m                         Traceback (most recent call last)",
            "Cell \u001b[0;32mIn[9], line 2\u001b[0m\n\u001b[1;32m      1\u001b[0m \u001b[38;5;28;01mimport\u001b[39;00m \u001b[38;5;21;01mdask\u001b[39;00m\u001b[38;5;21;01m.\u001b[39;00m\u001b[38;5;21;01mdataframe\u001b[39;00m \u001b[38;5;28;01mas\u001b[39;00m \u001b[38;5;21;01mdd\u001b[39;00m\n\u001b[0;32m----> 2\u001b[0m \u001b[38;5;28;01mfrom\u001b[39;00m \u001b[38;5;21;01mdask_ml\u001b[39;00m\u001b[38;5;21;01m.\u001b[39;00m\u001b[38;5;21;01mmodel_selection\u001b[39;00m \u001b[38;5;28;01mimport\u001b[39;00m GridSearchCV \u001b[38;5;28;01mas\u001b[39;00m DaskGridSearchCV\n\u001b[1;32m      3\u001b[0m \u001b[38;5;28;01mfrom\u001b[39;00m \u001b[38;5;21;01msklearn\u001b[39;00m\u001b[38;5;21;01m.\u001b[39;00m\u001b[38;5;21;01mtree\u001b[39;00m \u001b[38;5;28;01mimport\u001b[39;00m DecisionTreeRegressor\n\u001b[1;32m      5\u001b[0m \u001b[38;5;66;03m# Convert your pandas DataFrame to a Dask DataFrame\u001b[39;00m\n",
            "File \u001b[0;32m/anaconda/envs/azureml_py310_sdkv2/lib/python3.10/site-packages/dask_ml/__init__.py:9\u001b[0m\n\u001b[1;32m      6\u001b[0m __all__ \u001b[38;5;241m=\u001b[39m []\n\u001b[1;32m      8\u001b[0m \u001b[38;5;28;01mtry\u001b[39;00m:\n\u001b[0;32m----> 9\u001b[0m     __version__ \u001b[38;5;241m=\u001b[39m \u001b[43mget_distribution\u001b[49m\u001b[43m(\u001b[49m\u001b[38;5;18;43m__name__\u001b[39;49m\u001b[43m)\u001b[49m\u001b[38;5;241m.\u001b[39mversion\n\u001b[1;32m     10\u001b[0m     __all__\u001b[38;5;241m.\u001b[39mappend(\u001b[38;5;124m\"\u001b[39m\u001b[38;5;124m__version__\u001b[39m\u001b[38;5;124m\"\u001b[39m)\n\u001b[1;32m     11\u001b[0m \u001b[38;5;28;01mexcept\u001b[39;00m DistributionNotFound:\n\u001b[1;32m     12\u001b[0m     \u001b[38;5;66;03m# package is not installed\u001b[39;00m\n",
            "File \u001b[0;32m/anaconda/envs/azureml_py310_sdkv2/lib/python3.10/site-packages/pkg_resources/__init__.py:526\u001b[0m, in \u001b[0;36mget_distribution\u001b[0;34m(dist)\u001b[0m\n\u001b[1;32m    524\u001b[0m     dist \u001b[38;5;241m=\u001b[39m Requirement\u001b[38;5;241m.\u001b[39mparse(dist)\n\u001b[1;32m    525\u001b[0m \u001b[38;5;28;01mif\u001b[39;00m \u001b[38;5;28misinstance\u001b[39m(dist, Requirement):\n\u001b[0;32m--> 526\u001b[0m     dist \u001b[38;5;241m=\u001b[39m \u001b[43mget_provider\u001b[49m\u001b[43m(\u001b[49m\u001b[43mdist\u001b[49m\u001b[43m)\u001b[49m\n\u001b[1;32m    527\u001b[0m \u001b[38;5;28;01mif\u001b[39;00m \u001b[38;5;129;01mnot\u001b[39;00m \u001b[38;5;28misinstance\u001b[39m(dist, Distribution):\n\u001b[1;32m    528\u001b[0m     \u001b[38;5;28;01mraise\u001b[39;00m \u001b[38;5;167;01mTypeError\u001b[39;00m(\u001b[38;5;124m\"\u001b[39m\u001b[38;5;124mExpected string, Requirement, or Distribution\u001b[39m\u001b[38;5;124m\"\u001b[39m, dist)\n",
            "File \u001b[0;32m/anaconda/envs/azureml_py310_sdkv2/lib/python3.10/site-packages/pkg_resources/__init__.py:398\u001b[0m, in \u001b[0;36mget_provider\u001b[0;34m(moduleOrReq)\u001b[0m\n\u001b[1;32m    396\u001b[0m \u001b[38;5;250m\u001b[39m\u001b[38;5;124;03m\"\"\"Return an IResourceProvider for the named module or requirement\"\"\"\u001b[39;00m\n\u001b[1;32m    397\u001b[0m \u001b[38;5;28;01mif\u001b[39;00m \u001b[38;5;28misinstance\u001b[39m(moduleOrReq, Requirement):\n\u001b[0;32m--> 398\u001b[0m     \u001b[38;5;28;01mreturn\u001b[39;00m working_set\u001b[38;5;241m.\u001b[39mfind(moduleOrReq) \u001b[38;5;129;01mor\u001b[39;00m \u001b[43mrequire\u001b[49m\u001b[43m(\u001b[49m\u001b[38;5;28;43mstr\u001b[39;49m\u001b[43m(\u001b[49m\u001b[43mmoduleOrReq\u001b[49m\u001b[43m)\u001b[49m\u001b[43m)\u001b[49m[\u001b[38;5;241m0\u001b[39m]\n\u001b[1;32m    399\u001b[0m \u001b[38;5;28;01mtry\u001b[39;00m:\n\u001b[1;32m    400\u001b[0m     module \u001b[38;5;241m=\u001b[39m sys\u001b[38;5;241m.\u001b[39mmodules[moduleOrReq]\n",
            "File \u001b[0;32m/anaconda/envs/azureml_py310_sdkv2/lib/python3.10/site-packages/pkg_resources/__init__.py:966\u001b[0m, in \u001b[0;36mWorkingSet.require\u001b[0;34m(self, *requirements)\u001b[0m\n\u001b[1;32m    957\u001b[0m \u001b[38;5;28;01mdef\u001b[39;00m \u001b[38;5;21mrequire\u001b[39m(\u001b[38;5;28mself\u001b[39m, \u001b[38;5;241m*\u001b[39mrequirements):\n\u001b[1;32m    958\u001b[0m \u001b[38;5;250m    \u001b[39m\u001b[38;5;124;03m\"\"\"Ensure that distributions matching `requirements` are activated\u001b[39;00m\n\u001b[1;32m    959\u001b[0m \n\u001b[1;32m    960\u001b[0m \u001b[38;5;124;03m    `requirements` must be a string or a (possibly-nested) sequence\u001b[39;00m\n\u001b[0;32m   (...)\u001b[0m\n\u001b[1;32m    964\u001b[0m \u001b[38;5;124;03m    included, even if they were already activated in this working set.\u001b[39;00m\n\u001b[1;32m    965\u001b[0m \u001b[38;5;124;03m    \"\"\"\u001b[39;00m\n\u001b[0;32m--> 966\u001b[0m     needed \u001b[38;5;241m=\u001b[39m \u001b[38;5;28;43mself\u001b[39;49m\u001b[38;5;241;43m.\u001b[39;49m\u001b[43mresolve\u001b[49m\u001b[43m(\u001b[49m\u001b[43mparse_requirements\u001b[49m\u001b[43m(\u001b[49m\u001b[43mrequirements\u001b[49m\u001b[43m)\u001b[49m\u001b[43m)\u001b[49m\n\u001b[1;32m    968\u001b[0m     \u001b[38;5;28;01mfor\u001b[39;00m dist \u001b[38;5;129;01min\u001b[39;00m needed:\n\u001b[1;32m    969\u001b[0m         \u001b[38;5;28mself\u001b[39m\u001b[38;5;241m.\u001b[39madd(dist)\n",
            "File \u001b[0;32m/anaconda/envs/azureml_py310_sdkv2/lib/python3.10/site-packages/pkg_resources/__init__.py:832\u001b[0m, in \u001b[0;36mWorkingSet.resolve\u001b[0;34m(self, requirements, env, installer, replace_conflicting, extras)\u001b[0m\n\u001b[1;32m    827\u001b[0m dist \u001b[38;5;241m=\u001b[39m \u001b[38;5;28mself\u001b[39m\u001b[38;5;241m.\u001b[39m_resolve_dist(\n\u001b[1;32m    828\u001b[0m     req, best, replace_conflicting, env, installer, required_by, to_activate\n\u001b[1;32m    829\u001b[0m )\n\u001b[1;32m    831\u001b[0m \u001b[38;5;66;03m# push the new requirements onto the stack\u001b[39;00m\n\u001b[0;32m--> 832\u001b[0m new_requirements \u001b[38;5;241m=\u001b[39m \u001b[43mdist\u001b[49m\u001b[38;5;241;43m.\u001b[39;49m\u001b[43mrequires\u001b[49m\u001b[43m(\u001b[49m\u001b[43mreq\u001b[49m\u001b[38;5;241;43m.\u001b[39;49m\u001b[43mextras\u001b[49m\u001b[43m)\u001b[49m[::\u001b[38;5;241m-\u001b[39m\u001b[38;5;241m1\u001b[39m]\n\u001b[1;32m    833\u001b[0m requirements\u001b[38;5;241m.\u001b[39mextend(new_requirements)\n\u001b[1;32m    835\u001b[0m \u001b[38;5;66;03m# Register the new requirements needed by req\u001b[39;00m\n",
            "File \u001b[0;32m/anaconda/envs/azureml_py310_sdkv2/lib/python3.10/site-packages/pkg_resources/__init__.py:2821\u001b[0m, in \u001b[0;36mDistribution.requires\u001b[0;34m(self, extras)\u001b[0m\n\u001b[1;32m   2819\u001b[0m \u001b[38;5;28;01mdef\u001b[39;00m \u001b[38;5;21mrequires\u001b[39m(\u001b[38;5;28mself\u001b[39m, extras\u001b[38;5;241m=\u001b[39m()):\n\u001b[1;32m   2820\u001b[0m \u001b[38;5;250m    \u001b[39m\u001b[38;5;124;03m\"\"\"List of Requirements needed for this distro if `extras` are used\"\"\"\u001b[39;00m\n\u001b[0;32m-> 2821\u001b[0m     dm \u001b[38;5;241m=\u001b[39m \u001b[38;5;28;43mself\u001b[39;49m\u001b[38;5;241;43m.\u001b[39;49m\u001b[43m_dep_map\u001b[49m\n\u001b[1;32m   2822\u001b[0m     deps \u001b[38;5;241m=\u001b[39m []\n\u001b[1;32m   2823\u001b[0m     deps\u001b[38;5;241m.\u001b[39mextend(dm\u001b[38;5;241m.\u001b[39mget(\u001b[38;5;28;01mNone\u001b[39;00m, ()))\n",
            "File \u001b[0;32m/anaconda/envs/azureml_py310_sdkv2/lib/python3.10/site-packages/pkg_resources/__init__.py:3110\u001b[0m, in \u001b[0;36mDistInfoDistribution._dep_map\u001b[0;34m(self)\u001b[0m\n\u001b[1;32m   3108\u001b[0m     \u001b[38;5;28;01mreturn\u001b[39;00m \u001b[38;5;28mself\u001b[39m\u001b[38;5;241m.\u001b[39m__dep_map\n\u001b[1;32m   3109\u001b[0m \u001b[38;5;28;01mexcept\u001b[39;00m \u001b[38;5;167;01mAttributeError\u001b[39;00m:\n\u001b[0;32m-> 3110\u001b[0m     \u001b[38;5;28mself\u001b[39m\u001b[38;5;241m.\u001b[39m__dep_map \u001b[38;5;241m=\u001b[39m \u001b[38;5;28;43mself\u001b[39;49m\u001b[38;5;241;43m.\u001b[39;49m\u001b[43m_compute_dependencies\u001b[49m\u001b[43m(\u001b[49m\u001b[43m)\u001b[49m\n\u001b[1;32m   3111\u001b[0m     \u001b[38;5;28;01mreturn\u001b[39;00m \u001b[38;5;28mself\u001b[39m\u001b[38;5;241m.\u001b[39m__dep_map\n",
            "File \u001b[0;32m/anaconda/envs/azureml_py310_sdkv2/lib/python3.10/site-packages/pkg_resources/__init__.py:3119\u001b[0m, in \u001b[0;36mDistInfoDistribution._compute_dependencies\u001b[0;34m(self)\u001b[0m\n\u001b[1;32m   3117\u001b[0m reqs \u001b[38;5;241m=\u001b[39m []\n\u001b[1;32m   3118\u001b[0m \u001b[38;5;66;03m# Including any condition expressions\u001b[39;00m\n\u001b[0;32m-> 3119\u001b[0m \u001b[38;5;28;01mfor\u001b[39;00m req \u001b[38;5;129;01min\u001b[39;00m \u001b[38;5;28;43mself\u001b[39;49m\u001b[38;5;241;43m.\u001b[39;49m\u001b[43m_parsed_pkg_info\u001b[49m\u001b[38;5;241m.\u001b[39mget_all(\u001b[38;5;124m'\u001b[39m\u001b[38;5;124mRequires-Dist\u001b[39m\u001b[38;5;124m'\u001b[39m) \u001b[38;5;129;01mor\u001b[39;00m []:\n\u001b[1;32m   3120\u001b[0m     reqs\u001b[38;5;241m.\u001b[39mextend(parse_requirements(req))\n\u001b[1;32m   3122\u001b[0m \u001b[38;5;28;01mdef\u001b[39;00m \u001b[38;5;21mreqs_for_extra\u001b[39m(extra):\n",
            "File \u001b[0;32m/anaconda/envs/azureml_py310_sdkv2/lib/python3.10/site-packages/pkg_resources/__init__.py:3101\u001b[0m, in \u001b[0;36mDistInfoDistribution._parsed_pkg_info\u001b[0;34m(self)\u001b[0m\n\u001b[1;32m   3099\u001b[0m     \u001b[38;5;28;01mreturn\u001b[39;00m \u001b[38;5;28mself\u001b[39m\u001b[38;5;241m.\u001b[39m_pkg_info\n\u001b[1;32m   3100\u001b[0m \u001b[38;5;28;01mexcept\u001b[39;00m \u001b[38;5;167;01mAttributeError\u001b[39;00m:\n\u001b[0;32m-> 3101\u001b[0m     metadata \u001b[38;5;241m=\u001b[39m \u001b[38;5;28;43mself\u001b[39;49m\u001b[38;5;241;43m.\u001b[39;49m\u001b[43mget_metadata\u001b[49m\u001b[43m(\u001b[49m\u001b[38;5;28;43mself\u001b[39;49m\u001b[38;5;241;43m.\u001b[39;49m\u001b[43mPKG_INFO\u001b[49m\u001b[43m)\u001b[49m\n\u001b[1;32m   3102\u001b[0m     \u001b[38;5;28mself\u001b[39m\u001b[38;5;241m.\u001b[39m_pkg_info \u001b[38;5;241m=\u001b[39m email\u001b[38;5;241m.\u001b[39mparser\u001b[38;5;241m.\u001b[39mParser()\u001b[38;5;241m.\u001b[39mparsestr(metadata)\n\u001b[1;32m   3103\u001b[0m     \u001b[38;5;28;01mreturn\u001b[39;00m \u001b[38;5;28mself\u001b[39m\u001b[38;5;241m.\u001b[39m_pkg_info\n",
            "File \u001b[0;32m/anaconda/envs/azureml_py310_sdkv2/lib/python3.10/site-packages/pkg_resources/__init__.py:1517\u001b[0m, in \u001b[0;36mNullProvider.get_metadata\u001b[0;34m(self, name)\u001b[0m\n\u001b[1;32m   1515\u001b[0m     \u001b[38;5;28;01mreturn\u001b[39;00m \u001b[38;5;124m\"\u001b[39m\u001b[38;5;124m\"\u001b[39m\n\u001b[1;32m   1516\u001b[0m path \u001b[38;5;241m=\u001b[39m \u001b[38;5;28mself\u001b[39m\u001b[38;5;241m.\u001b[39m_get_metadata_path(name)\n\u001b[0;32m-> 1517\u001b[0m value \u001b[38;5;241m=\u001b[39m \u001b[38;5;28;43mself\u001b[39;49m\u001b[38;5;241;43m.\u001b[39;49m\u001b[43m_get\u001b[49m\u001b[43m(\u001b[49m\u001b[43mpath\u001b[49m\u001b[43m)\u001b[49m\n\u001b[1;32m   1518\u001b[0m \u001b[38;5;28;01mtry\u001b[39;00m:\n\u001b[1;32m   1519\u001b[0m     \u001b[38;5;28;01mreturn\u001b[39;00m value\u001b[38;5;241m.\u001b[39mdecode(\u001b[38;5;124m'\u001b[39m\u001b[38;5;124mutf-8\u001b[39m\u001b[38;5;124m'\u001b[39m)\n",
            "File \u001b[0;32m/anaconda/envs/azureml_py310_sdkv2/lib/python3.10/site-packages/pkg_resources/__init__.py:1726\u001b[0m, in \u001b[0;36mDefaultProvider._get\u001b[0;34m(self, path)\u001b[0m\n\u001b[1;32m   1725\u001b[0m \u001b[38;5;28;01mdef\u001b[39;00m \u001b[38;5;21m_get\u001b[39m(\u001b[38;5;28mself\u001b[39m, path):\n\u001b[0;32m-> 1726\u001b[0m     \u001b[38;5;28;01mwith\u001b[39;00m \u001b[38;5;28;43mopen\u001b[39;49m\u001b[43m(\u001b[49m\u001b[43mpath\u001b[49m\u001b[43m,\u001b[49m\u001b[43m \u001b[49m\u001b[38;5;124;43m'\u001b[39;49m\u001b[38;5;124;43mrb\u001b[39;49m\u001b[38;5;124;43m'\u001b[39;49m\u001b[43m)\u001b[49m \u001b[38;5;28;01mas\u001b[39;00m stream:\n\u001b[1;32m   1727\u001b[0m         \u001b[38;5;28;01mreturn\u001b[39;00m stream\u001b[38;5;241m.\u001b[39mread()\n",
            "\u001b[0;31mFileNotFoundError\u001b[0m: [Errno 2] No such file or directory: '/anaconda/envs/azureml_py310_sdkv2/lib/python3.10/site-packages/click-8.0.4.dist-info/METADATA'"
          ]
        }
      ],
      "execution_count": 9,
      "metadata": {
        "jupyter": {
          "source_hidden": false,
          "outputs_hidden": false
        },
        "nteract": {
          "transient": {
            "deleting": false
          }
        },
        "gather": {
          "logged": 1708183512056
        }
      }
    },
    {
      "cell_type": "code",
      "source": [
        "%pip install --upgrade pip setuptools\n"
      ],
      "outputs": [
        {
          "output_type": "stream",
          "name": "stdout",
          "text": "Requirement already satisfied: pip in /anaconda/envs/azureml_py310_sdkv2/lib/python3.10/site-packages (23.1.2)\nCollecting pip\n  Downloading pip-24.0-py3-none-any.whl (2.1 MB)\n\u001b[2K     \u001b[90m━━━━━━━━━━━━━━━━━━━━━━━━━━━━━━━━━━━━━━━━\u001b[0m \u001b[32m2.1/2.1 MB\u001b[0m \u001b[31m36.8 MB/s\u001b[0m eta \u001b[36m0:00:00\u001b[0ma \u001b[36m0:00:01\u001b[0m\n\u001b[?25hRequirement already satisfied: setuptools in /anaconda/envs/azureml_py310_sdkv2/lib/python3.10/site-packages (67.8.0)\nCollecting setuptools\n  Downloading setuptools-69.1.0-py3-none-any.whl (819 kB)\n\u001b[2K     \u001b[90m━━━━━━━━━━━━━━━━━━━━━━━━━━━━━━━━━━━━━━\u001b[0m \u001b[32m819.3/819.3 kB\u001b[0m \u001b[31m49.7 MB/s\u001b[0m eta \u001b[36m0:00:00\u001b[0m\n\u001b[?25hInstalling collected packages: setuptools, pip\n  Attempting uninstall: setuptools\n    Found existing installation: setuptools 67.8.0\n    Uninstalling setuptools-67.8.0:\n      Successfully uninstalled setuptools-67.8.0\n  Attempting uninstall: pip\n    Found existing installation: pip 23.1.2\n    Uninstalling pip-23.1.2:\n      Successfully uninstalled pip-23.1.2\nSuccessfully installed pip-24.0 setuptools-69.1.0\nNote: you may need to restart the kernel to use updated packages.\n"
        }
      ],
      "execution_count": 30,
      "metadata": {
        "jupyter": {
          "source_hidden": false,
          "outputs_hidden": false
        },
        "nteract": {
          "transient": {
            "deleting": false
          }
        }
      }
    },
    {
      "cell_type": "code",
      "source": [
        "%pip uninstall click\n",
        "%pip install click\n"
      ],
      "outputs": [
        {
          "output_type": "stream",
          "name": "stdout",
          "text": "Found existing installation: click 8.1.7\nUninstalling click-8.1.7:\n  Would remove:\n    /anaconda/envs/azureml_py310_sdkv2/lib/python3.10/site-packages/click-8.1.7.dist-info/*\n    /anaconda/envs/azureml_py310_sdkv2/lib/python3.10/site-packages/click/*\nProceed (Y/n)? ^C\n\u001b[31mERROR: Operation cancelled by user\u001b[0m\u001b[31m\n\u001b[0mNote: you may need to restart the kernel to use updated packages.\nRequirement already satisfied: click in /anaconda/envs/azureml_py310_sdkv2/lib/python3.10/site-packages (8.1.7)\nNote: you may need to restart the kernel to use updated packages.\n"
        },
        {
          "output_type": "stream",
          "name": "stderr",
          "text": "Engine process terminated with returncode=-2\nRuntimeError('Engine process terminated. Please try running again. |session_id=l_9bcae44f-87f7-48b2-9a8a-cb71d0ccc796')\n"
        }
      ],
      "execution_count": 31,
      "metadata": {
        "jupyter": {
          "source_hidden": false,
          "outputs_hidden": false
        },
        "nteract": {
          "transient": {
            "deleting": false
          }
        }
      }
    },
    {
      "cell_type": "code",
      "source": [
        "df_null = df1[df1.isnull().any(axis=1)]\n"
      ],
      "outputs": [],
      "execution_count": 11,
      "metadata": {
        "jupyter": {
          "source_hidden": false,
          "outputs_hidden": false
        },
        "nteract": {
          "transient": {
            "deleting": false
          }
        },
        "gather": {
          "logged": 1708172658406
        }
      }
    },
    {
      "cell_type": "code",
      "source": [
        "df_null"
      ],
      "outputs": [
        {
          "output_type": "execute_result",
          "execution_count": 12,
          "data": {
            "text/plain": "          Arrivals (Tonnes)  Min Price (Rs/Quintal)  Max Price (Rs/Quintal)  \\\n60783                  0.15                  7500.0                  8000.0   \n60784                  0.20                  5400.0                  6000.0   \n60785                  0.15                  6000.0                  7000.0   \n60786                  4.00                  1000.0                  1000.0   \n60787                  4.34                  1000.0                  1200.0   \n...                     ...                     ...                     ...   \n90542638                NaN                     NaN                     NaN   \n90542639                NaN                     NaN                     NaN   \n90542640                NaN                     NaN                     NaN   \n90542641                NaN                     NaN                     NaN   \n90542642                NaN                     NaN                     NaN   \n\n          Modal Price (Rs/Quintal)  Commodity_index  State Name_index  \\\n60783                       7800.0              NaN               NaN   \n60784                       5700.0              NaN               NaN   \n60785                       6500.0              NaN               NaN   \n60786                       1000.0              NaN               NaN   \n60787                       1050.0              NaN               NaN   \n...                            ...              ...               ...   \n90542638                       NaN              4.0               3.0   \n90542639                       NaN              4.0               0.0   \n90542640                       NaN              4.0               0.0   \n90542641                       NaN              4.0               0.0   \n90542642                       NaN              4.0               0.0   \n\n          District Name_index  Market Name_index  Variety_index  Group_index  \\\n60783                     NaN                NaN            NaN          NaN   \n60784                     NaN                NaN            NaN          NaN   \n60785                     NaN                NaN            NaN          NaN   \n60786                     NaN                NaN            NaN          NaN   \n60787                     NaN                NaN            NaN          NaN   \n...                       ...                ...            ...          ...   \n90542638                 27.0              622.0            0.0          0.0   \n90542639                 40.0              477.0            2.0          0.0   \n90542640                 97.0              281.0            2.0          0.0   \n90542641                156.0             1179.0            2.0          0.0   \n90542642                 57.0              627.0            2.0          0.0   \n\n         Reported Date  \n60783       2020-11-05  \n60784       2020-11-05  \n60785       2020-11-04  \n60786       2012-04-05  \n60787       2012-04-03  \n...                ...  \n90542638           NaN  \n90542639           NaN  \n90542640           NaN  \n90542641           NaN  \n90542642           NaN  \n\n[71049506 rows x 11 columns]",
            "text/html": "<div>\n<style scoped>\n    .dataframe tbody tr th:only-of-type {\n        vertical-align: middle;\n    }\n\n    .dataframe tbody tr th {\n        vertical-align: top;\n    }\n\n    .dataframe thead th {\n        text-align: right;\n    }\n</style>\n<table border=\"1\" class=\"dataframe\">\n  <thead>\n    <tr style=\"text-align: right;\">\n      <th></th>\n      <th>Arrivals (Tonnes)</th>\n      <th>Min Price (Rs/Quintal)</th>\n      <th>Max Price (Rs/Quintal)</th>\n      <th>Modal Price (Rs/Quintal)</th>\n      <th>Commodity_index</th>\n      <th>State Name_index</th>\n      <th>District Name_index</th>\n      <th>Market Name_index</th>\n      <th>Variety_index</th>\n      <th>Group_index</th>\n      <th>Reported Date</th>\n    </tr>\n  </thead>\n  <tbody>\n    <tr>\n      <th>60783</th>\n      <td>0.15</td>\n      <td>7500.0</td>\n      <td>8000.0</td>\n      <td>7800.0</td>\n      <td>NaN</td>\n      <td>NaN</td>\n      <td>NaN</td>\n      <td>NaN</td>\n      <td>NaN</td>\n      <td>NaN</td>\n      <td>2020-11-05</td>\n    </tr>\n    <tr>\n      <th>60784</th>\n      <td>0.20</td>\n      <td>5400.0</td>\n      <td>6000.0</td>\n      <td>5700.0</td>\n      <td>NaN</td>\n      <td>NaN</td>\n      <td>NaN</td>\n      <td>NaN</td>\n      <td>NaN</td>\n      <td>NaN</td>\n      <td>2020-11-05</td>\n    </tr>\n    <tr>\n      <th>60785</th>\n      <td>0.15</td>\n      <td>6000.0</td>\n      <td>7000.0</td>\n      <td>6500.0</td>\n      <td>NaN</td>\n      <td>NaN</td>\n      <td>NaN</td>\n      <td>NaN</td>\n      <td>NaN</td>\n      <td>NaN</td>\n      <td>2020-11-04</td>\n    </tr>\n    <tr>\n      <th>60786</th>\n      <td>4.00</td>\n      <td>1000.0</td>\n      <td>1000.0</td>\n      <td>1000.0</td>\n      <td>NaN</td>\n      <td>NaN</td>\n      <td>NaN</td>\n      <td>NaN</td>\n      <td>NaN</td>\n      <td>NaN</td>\n      <td>2012-04-05</td>\n    </tr>\n    <tr>\n      <th>60787</th>\n      <td>4.34</td>\n      <td>1000.0</td>\n      <td>1200.0</td>\n      <td>1050.0</td>\n      <td>NaN</td>\n      <td>NaN</td>\n      <td>NaN</td>\n      <td>NaN</td>\n      <td>NaN</td>\n      <td>NaN</td>\n      <td>2012-04-03</td>\n    </tr>\n    <tr>\n      <th>...</th>\n      <td>...</td>\n      <td>...</td>\n      <td>...</td>\n      <td>...</td>\n      <td>...</td>\n      <td>...</td>\n      <td>...</td>\n      <td>...</td>\n      <td>...</td>\n      <td>...</td>\n      <td>...</td>\n    </tr>\n    <tr>\n      <th>90542638</th>\n      <td>NaN</td>\n      <td>NaN</td>\n      <td>NaN</td>\n      <td>NaN</td>\n      <td>4.0</td>\n      <td>3.0</td>\n      <td>27.0</td>\n      <td>622.0</td>\n      <td>0.0</td>\n      <td>0.0</td>\n      <td>NaN</td>\n    </tr>\n    <tr>\n      <th>90542639</th>\n      <td>NaN</td>\n      <td>NaN</td>\n      <td>NaN</td>\n      <td>NaN</td>\n      <td>4.0</td>\n      <td>0.0</td>\n      <td>40.0</td>\n      <td>477.0</td>\n      <td>2.0</td>\n      <td>0.0</td>\n      <td>NaN</td>\n    </tr>\n    <tr>\n      <th>90542640</th>\n      <td>NaN</td>\n      <td>NaN</td>\n      <td>NaN</td>\n      <td>NaN</td>\n      <td>4.0</td>\n      <td>0.0</td>\n      <td>97.0</td>\n      <td>281.0</td>\n      <td>2.0</td>\n      <td>0.0</td>\n      <td>NaN</td>\n    </tr>\n    <tr>\n      <th>90542641</th>\n      <td>NaN</td>\n      <td>NaN</td>\n      <td>NaN</td>\n      <td>NaN</td>\n      <td>4.0</td>\n      <td>0.0</td>\n      <td>156.0</td>\n      <td>1179.0</td>\n      <td>2.0</td>\n      <td>0.0</td>\n      <td>NaN</td>\n    </tr>\n    <tr>\n      <th>90542642</th>\n      <td>NaN</td>\n      <td>NaN</td>\n      <td>NaN</td>\n      <td>NaN</td>\n      <td>4.0</td>\n      <td>0.0</td>\n      <td>57.0</td>\n      <td>627.0</td>\n      <td>2.0</td>\n      <td>0.0</td>\n      <td>NaN</td>\n    </tr>\n  </tbody>\n</table>\n<p>71049506 rows × 11 columns</p>\n</div>"
          },
          "metadata": {}
        }
      ],
      "execution_count": 12,
      "metadata": {
        "jupyter": {
          "source_hidden": false,
          "outputs_hidden": false
        },
        "nteract": {
          "transient": {
            "deleting": false
          }
        },
        "gather": {
          "logged": 1708172670169
        }
      }
    },
    {
      "cell_type": "code",
      "source": [
        "# Import necessary libraries\n",
        "import pandas as pd\n",
        "import xgboost as xgb\n",
        "from sklearn.model_selection import train_test_split\n",
        "from sklearn.metrics import mean_squared_error\n",
        "import matplotlib.pyplot as plt\n",
        "\n",
        "# Assuming 'df' is your DataFrame\n",
        "# Load your dataset if not already loaded\n",
        "# df = pd.read_csv('your_dataset.csv')\n",
        "\n",
        "# Data Preparation\n",
        "df['Reported Date'] = pd.to_datetime(df['Reported Date'])\n",
        "\n",
        "# Define features and target variable\n",
        "features = ['Arrivals (Tonnes)', 'Min Price (Rs/Quintal)', 'Max Price (Rs/Quintal)', \n",
        "            'Commodity_index', 'State Name_index', 'District Name_index', \n",
        "            'Market Name_index', 'Variety_index', 'Group_index']\n",
        "target = 'Modal Price (Rs/Quintal)'\n",
        "\n",
        "X = df[features]\n",
        "y = df[target]\n",
        "\n",
        "# Train-Test Split\n",
        "train_size = int(len(df) * 0.8)\n",
        "X_train, X_test, y_train, y_test = train_test_split(X, y, test_size=0.2, shuffle=False)\n",
        "\n",
        "# Initialize and Train the XGBoost Model\n",
        "model = xgb.XGBRegressor(objective='reg:squarederror', n_estimators=100, learning_rate=0.1, max_depth=3)\n",
        "model.fit(X_train, y_train)\n",
        "\n",
        "# Make Predictions\n",
        "y_pred = model.predict(X_test)\n",
        "\n",
        "# Evaluate the Model\n",
        "mse = mean_squared_error(y_test, y_pred)\n",
        "print(f'Mean Squared Error: {mse}')\n",
        "\n",
        "# Plot the Actual vs. Predicted values\n",
        "plt.plot(X_test.index, y_test, label='Actual')\n",
        "plt.plot(X_test.index, y_pred, label='Predicted')\n",
        "plt.legend()\n",
        "plt.title('XGBoost Model Forecast')\n",
        "plt.show()\n"
      ],
      "outputs": [],
      "execution_count": null,
      "metadata": {
        "jupyter": {
          "source_hidden": false,
          "outputs_hidden": false
        },
        "nteract": {
          "transient": {
            "deleting": false
          }
        }
      }
    },
    {
      "cell_type": "code",
      "source": [
        "df.dtypes"
      ],
      "outputs": [
        {
          "output_type": "execute_result",
          "execution_count": 8,
          "data": {
            "text/plain": "Commodity                           object\nState Name                          object\nDistrict Name                       object\nMarket Name                         object\nVariety                             object\nGroup                               object\nArrivals (Tonnes)                  float64\nMin Price (Rs/Quintal)             float64\nMax Price (Rs/Quintal)             float64\nModal Price (Rs/Quintal)           float64\nReported Date               datetime64[ns]\ndtype: object"
          },
          "metadata": {}
        }
      ],
      "execution_count": 8,
      "metadata": {
        "jupyter": {
          "source_hidden": false,
          "outputs_hidden": false
        },
        "nteract": {
          "transient": {
            "deleting": false
          }
        },
        "gather": {
          "logged": 1708112449889
        }
      }
    },
    {
      "cell_type": "code",
      "source": [
        "import pandas as pd\n",
        "from sklearn.model_selection import train_test_split\n",
        "from sklearn.ensemble import RandomForestClassifier\n",
        "# Assuming df is your DataFrame containing the dataset\n",
        "# Sample a subset of the data\n",
        "sampled_df = df.sample(n=1000000, random_state=42)  # Adjust the sample size as needed\n",
        "\n",
        "# Separate features (X) and target variables (y)\n",
        "X = sampled_df[['Commodity', 'Market Name', 'Variety', 'Arrivals (Tonnes)', \n",
        "                'Min Price (Rs/Quintal)', 'Max Price (Rs/Quintal)', 'Modal Price (Rs/Quintal)']]\n",
        "y_state = sampled_df['State Name']  # Target variable for state prediction\n",
        "y_district = sampled_df['District Name']  # Target variable for district prediction\n",
        "\n",
        "# Perform one-hot encoding for categorical variables\n",
        "X_encoded = pd.get_dummies(X)\n",
        "\n",
        "# Train-test split for state prediction\n",
        "X_train_state, X_test_state, y_train_state, y_test_state = train_test_split(\n",
        "    X_encoded, y_state, test_size=0.2, random_state=42)\n",
        "\n",
        "# Train-test split for district prediction\n",
        "X_train_district, X_test_district, y_train_district, y_test_district = train_test_split(\n",
        "    X_encoded, y_district, test_size=0.2, random_state=42)\n",
        "\n",
        "# Train a classification model for state prediction\n",
        "state_classifier = RandomForestClassifier(n_estimators=100, random_state=42)\n",
        "state_classifier.fit(X_train_state, y_train_state)\n",
        "\n",
        "# Evaluate the state prediction model\n",
        "state_accuracy = state_classifier.score(X_test_state, y_test_state)\n",
        "print(\"State Prediction Accuracy:\", state_accuracy)\n",
        "\n",
        "# Train a classification model for district prediction\n",
        "district_classifier = RandomForestClassifier(n_estimators=100, random_state=42)\n",
        "district_classifier.fit(X_train_district, y_train_district)\n",
        "\n",
        "# Evaluate the district prediction model\n",
        "district_accuracy = district_classifier.score(X_test_district, y_test_district)\n",
        "print(\"District Prediction Accuracy:\", district_accuracy)\n"
      ],
      "outputs": [],
      "execution_count": null,
      "metadata": {
        "jupyter": {
          "source_hidden": false,
          "outputs_hidden": false
        },
        "nteract": {
          "transient": {
            "deleting": false
          }
        },
        "gather": {
          "logged": 1708113433501
        }
      }
    },
    {
      "cell_type": "code",
      "source": [],
      "outputs": [
        {
          "output_type": "stream",
          "name": "stdout",
          "text": "Current working directory: /mnt/batch/tasks/shared/LS_root/mounts/clusters/harshalchitte024/code/Users/harshalchitte02\n"
        }
      ],
      "execution_count": 16,
      "metadata": {
        "jupyter": {
          "source_hidden": false,
          "outputs_hidden": false
        },
        "nteract": {
          "transient": {
            "deleting": false
          }
        },
        "gather": {
          "logged": 1708099749891
        }
      }
    },
    {
      "cell_type": "code",
      "source": [
        "\n"
      ],
      "outputs": [
        {
          "output_type": "execute_result",
          "execution_count": 15,
          "data": {
            "text/plain": "['models/district_prediction_model.joblib']"
          },
          "metadata": {}
        }
      ],
      "execution_count": 15,
      "metadata": {
        "jupyter": {
          "source_hidden": false,
          "outputs_hidden": false
        },
        "nteract": {
          "transient": {
            "deleting": false
          }
        },
        "gather": {
          "logged": 1708098672319
        }
      }
    },
    {
      "cell_type": "code",
      "source": [],
      "outputs": [
        {
          "output_type": "error",
          "ename": "FileNotFoundError",
          "evalue": "[Errno 2] No such file or directory: 'azureml://subscriptions/4f93438e-847c-469d-94ae-ef5ee130ccab/resourcegroups/project_team14/workspaces/mlnotebook/datastores/testml/paths/models/rf_state.pkl'",
          "traceback": [
            "\u001b[0;31m---------------------------------------------------------------------------\u001b[0m",
            "\u001b[0;31mFileNotFoundError\u001b[0m                         Traceback (most recent call last)",
            "Cell \u001b[0;32mIn[2], line 8\u001b[0m\n\u001b[1;32m      5\u001b[0m file_path1 \u001b[38;5;241m=\u001b[39m \u001b[38;5;124m'\u001b[39m\u001b[38;5;124mazureml://subscriptions/4f93438e-847c-469d-94ae-ef5ee130ccab/resourcegroups/project_team14/workspaces/mlnotebook/datastores/testml/paths/models/rf_state.pkl\u001b[39m\u001b[38;5;124m'\u001b[39m\n\u001b[1;32m      7\u001b[0m \u001b[38;5;66;03m# Save the model to the specified file path\u001b[39;00m\n\u001b[0;32m----> 8\u001b[0m \u001b[38;5;28;01mwith\u001b[39;00m \u001b[38;5;28;43mopen\u001b[39;49m\u001b[43m(\u001b[49m\u001b[43mfile_path1\u001b[49m\u001b[43m,\u001b[49m\u001b[43m \u001b[49m\u001b[38;5;124;43m'\u001b[39;49m\u001b[38;5;124;43mwb\u001b[39;49m\u001b[38;5;124;43m'\u001b[39;49m\u001b[43m)\u001b[49m \u001b[38;5;28;01mas\u001b[39;00m f:\n\u001b[1;32m      9\u001b[0m     pickle\u001b[38;5;241m.\u001b[39mdump(state_classifier, f)\n\u001b[1;32m     10\u001b[0m file_path2 \u001b[38;5;241m=\u001b[39m \u001b[38;5;124m'\u001b[39m\u001b[38;5;124mazureml://subscriptions/4f93438e-847c-469d-94ae-ef5ee130ccab/resourcegroups/project_team14/workspaces/mlnotebook/datastores/testml/paths/models/rf_district.pkl\u001b[39m\u001b[38;5;124m'\u001b[39m\n",
            "File \u001b[0;32m/anaconda/envs/azureml_py310_sdkv2/lib/python3.10/site-packages/IPython/core/interactiveshell.py:284\u001b[0m, in \u001b[0;36m_modified_open\u001b[0;34m(file, *args, **kwargs)\u001b[0m\n\u001b[1;32m    277\u001b[0m \u001b[38;5;28;01mif\u001b[39;00m file \u001b[38;5;129;01min\u001b[39;00m {\u001b[38;5;241m0\u001b[39m, \u001b[38;5;241m1\u001b[39m, \u001b[38;5;241m2\u001b[39m}:\n\u001b[1;32m    278\u001b[0m     \u001b[38;5;28;01mraise\u001b[39;00m \u001b[38;5;167;01mValueError\u001b[39;00m(\n\u001b[1;32m    279\u001b[0m         \u001b[38;5;124mf\u001b[39m\u001b[38;5;124m\"\u001b[39m\u001b[38;5;124mIPython won\u001b[39m\u001b[38;5;124m'\u001b[39m\u001b[38;5;124mt let you open fd=\u001b[39m\u001b[38;5;132;01m{\u001b[39;00mfile\u001b[38;5;132;01m}\u001b[39;00m\u001b[38;5;124m by default \u001b[39m\u001b[38;5;124m\"\u001b[39m\n\u001b[1;32m    280\u001b[0m         \u001b[38;5;124m\"\u001b[39m\u001b[38;5;124mas it is likely to crash IPython. If you know what you are doing, \u001b[39m\u001b[38;5;124m\"\u001b[39m\n\u001b[1;32m    281\u001b[0m         \u001b[38;5;124m\"\u001b[39m\u001b[38;5;124myou can use builtins\u001b[39m\u001b[38;5;124m'\u001b[39m\u001b[38;5;124m open.\u001b[39m\u001b[38;5;124m\"\u001b[39m\n\u001b[1;32m    282\u001b[0m     )\n\u001b[0;32m--> 284\u001b[0m \u001b[38;5;28;01mreturn\u001b[39;00m \u001b[43mio_open\u001b[49m\u001b[43m(\u001b[49m\u001b[43mfile\u001b[49m\u001b[43m,\u001b[49m\u001b[43m \u001b[49m\u001b[38;5;241;43m*\u001b[39;49m\u001b[43margs\u001b[49m\u001b[43m,\u001b[49m\u001b[43m \u001b[49m\u001b[38;5;241;43m*\u001b[39;49m\u001b[38;5;241;43m*\u001b[39;49m\u001b[43mkwargs\u001b[49m\u001b[43m)\u001b[49m\n",
            "\u001b[0;31mFileNotFoundError\u001b[0m: [Errno 2] No such file or directory: 'azureml://subscriptions/4f93438e-847c-469d-94ae-ef5ee130ccab/resourcegroups/project_team14/workspaces/mlnotebook/datastores/testml/paths/models/rf_state.pkl'"
          ]
        }
      ],
      "execution_count": 2,
      "metadata": {
        "jupyter": {
          "source_hidden": false,
          "outputs_hidden": false
        },
        "nteract": {
          "transient": {
            "deleting": false
          }
        },
        "gather": {
          "logged": 1708103142899
        }
      }
    },
    {
      "cell_type": "code",
      "source": [
        "import os\n",
        "import pickle\n",
        "from azureml.core import Workspace\n",
        "\n",
        "# Load the Azure Machine Learning workspace\n",
        "ws = Workspace.from_config()\n",
        "\n",
        "# Specify the file path where you want to save the model\n",
        "file_path1 = 'models/rf_state.pkl'\n",
        "#file_path1 = 'azureml://subscriptions/4f93438e-847c-469d-94ae-ef5ee130ccab/resourcegroups/project_team14/workspaces/mlnotebook/datastores/testml/paths/models/rf_state.pkl'\n",
        "\n",
        "\n",
        "# Register the model in the workspace\n",
        "\n",
        "with open(file_path1, 'wb') as f:\n",
        "    pickle.dump(state_classifier, f)\n",
        "# Upload the model file to the default data store in your workspace\n",
        "default_datastore = ws.get_default_datastore()\n",
        "default_datastore.upload_files(files=['models/rf_state.pkl'], target_path='models', overwrite=True)\n",
        "\n",
        "# Register the model in the workspace\n",
        "default_datastore.register_model(model_name='rf_state', model_path='models/rf_state.pkl')"
      ],
      "outputs": [
        {
          "output_type": "error",
          "ename": "NameError",
          "evalue": "name 'state_classifier' is not defined",
          "traceback": [
            "\u001b[0;31m---------------------------------------------------------------------------\u001b[0m",
            "\u001b[0;31mNameError\u001b[0m                                 Traceback (most recent call last)",
            "Cell \u001b[0;32mIn[3], line 16\u001b[0m\n\u001b[1;32m     10\u001b[0m \u001b[38;5;66;03m#file_path1 = 'azureml://subscriptions/4f93438e-847c-469d-94ae-ef5ee130ccab/resourcegroups/project_team14/workspaces/mlnotebook/datastores/testml/paths/models/rf_state.pkl'\u001b[39;00m\n\u001b[1;32m     11\u001b[0m \n\u001b[1;32m     12\u001b[0m \n\u001b[1;32m     13\u001b[0m \u001b[38;5;66;03m# Register the model in the workspace\u001b[39;00m\n\u001b[1;32m     15\u001b[0m \u001b[38;5;28;01mwith\u001b[39;00m \u001b[38;5;28mopen\u001b[39m(file_path1, \u001b[38;5;124m'\u001b[39m\u001b[38;5;124mwb\u001b[39m\u001b[38;5;124m'\u001b[39m) \u001b[38;5;28;01mas\u001b[39;00m f:\n\u001b[0;32m---> 16\u001b[0m     pickle\u001b[38;5;241m.\u001b[39mdump(\u001b[43mstate_classifier\u001b[49m, f)\n\u001b[1;32m     17\u001b[0m \u001b[38;5;66;03m# Upload the model file to the default data store in your workspace\u001b[39;00m\n\u001b[1;32m     18\u001b[0m default_datastore \u001b[38;5;241m=\u001b[39m ws\u001b[38;5;241m.\u001b[39mget_default_datastore()\n",
            "\u001b[0;31mNameError\u001b[0m: name 'state_classifier' is not defined"
          ]
        }
      ],
      "execution_count": 3,
      "metadata": {
        "jupyter": {
          "source_hidden": false,
          "outputs_hidden": false
        },
        "nteract": {
          "transient": {
            "deleting": false
          }
        },
        "gather": {
          "logged": 1708104064825
        }
      }
    }
  ],
  "metadata": {
    "kernelspec": {
      "name": "python38-azureml-pt-tf",
      "language": "python",
      "display_name": "Python 3.8 - Pytorch and Tensorflow"
    },
    "language_info": {
      "name": "python",
      "version": "3.8.5",
      "mimetype": "text/x-python",
      "codemirror_mode": {
        "name": "ipython",
        "version": 3
      },
      "pygments_lexer": "ipython3",
      "nbconvert_exporter": "python",
      "file_extension": ".py"
    },
    "microsoft": {
      "ms_spell_check": {
        "ms_spell_check_language": "en"
      },
      "host": {
        "AzureML": {
          "notebookHasBeenCompleted": true
        }
      }
    },
    "kernel_info": {
      "name": "python38-azureml-pt-tf"
    },
    "nteract": {
      "version": "nteract-front-end@1.0.0"
    }
  },
  "nbformat": 4,
  "nbformat_minor": 2
}