{
  "cells": [
    {
      "cell_type": "code",
      "source": [
        "import pandas as pd \n",
        "import numpy as np"
      ],
      "outputs": [],
      "execution_count": 1,
      "metadata": {
        "gather": {
          "logged": 1708201167448
        }
      }
    },
    {
      "cell_type": "code",
      "source": [
        "%pip install statsmodels"
      ],
      "outputs": [
        {
          "output_type": "stream",
          "name": "stdout",
          "text": "Requirement already satisfied: statsmodels in /anaconda/envs/azureml_py310_sdkv2/lib/python3.10/site-packages (0.14.1)\nRequirement already satisfied: numpy<2,>=1.18 in /anaconda/envs/azureml_py310_sdkv2/lib/python3.10/site-packages (from statsmodels) (1.25.0)\nRequirement already satisfied: scipy!=1.9.2,>=1.4 in /anaconda/envs/azureml_py310_sdkv2/lib/python3.10/site-packages (from statsmodels) (1.10.1)\nRequirement already satisfied: pandas!=2.1.0,>=1.0 in /anaconda/envs/azureml_py310_sdkv2/lib/python3.10/site-packages (from statsmodels) (2.0.2)\nRequirement already satisfied: patsy>=0.5.4 in /anaconda/envs/azureml_py310_sdkv2/lib/python3.10/site-packages (from statsmodels) (0.5.6)\nRequirement already satisfied: packaging>=21.3 in /anaconda/envs/azureml_py310_sdkv2/lib/python3.10/site-packages (from statsmodels) (23.0)\nRequirement already satisfied: python-dateutil>=2.8.2 in /anaconda/envs/azureml_py310_sdkv2/lib/python3.10/site-packages (from pandas!=2.1.0,>=1.0->statsmodels) (2.8.2)\nRequirement already satisfied: pytz>=2020.1 in /anaconda/envs/azureml_py310_sdkv2/lib/python3.10/site-packages (from pandas!=2.1.0,>=1.0->statsmodels) (2023.3)\nRequirement already satisfied: tzdata>=2022.1 in /anaconda/envs/azureml_py310_sdkv2/lib/python3.10/site-packages (from pandas!=2.1.0,>=1.0->statsmodels) (2023.3)\nRequirement already satisfied: six in /anaconda/envs/azureml_py310_sdkv2/lib/python3.10/site-packages (from patsy>=0.5.4->statsmodels) (1.16.0)\nNote: you may need to restart the kernel to use updated packages.\n"
        }
      ],
      "execution_count": 2,
      "metadata": {
        "jupyter": {
          "source_hidden": false,
          "outputs_hidden": false
        },
        "nteract": {
          "transient": {
            "deleting": false
          }
        }
      }
    },
    {
      "cell_type": "code",
      "source": [
        "import matplotlib\n",
        "from matplotlib import pyplot\n",
        "import statsmodels\n",
        "import statsmodels.api as sm\n",
        "import sklearn\n",
        "from sklearn.metrics import mean_squared_error\n",
        "import math\n",
        "from math import sqrt "
      ],
      "outputs": [],
      "execution_count": 3,
      "metadata": {
        "jupyter": {
          "source_hidden": false,
          "outputs_hidden": false
        },
        "nteract": {
          "transient": {
            "deleting": false
          }
        },
        "gather": {
          "logged": 1708201316287
        }
      }
    },
    {
      "cell_type": "code",
      "source": [
        "df = pd.read_csv(\"azureml://subscriptions/4f93438e-847c-469d-94ae-ef5ee130ccab/resourcegroups/project_team14/workspaces/mlnotebook/datastores/testml/paths/Final_Data/part-00000-tid-1107757838746000038-dd6987f9-5526-4378-b9fd-633c8f0e2565-1388-1-c000.csv\")"
      ],
      "outputs": [],
      "execution_count": 4,
      "metadata": {
        "jupyter": {
          "source_hidden": false,
          "outputs_hidden": false
        },
        "nteract": {
          "transient": {
            "deleting": false
          }
        },
        "gather": {
          "logged": 1708201400516
        }
      }
    },
    {
      "cell_type": "code",
      "source": [
        "df.head()"
      ],
      "outputs": [
        {
          "output_type": "execute_result",
          "execution_count": 5,
          "data": {
            "text/plain": "  Commodity         State Name District Name         Market Name Variety  \\\n0    Papaya                Goa     North Goa              Mapusa  Papaya   \n1    Papaya  Jammu and Kashmir         Jammu  Narwal Jammu (F&V)   Other   \n2    Papaya       NCT of Delhi         Delhi            Shahdara   Other   \n3    Papaya             Punjab      Bhatinda            Bathinda   Other   \n4    Papaya             Punjab      Ferozpur      Firozepur City   Other   \n\n    Group  Arrivals (Tonnes)  Min Price (Rs/Quintal)  Max Price (Rs/Quintal)  \\\n0  Fruits               1.33                  2400.0                  3600.0   \n1  Fruits              12.00                  1150.0                  1250.0   \n2  Fruits               0.10                   150.0                   300.0   \n3  Fruits               4.50                   400.0                   450.0   \n4  Fruits              10.00                   600.0                   800.0   \n\n   Modal Price (Rs/Quintal) Reported Date  \n0                    3000.0    2003-04-01  \n1                    1200.0    2003-04-01  \n2                     250.0    2003-04-02  \n3                     425.0    2003-04-01  \n4                     700.0    2003-04-02  ",
            "text/html": "<div>\n<style scoped>\n    .dataframe tbody tr th:only-of-type {\n        vertical-align: middle;\n    }\n\n    .dataframe tbody tr th {\n        vertical-align: top;\n    }\n\n    .dataframe thead th {\n        text-align: right;\n    }\n</style>\n<table border=\"1\" class=\"dataframe\">\n  <thead>\n    <tr style=\"text-align: right;\">\n      <th></th>\n      <th>Commodity</th>\n      <th>State Name</th>\n      <th>District Name</th>\n      <th>Market Name</th>\n      <th>Variety</th>\n      <th>Group</th>\n      <th>Arrivals (Tonnes)</th>\n      <th>Min Price (Rs/Quintal)</th>\n      <th>Max Price (Rs/Quintal)</th>\n      <th>Modal Price (Rs/Quintal)</th>\n      <th>Reported Date</th>\n    </tr>\n  </thead>\n  <tbody>\n    <tr>\n      <th>0</th>\n      <td>Papaya</td>\n      <td>Goa</td>\n      <td>North Goa</td>\n      <td>Mapusa</td>\n      <td>Papaya</td>\n      <td>Fruits</td>\n      <td>1.33</td>\n      <td>2400.0</td>\n      <td>3600.0</td>\n      <td>3000.0</td>\n      <td>2003-04-01</td>\n    </tr>\n    <tr>\n      <th>1</th>\n      <td>Papaya</td>\n      <td>Jammu and Kashmir</td>\n      <td>Jammu</td>\n      <td>Narwal Jammu (F&amp;V)</td>\n      <td>Other</td>\n      <td>Fruits</td>\n      <td>12.00</td>\n      <td>1150.0</td>\n      <td>1250.0</td>\n      <td>1200.0</td>\n      <td>2003-04-01</td>\n    </tr>\n    <tr>\n      <th>2</th>\n      <td>Papaya</td>\n      <td>NCT of Delhi</td>\n      <td>Delhi</td>\n      <td>Shahdara</td>\n      <td>Other</td>\n      <td>Fruits</td>\n      <td>0.10</td>\n      <td>150.0</td>\n      <td>300.0</td>\n      <td>250.0</td>\n      <td>2003-04-02</td>\n    </tr>\n    <tr>\n      <th>3</th>\n      <td>Papaya</td>\n      <td>Punjab</td>\n      <td>Bhatinda</td>\n      <td>Bathinda</td>\n      <td>Other</td>\n      <td>Fruits</td>\n      <td>4.50</td>\n      <td>400.0</td>\n      <td>450.0</td>\n      <td>425.0</td>\n      <td>2003-04-01</td>\n    </tr>\n    <tr>\n      <th>4</th>\n      <td>Papaya</td>\n      <td>Punjab</td>\n      <td>Ferozpur</td>\n      <td>Firozepur City</td>\n      <td>Other</td>\n      <td>Fruits</td>\n      <td>10.00</td>\n      <td>600.0</td>\n      <td>800.0</td>\n      <td>700.0</td>\n      <td>2003-04-02</td>\n    </tr>\n  </tbody>\n</table>\n</div>"
          },
          "metadata": {}
        }
      ],
      "execution_count": 5,
      "metadata": {
        "jupyter": {
          "source_hidden": false,
          "outputs_hidden": false
        },
        "nteract": {
          "transient": {
            "deleting": false
          }
        },
        "gather": {
          "logged": 1708196701357
        }
      }
    },
    {
      "cell_type": "code",
      "source": [
        "df.shape"
      ],
      "outputs": [
        {
          "output_type": "execute_result",
          "execution_count": 5,
          "data": {
            "text/plain": "(51729422, 11)"
          },
          "metadata": {}
        }
      ],
      "execution_count": 5,
      "metadata": {
        "jupyter": {
          "source_hidden": false,
          "outputs_hidden": false
        },
        "nteract": {
          "transient": {
            "deleting": false
          }
        },
        "gather": {
          "logged": 1708201542451
        }
      }
    },
    {
      "cell_type": "code",
      "source": [
        "df.dtypes"
      ],
      "outputs": [
        {
          "output_type": "execute_result",
          "execution_count": 6,
          "data": {
            "text/plain": "Commodity                    object\nState Name                   object\nDistrict Name                object\nMarket Name                  object\nVariety                      object\nGroup                        object\nArrivals (Tonnes)           float64\nMin Price (Rs/Quintal)      float64\nMax Price (Rs/Quintal)      float64\nModal Price (Rs/Quintal)    float64\nReported Date                object\ndtype: object"
          },
          "metadata": {}
        }
      ],
      "execution_count": 6,
      "metadata": {
        "jupyter": {
          "source_hidden": false,
          "outputs_hidden": false
        },
        "nteract": {
          "transient": {
            "deleting": false
          }
        },
        "gather": {
          "logged": 1708201545647
        }
      }
    },
    {
      "cell_type": "code",
      "source": [
        "df[\"Reported Date\"] = pd.to_datetime(df[\"Reported Date\"])"
      ],
      "outputs": [],
      "execution_count": 7,
      "metadata": {
        "jupyter": {
          "source_hidden": false,
          "outputs_hidden": false
        },
        "nteract": {
          "transient": {
            "deleting": false
          }
        },
        "gather": {
          "logged": 1708201553663
        }
      }
    },
    {
      "cell_type": "code",
      "source": [
        "df.isnull().sum()"
      ],
      "outputs": [
        {
          "output_type": "execute_result",
          "execution_count": 8,
          "data": {
            "text/plain": "Commodity                   0\nState Name                  0\nDistrict Name               0\nMarket Name                 0\nVariety                     0\nGroup                       0\nArrivals (Tonnes)           0\nMin Price (Rs/Quintal)      0\nMax Price (Rs/Quintal)      0\nModal Price (Rs/Quintal)    0\nReported Date               0\ndtype: int64"
          },
          "metadata": {}
        }
      ],
      "execution_count": 8,
      "metadata": {
        "jupyter": {
          "source_hidden": false,
          "outputs_hidden": false
        },
        "nteract": {
          "transient": {
            "deleting": false
          }
        },
        "gather": {
          "logged": 1708201567733
        }
      }
    },
    {
      "cell_type": "code",
      "source": [
        "df.info()"
      ],
      "outputs": [
        {
          "output_type": "stream",
          "name": "stdout",
          "text": "<class 'pandas.core.frame.DataFrame'>\nRangeIndex: 51729422 entries, 0 to 51729421\nData columns (total 11 columns):\n #   Column                    Dtype         \n---  ------                    -----         \n 0   Commodity                 object        \n 1   State Name                object        \n 2   District Name             object        \n 3   Market Name               object        \n 4   Variety                   object        \n 5   Group                     object        \n 6   Arrivals (Tonnes)         float64       \n 7   Min Price (Rs/Quintal)    float64       \n 8   Max Price (Rs/Quintal)    float64       \n 9   Modal Price (Rs/Quintal)  float64       \n 10  Reported Date             datetime64[ns]\ndtypes: datetime64[ns](1), float64(4), object(6)\nmemory usage: 4.2+ GB\n"
        }
      ],
      "execution_count": 11,
      "metadata": {
        "jupyter": {
          "source_hidden": false,
          "outputs_hidden": false
        },
        "nteract": {
          "transient": {
            "deleting": false
          }
        },
        "gather": {
          "logged": 1708191965525
        }
      }
    },
    {
      "cell_type": "code",
      "source": [
        "df2 = df.copy()"
      ],
      "outputs": [],
      "execution_count": 9,
      "metadata": {
        "jupyter": {
          "source_hidden": false,
          "outputs_hidden": false
        },
        "nteract": {
          "transient": {
            "deleting": false
          }
        },
        "gather": {
          "logged": 1708201593654
        }
      }
    },
    {
      "cell_type": "code",
      "source": [
        "df2.dtypes"
      ],
      "outputs": [
        {
          "output_type": "execute_result",
          "execution_count": 10,
          "data": {
            "text/plain": "Commodity                           object\nState Name                          object\nDistrict Name                       object\nMarket Name                         object\nVariety                             object\nGroup                               object\nArrivals (Tonnes)                  float64\nMin Price (Rs/Quintal)             float64\nMax Price (Rs/Quintal)             float64\nModal Price (Rs/Quintal)           float64\nReported Date               datetime64[ns]\ndtype: object"
          },
          "metadata": {}
        }
      ],
      "execution_count": 10,
      "metadata": {
        "jupyter": {
          "source_hidden": false,
          "outputs_hidden": false
        },
        "nteract": {
          "transient": {
            "deleting": false
          }
        },
        "gather": {
          "logged": 1708201597837
        }
      }
    },
    {
      "cell_type": "code",
      "source": [
        "garr = df2.groupby(\"Commodity\").agg(avg_arrival=('Arrivals (Tonnes)', 'mean')).round(2)\n",
        "\n",
        "tarr = garr['avg_arrival'].sum()\n",
        "\n",
        "avgarr = garr.assign(percentage=lambda x: (x['avg_arrival'] / tarr) * 100)\n",
        "\n",
        "ranks = avgarr.sort_values(by='percentage', ascending=False)\n",
        "\n",
        "print(ranks)"
      ],
      "outputs": [
        {
          "output_type": "stream",
          "name": "stdout",
          "text": "                     avg_arrival  percentage\nCommodity                                   \nGladiolusCutFlower        695.04    6.146037\nJaffri                    681.43    6.025688\nRoseLocal                 660.00    5.836189\nLilly                     550.00    4.863491\nMarget                    542.52    4.797347\n...                          ...         ...\nMaragensu                   1.00    0.008843\nRatTailRadishMogari         1.00    0.008843\nLukad                       0.63    0.005571\nGramflour                   0.43    0.003802\nJamamkhan                   0.24    0.002122\n\n[297 rows x 2 columns]\n"
        }
      ],
      "execution_count": 11,
      "metadata": {
        "jupyter": {
          "source_hidden": false,
          "outputs_hidden": false
        },
        "nteract": {
          "transient": {
            "deleting": false
          }
        },
        "gather": {
          "logged": 1708201624668
        }
      }
    },
    {
      "cell_type": "code",
      "source": [
        "newcols = ranks.head(30)\n",
        "newcols"
      ],
      "outputs": [
        {
          "output_type": "execute_result",
          "execution_count": 13,
          "data": {
            "text/plain": "                       avg_arrival  percentage\nCommodity                                     \nGladiolusCutFlower          695.04    6.146037\nJaffri                      681.43    6.025688\nRoseLocal                   660.00    5.836189\nLilly                       550.00    4.863491\nMarget                      542.52    4.797347\nTenderCoconut               342.72    3.030574\nRoseLoose                   269.17    2.380192\nHen                         248.86    2.200597\nBamboo                      237.50    2.100144\nTubeRoseSingle              225.00    1.989610\nChrysanthemumLoose          224.25    1.982978\nBroomstickFlowerBroom       215.50    1.905604\nCarnation                   200.00    1.768542\nPaddyDhanBasmati            183.67    1.624141\nTubeFlower                  144.44    1.277241\nEgg                         129.93    1.148933\nCock                        122.29    1.081375\nCottonSeed                  121.37    1.073240\nSkinAndHide                 120.00    1.061125\nCoconut                     105.82    0.935736\nWood                        105.16    0.929899\nCotton                      103.13    0.911949\nDailaChandni                101.06    0.893644\nMyrobolanHarad               98.10    0.867470\nTubeRoseLoose                94.74    0.837758\nPaddyDhanCommon              93.51    0.826882\nTobacco                      92.43    0.817332\nSugarcane                    91.29    0.807251\nSoyabean                     84.74    0.749331\nRaibel                       84.07    0.743407",
            "text/html": "<div>\n<style scoped>\n    .dataframe tbody tr th:only-of-type {\n        vertical-align: middle;\n    }\n\n    .dataframe tbody tr th {\n        vertical-align: top;\n    }\n\n    .dataframe thead th {\n        text-align: right;\n    }\n</style>\n<table border=\"1\" class=\"dataframe\">\n  <thead>\n    <tr style=\"text-align: right;\">\n      <th></th>\n      <th>avg_arrival</th>\n      <th>percentage</th>\n    </tr>\n    <tr>\n      <th>Commodity</th>\n      <th></th>\n      <th></th>\n    </tr>\n  </thead>\n  <tbody>\n    <tr>\n      <th>GladiolusCutFlower</th>\n      <td>695.04</td>\n      <td>6.146037</td>\n    </tr>\n    <tr>\n      <th>Jaffri</th>\n      <td>681.43</td>\n      <td>6.025688</td>\n    </tr>\n    <tr>\n      <th>RoseLocal</th>\n      <td>660.00</td>\n      <td>5.836189</td>\n    </tr>\n    <tr>\n      <th>Lilly</th>\n      <td>550.00</td>\n      <td>4.863491</td>\n    </tr>\n    <tr>\n      <th>Marget</th>\n      <td>542.52</td>\n      <td>4.797347</td>\n    </tr>\n    <tr>\n      <th>TenderCoconut</th>\n      <td>342.72</td>\n      <td>3.030574</td>\n    </tr>\n    <tr>\n      <th>RoseLoose</th>\n      <td>269.17</td>\n      <td>2.380192</td>\n    </tr>\n    <tr>\n      <th>Hen</th>\n      <td>248.86</td>\n      <td>2.200597</td>\n    </tr>\n    <tr>\n      <th>Bamboo</th>\n      <td>237.50</td>\n      <td>2.100144</td>\n    </tr>\n    <tr>\n      <th>TubeRoseSingle</th>\n      <td>225.00</td>\n      <td>1.989610</td>\n    </tr>\n    <tr>\n      <th>ChrysanthemumLoose</th>\n      <td>224.25</td>\n      <td>1.982978</td>\n    </tr>\n    <tr>\n      <th>BroomstickFlowerBroom</th>\n      <td>215.50</td>\n      <td>1.905604</td>\n    </tr>\n    <tr>\n      <th>Carnation</th>\n      <td>200.00</td>\n      <td>1.768542</td>\n    </tr>\n    <tr>\n      <th>PaddyDhanBasmati</th>\n      <td>183.67</td>\n      <td>1.624141</td>\n    </tr>\n    <tr>\n      <th>TubeFlower</th>\n      <td>144.44</td>\n      <td>1.277241</td>\n    </tr>\n    <tr>\n      <th>Egg</th>\n      <td>129.93</td>\n      <td>1.148933</td>\n    </tr>\n    <tr>\n      <th>Cock</th>\n      <td>122.29</td>\n      <td>1.081375</td>\n    </tr>\n    <tr>\n      <th>CottonSeed</th>\n      <td>121.37</td>\n      <td>1.073240</td>\n    </tr>\n    <tr>\n      <th>SkinAndHide</th>\n      <td>120.00</td>\n      <td>1.061125</td>\n    </tr>\n    <tr>\n      <th>Coconut</th>\n      <td>105.82</td>\n      <td>0.935736</td>\n    </tr>\n    <tr>\n      <th>Wood</th>\n      <td>105.16</td>\n      <td>0.929899</td>\n    </tr>\n    <tr>\n      <th>Cotton</th>\n      <td>103.13</td>\n      <td>0.911949</td>\n    </tr>\n    <tr>\n      <th>DailaChandni</th>\n      <td>101.06</td>\n      <td>0.893644</td>\n    </tr>\n    <tr>\n      <th>MyrobolanHarad</th>\n      <td>98.10</td>\n      <td>0.867470</td>\n    </tr>\n    <tr>\n      <th>TubeRoseLoose</th>\n      <td>94.74</td>\n      <td>0.837758</td>\n    </tr>\n    <tr>\n      <th>PaddyDhanCommon</th>\n      <td>93.51</td>\n      <td>0.826882</td>\n    </tr>\n    <tr>\n      <th>Tobacco</th>\n      <td>92.43</td>\n      <td>0.817332</td>\n    </tr>\n    <tr>\n      <th>Sugarcane</th>\n      <td>91.29</td>\n      <td>0.807251</td>\n    </tr>\n    <tr>\n      <th>Soyabean</th>\n      <td>84.74</td>\n      <td>0.749331</td>\n    </tr>\n    <tr>\n      <th>Raibel</th>\n      <td>84.07</td>\n      <td>0.743407</td>\n    </tr>\n  </tbody>\n</table>\n</div>"
          },
          "metadata": {}
        }
      ],
      "execution_count": 13,
      "metadata": {
        "jupyter": {
          "source_hidden": false,
          "outputs_hidden": false
        },
        "nteract": {
          "transient": {
            "deleting": false
          }
        },
        "gather": {
          "logged": 1708201664720
        }
      }
    },
    {
      "cell_type": "code",
      "source": [
        "unique_commodities = newcols.index.unique()\n",
        "\n",
        "# Print unique commodity names\n",
        "print(unique_commodities)"
      ],
      "outputs": [
        {
          "output_type": "stream",
          "name": "stdout",
          "text": "Index(['GladiolusCutFlower', 'Jaffri', 'RoseLocal', 'Lilly', 'Marget',\n       'TenderCoconut', 'RoseLoose', 'Hen', 'Bamboo', 'TubeRoseSingle',\n       'ChrysanthemumLoose', 'BroomstickFlowerBroom', 'Carnation',\n       'PaddyDhanBasmati', 'TubeFlower', 'Egg', 'Cock', 'CottonSeed',\n       'SkinAndHide', 'Coconut', 'Wood', 'Cotton', 'DailaChandni',\n       'MyrobolanHarad', 'TubeRoseLoose', 'PaddyDhanCommon', 'Tobacco',\n       'Sugarcane', 'Soyabean', 'Raibel'],\n      dtype='object', name='Commodity')\n"
        }
      ],
      "execution_count": 14,
      "metadata": {
        "jupyter": {
          "source_hidden": false,
          "outputs_hidden": false
        },
        "nteract": {
          "transient": {
            "deleting": false
          }
        },
        "gather": {
          "logged": 1708201670956
        }
      }
    },
    {
      "cell_type": "code",
      "source": [
        "a = df[\"Commodity\"].unique()\n",
        "print(a)"
      ],
      "outputs": [
        {
          "output_type": "stream",
          "name": "stdout",
          "text": "['Papaya' 'PointedgourdParval' 'HybridCumbu' 'AmlaNelliKai' 'DryChillies'\n 'Guar' 'Lint' 'SeasonLeaves' 'KulthiHorseGram'\n 'KabuliChanaChickpeas_White' 'TenderCoconut' 'Thondekai'\n 'Pepperungarbled' 'Pineapple' 'BengalGramGramWhole' 'Bottlegourd'\n 'Bamboo' 'Drumstick' 'Seemebadnekai' 'Safflower'\n 'SesamumSesame,Gingelly,Til' 'ChillyCapsicum' 'Tea' 'ChowChow'\n 'CinamonDalchini' 'Peascod' 'Mustard' 'NigerSeedRamtil' 'Orange'\n 'RagiFingerMillet' 'Cow' 'ElephantYamSuran' 'GroundNutOil' 'JowarSorghum'\n 'GladiolusCutFlower' 'GramRawChholia' 'TamarindSeed' 'Turnip' 'Yam'\n 'Peach' 'SkinAndHide' 'Beans' 'GroundnutSplit' 'Banana' 'Ox' 'Maize'\n 'Carnation' 'Sarasum' 'RoseLocal' 'IsabgulPsyllium' 'ChikoosSapota'\n 'TubeRoseLoose' 'Coca' 'ChrysanthemumLoose' 'Plum' 'BigGram'\n 'BengalGramDalChanaDal' 'BetalLeaves' 'Borehannu' 'ArharDalTurDal'\n 'BarleyJau' 'Gurellu' 'MustardOil' 'NeemSeed' 'CorianderLeaves'\n 'FieldPea' 'Capsicum' 'Millets' 'GreenPeas' 'Roundgourd' 'Khoya'\n 'GingerDry' 'GreenAvareW' 'T.V.Cumbu' 'Tinda' 'Walnut' 'SheGoat'\n 'LentilMasurWhole' 'BlackGramDalUrdDal' 'Astera' 'BajraPearlMillet_Cumbu'\n 'Carrot' 'RedGram' 'Ghee' 'ThinaiItalianMillet' 'PeasDry' 'Coconut'\n 'SoapnutAntawala_Retha' 'Beetroot' 'BeatenRice' 'BlackGramUrdBeansWhole'\n 'Cabbage' 'AlasandeGram' 'ArharTur_RedGramWhole' 'AmbadaSeed' 'Antawala'\n 'OtherPulses' 'NelliKai' 'Raibel' 'Ram' 'DryFodder' 'DryGrapes'\n 'Dhaincha' 'DailaChandni' 'MethiLeaves' 'MasurDal' 'Chakotha'\n 'LittlegourdKundru' 'JackFruit' 'FrenchBeansFrasbean' 'KarbujaMuskMelon'\n 'Thogrikai' 'Clusterbeans' 'Cloves' 'Toria' 'Sunflower' 'SuvarnaGadde'\n 'Wood' 'WhitePeas' 'Wool' 'PearMarasebu' 'Peppergarbled' 'Pigs' 'Soji'\n 'Sugarcane' 'AlmondBadam' 'Calf' 'Potato' 'CoconutOil' 'CowpeaVeg'\n 'CowpeaLobia_Karamani' 'MangoRaw_Ripe' 'Mahedi' 'MarigoldCalcutta'\n 'IndianColzaSarson' 'Cauliflower' 'HippeSeed' 'Rubber' 'ChiliRed'\n 'YamRatalu' 'WhitePumpkin' 'RidgeguardTori' 'Lilly' 'Soanf' 'Egg'\n 'Grapes' 'Goat' 'GreenGramDalMoongDal' 'Taramira' 'Sunhemp' 'Cock'\n 'Wheat' 'Bran' 'AvareDal' 'MyrobolanHarad' 'DalAvare' 'Lukad'\n 'KodoMilletVaragu' 'GalgalLemon' 'Lemon' 'BayleafTejpatta' 'Bull'\n 'LongMelonKakri' 'Jute' 'ChennangiDal' 'Turmericraw' 'PapayaRaw' 'Onion'\n 'CastorSeed' 'GingellyOil' 'Cocoa' 'SunflowerSeed' 'LeafyVegetable'\n 'Soyabean' 'Spinach' 'GroundNutSeed' 'Bittergourd' 'Raddish' 'Coffee'\n 'Rajgir' 'Raya' 'Corrianderseed' 'Marget' 'Mataki' 'MintPudina'\n 'LotusSticks' 'IndianBeansSeam' 'SuratBeansPapadi' 'Tapioca' 'Turmeric'\n 'WaterMelon' 'Snakeguard' 'Siddota' 'Spongegourd' 'Hongeseed'\n 'Blackpepper' 'Ajwan' 'ApricotJardalu_Khumani' 'Banana_Green' 'Balekai'\n 'Colacasia' 'MahuaSeedHippeseed' 'HeBuffalo' 'Mace' 'Mango' 'Garlic'\n 'GreenFodder' 'Sheep' 'Rice' 'BrokenRice' 'Amphophalus' 'Pumpkin'\n 'Nutmeg' 'CoconutSeed' 'Cotton' 'TubeFlower' 'Sajje' 'Jamamkhan'\n 'Jasmine' 'Jaffri' 'Cherry' 'WheatAtta' 'SquashChappalKadoo' 'Amaranthus'\n 'Brinjal' 'ArecanutBetelnut_Supari' 'Ashgourd' 'MousambiSweetLime'\n 'GurJaggery' 'RatTailRadishMogari' 'Copra' 'CumminSeedJeera'\n 'DusterBeans' 'MaidaAtta' 'Guava' 'Firewood' 'MoathDal' 'Marasebu'\n 'Cardamoms' 'RoseLoose' 'JamunNaraleHannu' 'Karamani'\n 'FoxtailMilletNavane' 'SweetPumpkin' 'Lime' 'Groundnut' 'BunchBeans'\n 'Seetapal' 'ChapparadAvare' 'GingerGreen' 'GreenGramMoongWhole'\n 'PaddyDhanCommon' 'PeasWet' 'Same_Savi' 'SweetPotato' 'Tobacco'\n 'PegeonPeaArharFali' 'Sugar' 'Fish' 'BhindiLadiesFinger'\n 'BerZizyphus_Borehannu' 'Apple' 'OnionGreen' 'Pomegranate'\n 'PaddyDhanBasmati' 'CustardAppleSharifa' 'Maragensu' 'Mashrooms' 'Litchi'\n 'Cashewnuts' 'KartaliKantola' 'Tomato' 'TamarindFruit' 'SheBuffalo'\n 'Alsandikai' 'MethiSeeds' 'KnoolKhol' 'SuvaDillSeed' 'TubeRoseSingle'\n 'PersimonJapaniFal' 'LakTeora' 'Linseed' 'BroomstickFlowerBroom'\n 'CottonSeed' 'Dalda' 'Delha' 'CucumbarKheera' 'GuarSeedClusterBeansSeed'\n 'Groundnutpodsraw' 'Mahua' 'Marigoldloose' 'Kacholam' 'Kinnow' 'Kakada'\n 'Gramflour' 'Hen' 'GreenChilli']\n"
        }
      ],
      "execution_count": 15,
      "metadata": {
        "jupyter": {
          "source_hidden": false,
          "outputs_hidden": false
        },
        "nteract": {
          "transient": {
            "deleting": false
          }
        },
        "gather": {
          "logged": 1708201683051
        }
      }
    },
    {
      "cell_type": "code",
      "source": [
        "cols =['GladiolusCutFlower', 'Jaffri', 'RoseLocal', 'Lilly', 'Marget',\n",
        "       'TenderCoconut', 'RoseLoose', 'Hen', 'Bamboo', 'TubeRoseSingle',\n",
        "       'ChrysanthemumLoose', 'BroomstickFlowerBroom', 'Carnation',\n",
        "       'PaddyDhanBasmati', 'TubeFlower', 'Egg', 'Cock', 'CottonSeed',\n",
        "       'SkinAndHide', 'Coconut', 'Wood', 'Cotton', 'DailaChandni',\n",
        "       'MyrobolanHarad', 'TubeRoseLoose', 'PaddyDhanCommon', 'Tobacco',\n",
        "       'Sugarcane', 'Soyabean', 'Raibel']\n",
        "top = newcols.index.tolist()\n",
        "\n",
        "# Create a new DataFrame with only the top 10 commodity rows\n",
        "df2 = df2[df2['Commodity'].isin(top)].copy()\n"
      ],
      "outputs": [],
      "execution_count": 16,
      "metadata": {
        "jupyter": {
          "source_hidden": false,
          "outputs_hidden": false
        },
        "nteract": {
          "transient": {
            "deleting": false
          }
        },
        "gather": {
          "logged": 1708201694066
        }
      }
    },
    {
      "cell_type": "code",
      "source": [
        "df2.head()"
      ],
      "outputs": [
        {
          "output_type": "execute_result",
          "execution_count": 17,
          "data": {
            "text/plain": "             Commodity State Name District Name     Market Name  \\\n1415951  TenderCoconut  Jharkhand       Dhanbad         Dhanbad   \n1415952  TenderCoconut  Jharkhand       Dhanbad         Dhanbad   \n1415953  TenderCoconut  Karnataka        Hassan           Belur   \n1415954  TenderCoconut  Karnataka        Hassan           Belur   \n1415955  TenderCoconut  Karnataka  Chamrajnagar  Chamaraj Nagar   \n\n                Variety   Group  Arrivals (Tonnes)  Min Price (Rs/Quintal)  \\\n1415951           Other  Fruits               34.0                   600.0   \n1415952           Other  Fruits               40.0                   650.0   \n1415953  Tender Coconut  Fruits              400.0                  2000.0   \n1415954  Tender Coconut  Fruits              200.0                  2000.0   \n1415955  Tender Coconut  Fruits              500.0                  2600.0   \n\n         Max Price (Rs/Quintal)  Modal Price (Rs/Quintal) Reported Date  \n1415951                   650.0                     650.0    2003-04-04  \n1415952                   700.0                     700.0    2003-04-02  \n1415953                  2500.0                    2300.0    2003-04-04  \n1415954                  2300.0                    2100.0    2003-04-01  \n1415955                  2600.0                    2600.0    2003-04-03  ",
            "text/html": "<div>\n<style scoped>\n    .dataframe tbody tr th:only-of-type {\n        vertical-align: middle;\n    }\n\n    .dataframe tbody tr th {\n        vertical-align: top;\n    }\n\n    .dataframe thead th {\n        text-align: right;\n    }\n</style>\n<table border=\"1\" class=\"dataframe\">\n  <thead>\n    <tr style=\"text-align: right;\">\n      <th></th>\n      <th>Commodity</th>\n      <th>State Name</th>\n      <th>District Name</th>\n      <th>Market Name</th>\n      <th>Variety</th>\n      <th>Group</th>\n      <th>Arrivals (Tonnes)</th>\n      <th>Min Price (Rs/Quintal)</th>\n      <th>Max Price (Rs/Quintal)</th>\n      <th>Modal Price (Rs/Quintal)</th>\n      <th>Reported Date</th>\n    </tr>\n  </thead>\n  <tbody>\n    <tr>\n      <th>1415951</th>\n      <td>TenderCoconut</td>\n      <td>Jharkhand</td>\n      <td>Dhanbad</td>\n      <td>Dhanbad</td>\n      <td>Other</td>\n      <td>Fruits</td>\n      <td>34.0</td>\n      <td>600.0</td>\n      <td>650.0</td>\n      <td>650.0</td>\n      <td>2003-04-04</td>\n    </tr>\n    <tr>\n      <th>1415952</th>\n      <td>TenderCoconut</td>\n      <td>Jharkhand</td>\n      <td>Dhanbad</td>\n      <td>Dhanbad</td>\n      <td>Other</td>\n      <td>Fruits</td>\n      <td>40.0</td>\n      <td>650.0</td>\n      <td>700.0</td>\n      <td>700.0</td>\n      <td>2003-04-02</td>\n    </tr>\n    <tr>\n      <th>1415953</th>\n      <td>TenderCoconut</td>\n      <td>Karnataka</td>\n      <td>Hassan</td>\n      <td>Belur</td>\n      <td>Tender Coconut</td>\n      <td>Fruits</td>\n      <td>400.0</td>\n      <td>2000.0</td>\n      <td>2500.0</td>\n      <td>2300.0</td>\n      <td>2003-04-04</td>\n    </tr>\n    <tr>\n      <th>1415954</th>\n      <td>TenderCoconut</td>\n      <td>Karnataka</td>\n      <td>Hassan</td>\n      <td>Belur</td>\n      <td>Tender Coconut</td>\n      <td>Fruits</td>\n      <td>200.0</td>\n      <td>2000.0</td>\n      <td>2300.0</td>\n      <td>2100.0</td>\n      <td>2003-04-01</td>\n    </tr>\n    <tr>\n      <th>1415955</th>\n      <td>TenderCoconut</td>\n      <td>Karnataka</td>\n      <td>Chamrajnagar</td>\n      <td>Chamaraj Nagar</td>\n      <td>Tender Coconut</td>\n      <td>Fruits</td>\n      <td>500.0</td>\n      <td>2600.0</td>\n      <td>2600.0</td>\n      <td>2600.0</td>\n      <td>2003-04-03</td>\n    </tr>\n  </tbody>\n</table>\n</div>"
          },
          "metadata": {}
        }
      ],
      "execution_count": 17,
      "metadata": {
        "jupyter": {
          "source_hidden": false,
          "outputs_hidden": false
        },
        "nteract": {
          "transient": {
            "deleting": false
          }
        },
        "gather": {
          "logged": 1708201701169
        }
      }
    },
    {
      "cell_type": "code",
      "source": [
        "df2.tail()"
      ],
      "outputs": [
        {
          "output_type": "execute_result",
          "execution_count": 18,
          "data": {
            "text/plain": "         Commodity    State Name District Name  \\\n49957190       Hen  NCT of Delhi         Delhi   \n49957191       Hen        Odisha     Dhenkanal   \n49957192       Hen        Kerala      Kottayam   \n49957193       Hen        Kerala      Kottayam   \n49957194       Hen        Kerala      Kottayam   \n\n                                 Market Name                   Variety  \\\n49957190  Fish,Poultry & Egg Market, Gazipur  Boiler/Firm(White-Brown)   \n49957191                           Dhenkanal        Boiler/Firm(White)   \n49957192                             Pampady        Boiler/Firm(White)   \n49957193                             Pampady        Boiler/Firm(White)   \n49957194                             Pampady        Boiler/Firm(White)   \n\n                                 Group  Arrivals (Tonnes)  \\\n49957190  Live Stock,Poultry,Fisheries             248.86   \n49957191  Live Stock,Poultry,Fisheries             520.00   \n49957192  Live Stock,Poultry,Fisheries             250.00   \n49957193  Live Stock,Poultry,Fisheries             248.86   \n49957194  Live Stock,Poultry,Fisheries             248.86   \n\n          Min Price (Rs/Quintal)  Max Price (Rs/Quintal)  \\\n49957190                    25.0                    35.0   \n49957191                 16000.0                 17000.0   \n49957192                 12000.0                 12400.0   \n49957193                 13000.0                 13400.0   \n49957194                 11000.0                 11400.0   \n\n          Modal Price (Rs/Quintal) Reported Date  \n49957190                      30.0    2021-11-01  \n49957191                   17000.0    2021-11-03  \n49957192                   12200.0    2022-11-03  \n49957193                   13200.0    2022-11-02  \n49957194                   11200.0    2022-11-01  ",
            "text/html": "<div>\n<style scoped>\n    .dataframe tbody tr th:only-of-type {\n        vertical-align: middle;\n    }\n\n    .dataframe tbody tr th {\n        vertical-align: top;\n    }\n\n    .dataframe thead th {\n        text-align: right;\n    }\n</style>\n<table border=\"1\" class=\"dataframe\">\n  <thead>\n    <tr style=\"text-align: right;\">\n      <th></th>\n      <th>Commodity</th>\n      <th>State Name</th>\n      <th>District Name</th>\n      <th>Market Name</th>\n      <th>Variety</th>\n      <th>Group</th>\n      <th>Arrivals (Tonnes)</th>\n      <th>Min Price (Rs/Quintal)</th>\n      <th>Max Price (Rs/Quintal)</th>\n      <th>Modal Price (Rs/Quintal)</th>\n      <th>Reported Date</th>\n    </tr>\n  </thead>\n  <tbody>\n    <tr>\n      <th>49957190</th>\n      <td>Hen</td>\n      <td>NCT of Delhi</td>\n      <td>Delhi</td>\n      <td>Fish,Poultry &amp; Egg Market, Gazipur</td>\n      <td>Boiler/Firm(White-Brown)</td>\n      <td>Live Stock,Poultry,Fisheries</td>\n      <td>248.86</td>\n      <td>25.0</td>\n      <td>35.0</td>\n      <td>30.0</td>\n      <td>2021-11-01</td>\n    </tr>\n    <tr>\n      <th>49957191</th>\n      <td>Hen</td>\n      <td>Odisha</td>\n      <td>Dhenkanal</td>\n      <td>Dhenkanal</td>\n      <td>Boiler/Firm(White)</td>\n      <td>Live Stock,Poultry,Fisheries</td>\n      <td>520.00</td>\n      <td>16000.0</td>\n      <td>17000.0</td>\n      <td>17000.0</td>\n      <td>2021-11-03</td>\n    </tr>\n    <tr>\n      <th>49957192</th>\n      <td>Hen</td>\n      <td>Kerala</td>\n      <td>Kottayam</td>\n      <td>Pampady</td>\n      <td>Boiler/Firm(White)</td>\n      <td>Live Stock,Poultry,Fisheries</td>\n      <td>250.00</td>\n      <td>12000.0</td>\n      <td>12400.0</td>\n      <td>12200.0</td>\n      <td>2022-11-03</td>\n    </tr>\n    <tr>\n      <th>49957193</th>\n      <td>Hen</td>\n      <td>Kerala</td>\n      <td>Kottayam</td>\n      <td>Pampady</td>\n      <td>Boiler/Firm(White)</td>\n      <td>Live Stock,Poultry,Fisheries</td>\n      <td>248.86</td>\n      <td>13000.0</td>\n      <td>13400.0</td>\n      <td>13200.0</td>\n      <td>2022-11-02</td>\n    </tr>\n    <tr>\n      <th>49957194</th>\n      <td>Hen</td>\n      <td>Kerala</td>\n      <td>Kottayam</td>\n      <td>Pampady</td>\n      <td>Boiler/Firm(White)</td>\n      <td>Live Stock,Poultry,Fisheries</td>\n      <td>248.86</td>\n      <td>11000.0</td>\n      <td>11400.0</td>\n      <td>11200.0</td>\n      <td>2022-11-01</td>\n    </tr>\n  </tbody>\n</table>\n</div>"
          },
          "metadata": {}
        }
      ],
      "execution_count": 18,
      "metadata": {
        "jupyter": {
          "source_hidden": false,
          "outputs_hidden": false
        },
        "nteract": {
          "transient": {
            "deleting": false
          }
        },
        "gather": {
          "logged": 1708201708833
        }
      }
    },
    {
      "cell_type": "code",
      "source": [
        "df2.shape"
      ],
      "outputs": [
        {
          "output_type": "execute_result",
          "execution_count": 19,
          "data": {
            "text/plain": "(5086679, 11)"
          },
          "metadata": {}
        }
      ],
      "execution_count": 19,
      "metadata": {
        "jupyter": {
          "source_hidden": false,
          "outputs_hidden": false
        },
        "nteract": {
          "transient": {
            "deleting": false
          }
        },
        "gather": {
          "logged": 1708201714337
        }
      }
    },
    {
      "cell_type": "code",
      "source": [
        "df2"
      ],
      "outputs": [
        {
          "output_type": "execute_result",
          "execution_count": 20,
          "data": {
            "text/plain": "              Commodity    State Name District Name  \\\n1415951   TenderCoconut     Jharkhand       Dhanbad   \n1415952   TenderCoconut     Jharkhand       Dhanbad   \n1415953   TenderCoconut     Karnataka        Hassan   \n1415954   TenderCoconut     Karnataka        Hassan   \n1415955   TenderCoconut     Karnataka  Chamrajnagar   \n...                 ...           ...           ...   \n49957190            Hen  NCT of Delhi         Delhi   \n49957191            Hen        Odisha     Dhenkanal   \n49957192            Hen        Kerala      Kottayam   \n49957193            Hen        Kerala      Kottayam   \n49957194            Hen        Kerala      Kottayam   \n\n                                 Market Name                   Variety  \\\n1415951                              Dhanbad                     Other   \n1415952                              Dhanbad                     Other   \n1415953                                Belur            Tender Coconut   \n1415954                                Belur            Tender Coconut   \n1415955                       Chamaraj Nagar            Tender Coconut   \n...                                      ...                       ...   \n49957190  Fish,Poultry & Egg Market, Gazipur  Boiler/Firm(White-Brown)   \n49957191                           Dhenkanal        Boiler/Firm(White)   \n49957192                             Pampady        Boiler/Firm(White)   \n49957193                             Pampady        Boiler/Firm(White)   \n49957194                             Pampady        Boiler/Firm(White)   \n\n                                 Group  Arrivals (Tonnes)  \\\n1415951                         Fruits              34.00   \n1415952                         Fruits              40.00   \n1415953                         Fruits             400.00   \n1415954                         Fruits             200.00   \n1415955                         Fruits             500.00   \n...                                ...                ...   \n49957190  Live Stock,Poultry,Fisheries             248.86   \n49957191  Live Stock,Poultry,Fisheries             520.00   \n49957192  Live Stock,Poultry,Fisheries             250.00   \n49957193  Live Stock,Poultry,Fisheries             248.86   \n49957194  Live Stock,Poultry,Fisheries             248.86   \n\n          Min Price (Rs/Quintal)  Max Price (Rs/Quintal)  \\\n1415951                    600.0                   650.0   \n1415952                    650.0                   700.0   \n1415953                   2000.0                  2500.0   \n1415954                   2000.0                  2300.0   \n1415955                   2600.0                  2600.0   \n...                          ...                     ...   \n49957190                    25.0                    35.0   \n49957191                 16000.0                 17000.0   \n49957192                 12000.0                 12400.0   \n49957193                 13000.0                 13400.0   \n49957194                 11000.0                 11400.0   \n\n          Modal Price (Rs/Quintal) Reported Date  \n1415951                      650.0    2003-04-04  \n1415952                      700.0    2003-04-02  \n1415953                     2300.0    2003-04-04  \n1415954                     2100.0    2003-04-01  \n1415955                     2600.0    2003-04-03  \n...                            ...           ...  \n49957190                      30.0    2021-11-01  \n49957191                   17000.0    2021-11-03  \n49957192                   12200.0    2022-11-03  \n49957193                   13200.0    2022-11-02  \n49957194                   11200.0    2022-11-01  \n\n[5086679 rows x 11 columns]",
            "text/html": "<div>\n<style scoped>\n    .dataframe tbody tr th:only-of-type {\n        vertical-align: middle;\n    }\n\n    .dataframe tbody tr th {\n        vertical-align: top;\n    }\n\n    .dataframe thead th {\n        text-align: right;\n    }\n</style>\n<table border=\"1\" class=\"dataframe\">\n  <thead>\n    <tr style=\"text-align: right;\">\n      <th></th>\n      <th>Commodity</th>\n      <th>State Name</th>\n      <th>District Name</th>\n      <th>Market Name</th>\n      <th>Variety</th>\n      <th>Group</th>\n      <th>Arrivals (Tonnes)</th>\n      <th>Min Price (Rs/Quintal)</th>\n      <th>Max Price (Rs/Quintal)</th>\n      <th>Modal Price (Rs/Quintal)</th>\n      <th>Reported Date</th>\n    </tr>\n  </thead>\n  <tbody>\n    <tr>\n      <th>1415951</th>\n      <td>TenderCoconut</td>\n      <td>Jharkhand</td>\n      <td>Dhanbad</td>\n      <td>Dhanbad</td>\n      <td>Other</td>\n      <td>Fruits</td>\n      <td>34.00</td>\n      <td>600.0</td>\n      <td>650.0</td>\n      <td>650.0</td>\n      <td>2003-04-04</td>\n    </tr>\n    <tr>\n      <th>1415952</th>\n      <td>TenderCoconut</td>\n      <td>Jharkhand</td>\n      <td>Dhanbad</td>\n      <td>Dhanbad</td>\n      <td>Other</td>\n      <td>Fruits</td>\n      <td>40.00</td>\n      <td>650.0</td>\n      <td>700.0</td>\n      <td>700.0</td>\n      <td>2003-04-02</td>\n    </tr>\n    <tr>\n      <th>1415953</th>\n      <td>TenderCoconut</td>\n      <td>Karnataka</td>\n      <td>Hassan</td>\n      <td>Belur</td>\n      <td>Tender Coconut</td>\n      <td>Fruits</td>\n      <td>400.00</td>\n      <td>2000.0</td>\n      <td>2500.0</td>\n      <td>2300.0</td>\n      <td>2003-04-04</td>\n    </tr>\n    <tr>\n      <th>1415954</th>\n      <td>TenderCoconut</td>\n      <td>Karnataka</td>\n      <td>Hassan</td>\n      <td>Belur</td>\n      <td>Tender Coconut</td>\n      <td>Fruits</td>\n      <td>200.00</td>\n      <td>2000.0</td>\n      <td>2300.0</td>\n      <td>2100.0</td>\n      <td>2003-04-01</td>\n    </tr>\n    <tr>\n      <th>1415955</th>\n      <td>TenderCoconut</td>\n      <td>Karnataka</td>\n      <td>Chamrajnagar</td>\n      <td>Chamaraj Nagar</td>\n      <td>Tender Coconut</td>\n      <td>Fruits</td>\n      <td>500.00</td>\n      <td>2600.0</td>\n      <td>2600.0</td>\n      <td>2600.0</td>\n      <td>2003-04-03</td>\n    </tr>\n    <tr>\n      <th>...</th>\n      <td>...</td>\n      <td>...</td>\n      <td>...</td>\n      <td>...</td>\n      <td>...</td>\n      <td>...</td>\n      <td>...</td>\n      <td>...</td>\n      <td>...</td>\n      <td>...</td>\n      <td>...</td>\n    </tr>\n    <tr>\n      <th>49957190</th>\n      <td>Hen</td>\n      <td>NCT of Delhi</td>\n      <td>Delhi</td>\n      <td>Fish,Poultry &amp; Egg Market, Gazipur</td>\n      <td>Boiler/Firm(White-Brown)</td>\n      <td>Live Stock,Poultry,Fisheries</td>\n      <td>248.86</td>\n      <td>25.0</td>\n      <td>35.0</td>\n      <td>30.0</td>\n      <td>2021-11-01</td>\n    </tr>\n    <tr>\n      <th>49957191</th>\n      <td>Hen</td>\n      <td>Odisha</td>\n      <td>Dhenkanal</td>\n      <td>Dhenkanal</td>\n      <td>Boiler/Firm(White)</td>\n      <td>Live Stock,Poultry,Fisheries</td>\n      <td>520.00</td>\n      <td>16000.0</td>\n      <td>17000.0</td>\n      <td>17000.0</td>\n      <td>2021-11-03</td>\n    </tr>\n    <tr>\n      <th>49957192</th>\n      <td>Hen</td>\n      <td>Kerala</td>\n      <td>Kottayam</td>\n      <td>Pampady</td>\n      <td>Boiler/Firm(White)</td>\n      <td>Live Stock,Poultry,Fisheries</td>\n      <td>250.00</td>\n      <td>12000.0</td>\n      <td>12400.0</td>\n      <td>12200.0</td>\n      <td>2022-11-03</td>\n    </tr>\n    <tr>\n      <th>49957193</th>\n      <td>Hen</td>\n      <td>Kerala</td>\n      <td>Kottayam</td>\n      <td>Pampady</td>\n      <td>Boiler/Firm(White)</td>\n      <td>Live Stock,Poultry,Fisheries</td>\n      <td>248.86</td>\n      <td>13000.0</td>\n      <td>13400.0</td>\n      <td>13200.0</td>\n      <td>2022-11-02</td>\n    </tr>\n    <tr>\n      <th>49957194</th>\n      <td>Hen</td>\n      <td>Kerala</td>\n      <td>Kottayam</td>\n      <td>Pampady</td>\n      <td>Boiler/Firm(White)</td>\n      <td>Live Stock,Poultry,Fisheries</td>\n      <td>248.86</td>\n      <td>11000.0</td>\n      <td>11400.0</td>\n      <td>11200.0</td>\n      <td>2022-11-01</td>\n    </tr>\n  </tbody>\n</table>\n<p>5086679 rows × 11 columns</p>\n</div>"
          },
          "metadata": {}
        }
      ],
      "execution_count": 20,
      "metadata": {
        "jupyter": {
          "source_hidden": false,
          "outputs_hidden": false
        },
        "nteract": {
          "transient": {
            "deleting": false
          }
        },
        "gather": {
          "logged": 1708201725562
        }
      }
    },
    {
      "cell_type": "code",
      "source": [
        "# independent var \n",
        "x = df2[[\"Commodity\",\"State Name\",\"District Name\",\"Market Name\"]]"
      ],
      "outputs": [],
      "execution_count": 21,
      "metadata": {
        "jupyter": {
          "source_hidden": false,
          "outputs_hidden": false
        },
        "nteract": {
          "transient": {
            "deleting": false
          }
        },
        "gather": {
          "logged": 1708201739269
        }
      }
    },
    {
      "cell_type": "code",
      "source": [
        "# dependent var\n",
        "y = df2[[\"Modal Price (Rs/Quintal)\"]]"
      ],
      "outputs": [],
      "execution_count": 22,
      "metadata": {
        "jupyter": {
          "source_hidden": false,
          "outputs_hidden": false
        },
        "nteract": {
          "transient": {
            "deleting": false
          }
        },
        "gather": {
          "logged": 1708201742382
        }
      }
    },
    {
      "cell_type": "code",
      "source": [
        "from sklearn.model_selection import train_test_split\n",
        "x_train,x_test,y_train,y_test = train_test_split(x,y,test_size=0.2,random_state=0)"
      ],
      "outputs": [],
      "execution_count": 23,
      "metadata": {
        "jupyter": {
          "source_hidden": false,
          "outputs_hidden": false
        },
        "nteract": {
          "transient": {
            "deleting": false
          }
        },
        "gather": {
          "logged": 1708201747555
        }
      }
    },
    {
      "cell_type": "code",
      "source": [
        "x_train"
      ],
      "outputs": [
        {
          "output_type": "execute_result",
          "execution_count": 24,
          "data": {
            "text/plain": "                Commodity      State Name District Name         Market Name\n40424080  PaddyDhanCommon     Chattisgarh    Mahasamund           Bhavarpur\n42191940  PaddyDhanCommon       Rajasthan          Kota                Kota\n41770340  PaddyDhanCommon       Telangana      Warangal          Kesamudram\n42162327  PaddyDhanCommon       Telangana       Khammam            Dammapet\n41769945  PaddyDhanCommon       Telangana      Nalgonda    Chandur(Mungodu)\n...                   ...             ...           ...                 ...\n39788555  PaddyDhanCommon  Andhra Pradesh       Krishna             Pamarru\n39818291  PaddyDhanCommon     Pondicherry   Pondicherry      Thattanchavady\n39783928  PaddyDhanCommon     West Bengal       Bankura  Bishnupur(Bankura)\n32842585           Cotton       Telangana       Khammam             Madhira\n42407747  PaddyDhanCommon      Tamil Nadu     Cuddalore             Panruti\n\n[4069343 rows x 4 columns]",
            "text/html": "<div>\n<style scoped>\n    .dataframe tbody tr th:only-of-type {\n        vertical-align: middle;\n    }\n\n    .dataframe tbody tr th {\n        vertical-align: top;\n    }\n\n    .dataframe thead th {\n        text-align: right;\n    }\n</style>\n<table border=\"1\" class=\"dataframe\">\n  <thead>\n    <tr style=\"text-align: right;\">\n      <th></th>\n      <th>Commodity</th>\n      <th>State Name</th>\n      <th>District Name</th>\n      <th>Market Name</th>\n    </tr>\n  </thead>\n  <tbody>\n    <tr>\n      <th>40424080</th>\n      <td>PaddyDhanCommon</td>\n      <td>Chattisgarh</td>\n      <td>Mahasamund</td>\n      <td>Bhavarpur</td>\n    </tr>\n    <tr>\n      <th>42191940</th>\n      <td>PaddyDhanCommon</td>\n      <td>Rajasthan</td>\n      <td>Kota</td>\n      <td>Kota</td>\n    </tr>\n    <tr>\n      <th>41770340</th>\n      <td>PaddyDhanCommon</td>\n      <td>Telangana</td>\n      <td>Warangal</td>\n      <td>Kesamudram</td>\n    </tr>\n    <tr>\n      <th>42162327</th>\n      <td>PaddyDhanCommon</td>\n      <td>Telangana</td>\n      <td>Khammam</td>\n      <td>Dammapet</td>\n    </tr>\n    <tr>\n      <th>41769945</th>\n      <td>PaddyDhanCommon</td>\n      <td>Telangana</td>\n      <td>Nalgonda</td>\n      <td>Chandur(Mungodu)</td>\n    </tr>\n    <tr>\n      <th>...</th>\n      <td>...</td>\n      <td>...</td>\n      <td>...</td>\n      <td>...</td>\n    </tr>\n    <tr>\n      <th>39788555</th>\n      <td>PaddyDhanCommon</td>\n      <td>Andhra Pradesh</td>\n      <td>Krishna</td>\n      <td>Pamarru</td>\n    </tr>\n    <tr>\n      <th>39818291</th>\n      <td>PaddyDhanCommon</td>\n      <td>Pondicherry</td>\n      <td>Pondicherry</td>\n      <td>Thattanchavady</td>\n    </tr>\n    <tr>\n      <th>39783928</th>\n      <td>PaddyDhanCommon</td>\n      <td>West Bengal</td>\n      <td>Bankura</td>\n      <td>Bishnupur(Bankura)</td>\n    </tr>\n    <tr>\n      <th>32842585</th>\n      <td>Cotton</td>\n      <td>Telangana</td>\n      <td>Khammam</td>\n      <td>Madhira</td>\n    </tr>\n    <tr>\n      <th>42407747</th>\n      <td>PaddyDhanCommon</td>\n      <td>Tamil Nadu</td>\n      <td>Cuddalore</td>\n      <td>Panruti</td>\n    </tr>\n  </tbody>\n</table>\n<p>4069343 rows × 4 columns</p>\n</div>"
          },
          "metadata": {}
        }
      ],
      "execution_count": 24,
      "metadata": {
        "jupyter": {
          "source_hidden": false,
          "outputs_hidden": false
        },
        "nteract": {
          "transient": {
            "deleting": false
          }
        },
        "gather": {
          "logged": 1708201749256
        }
      }
    },
    {
      "cell_type": "code",
      "source": [
        "x_test"
      ],
      "outputs": [
        {
          "output_type": "execute_result",
          "execution_count": 25,
          "data": {
            "text/plain": "                Commodity     State Name District Name             Market Name\n41187030  PaddyDhanCommon      Telangana      Nalgonda                 Bhongir\n26843353         Soyabean        Gujarat   Sabarkantha                  Modasa\n40605543  PaddyDhanCommon      Telangana      Nalgonda  Devarkonda(Mallepalli)\n26871808         Soyabean    Maharashtra        Vashim                   Risod\n42186008  PaddyDhanCommon  Uttar Pradesh      Bahraich                Naanpara\n...                   ...            ...           ...                     ...\n42898193  PaddyDhanCommon    West Bengal       Bankura                   Indus\n28882963         Soyabean    Maharashtra     Nandurbar                 Shahada\n33169044           Cotton      Telangana      Adilabad      Indravelly(Utnoor)\n14487055          Coconut         Kerala        Idukki              Thodupuzha\n41990365  PaddyDhanCommon    Chattisgarh       Janjgir                   Kotmi\n\n[1017336 rows x 4 columns]",
            "text/html": "<div>\n<style scoped>\n    .dataframe tbody tr th:only-of-type {\n        vertical-align: middle;\n    }\n\n    .dataframe tbody tr th {\n        vertical-align: top;\n    }\n\n    .dataframe thead th {\n        text-align: right;\n    }\n</style>\n<table border=\"1\" class=\"dataframe\">\n  <thead>\n    <tr style=\"text-align: right;\">\n      <th></th>\n      <th>Commodity</th>\n      <th>State Name</th>\n      <th>District Name</th>\n      <th>Market Name</th>\n    </tr>\n  </thead>\n  <tbody>\n    <tr>\n      <th>41187030</th>\n      <td>PaddyDhanCommon</td>\n      <td>Telangana</td>\n      <td>Nalgonda</td>\n      <td>Bhongir</td>\n    </tr>\n    <tr>\n      <th>26843353</th>\n      <td>Soyabean</td>\n      <td>Gujarat</td>\n      <td>Sabarkantha</td>\n      <td>Modasa</td>\n    </tr>\n    <tr>\n      <th>40605543</th>\n      <td>PaddyDhanCommon</td>\n      <td>Telangana</td>\n      <td>Nalgonda</td>\n      <td>Devarkonda(Mallepalli)</td>\n    </tr>\n    <tr>\n      <th>26871808</th>\n      <td>Soyabean</td>\n      <td>Maharashtra</td>\n      <td>Vashim</td>\n      <td>Risod</td>\n    </tr>\n    <tr>\n      <th>42186008</th>\n      <td>PaddyDhanCommon</td>\n      <td>Uttar Pradesh</td>\n      <td>Bahraich</td>\n      <td>Naanpara</td>\n    </tr>\n    <tr>\n      <th>...</th>\n      <td>...</td>\n      <td>...</td>\n      <td>...</td>\n      <td>...</td>\n    </tr>\n    <tr>\n      <th>42898193</th>\n      <td>PaddyDhanCommon</td>\n      <td>West Bengal</td>\n      <td>Bankura</td>\n      <td>Indus</td>\n    </tr>\n    <tr>\n      <th>28882963</th>\n      <td>Soyabean</td>\n      <td>Maharashtra</td>\n      <td>Nandurbar</td>\n      <td>Shahada</td>\n    </tr>\n    <tr>\n      <th>33169044</th>\n      <td>Cotton</td>\n      <td>Telangana</td>\n      <td>Adilabad</td>\n      <td>Indravelly(Utnoor)</td>\n    </tr>\n    <tr>\n      <th>14487055</th>\n      <td>Coconut</td>\n      <td>Kerala</td>\n      <td>Idukki</td>\n      <td>Thodupuzha</td>\n    </tr>\n    <tr>\n      <th>41990365</th>\n      <td>PaddyDhanCommon</td>\n      <td>Chattisgarh</td>\n      <td>Janjgir</td>\n      <td>Kotmi</td>\n    </tr>\n  </tbody>\n</table>\n<p>1017336 rows × 4 columns</p>\n</div>"
          },
          "metadata": {}
        }
      ],
      "execution_count": 25,
      "metadata": {
        "jupyter": {
          "source_hidden": false,
          "outputs_hidden": false
        },
        "nteract": {
          "transient": {
            "deleting": false
          }
        },
        "gather": {
          "logged": 1708201754178
        }
      }
    },
    {
      "cell_type": "code",
      "source": [
        "y_train"
      ],
      "outputs": [
        {
          "output_type": "execute_result",
          "execution_count": 26,
          "data": {
            "text/plain": "          Modal Price (Rs/Quintal)\n40424080                    1300.0\n42191940                    2150.0\n41770340                    1199.0\n42162327                    1450.0\n41769945                    1345.0\n...                            ...\n39788555                    1450.0\n39818291                     650.0\n39783928                     710.0\n32842585                    3700.0\n42407747                    1339.0\n\n[4069343 rows x 1 columns]",
            "text/html": "<div>\n<style scoped>\n    .dataframe tbody tr th:only-of-type {\n        vertical-align: middle;\n    }\n\n    .dataframe tbody tr th {\n        vertical-align: top;\n    }\n\n    .dataframe thead th {\n        text-align: right;\n    }\n</style>\n<table border=\"1\" class=\"dataframe\">\n  <thead>\n    <tr style=\"text-align: right;\">\n      <th></th>\n      <th>Modal Price (Rs/Quintal)</th>\n    </tr>\n  </thead>\n  <tbody>\n    <tr>\n      <th>40424080</th>\n      <td>1300.0</td>\n    </tr>\n    <tr>\n      <th>42191940</th>\n      <td>2150.0</td>\n    </tr>\n    <tr>\n      <th>41770340</th>\n      <td>1199.0</td>\n    </tr>\n    <tr>\n      <th>42162327</th>\n      <td>1450.0</td>\n    </tr>\n    <tr>\n      <th>41769945</th>\n      <td>1345.0</td>\n    </tr>\n    <tr>\n      <th>...</th>\n      <td>...</td>\n    </tr>\n    <tr>\n      <th>39788555</th>\n      <td>1450.0</td>\n    </tr>\n    <tr>\n      <th>39818291</th>\n      <td>650.0</td>\n    </tr>\n    <tr>\n      <th>39783928</th>\n      <td>710.0</td>\n    </tr>\n    <tr>\n      <th>32842585</th>\n      <td>3700.0</td>\n    </tr>\n    <tr>\n      <th>42407747</th>\n      <td>1339.0</td>\n    </tr>\n  </tbody>\n</table>\n<p>4069343 rows × 1 columns</p>\n</div>"
          },
          "metadata": {}
        }
      ],
      "execution_count": 26,
      "metadata": {
        "jupyter": {
          "source_hidden": false,
          "outputs_hidden": false
        },
        "nteract": {
          "transient": {
            "deleting": false
          }
        },
        "gather": {
          "logged": 1708201759266
        }
      }
    },
    {
      "cell_type": "code",
      "source": [
        "y_test"
      ],
      "outputs": [
        {
          "output_type": "execute_result",
          "execution_count": 27,
          "data": {
            "text/plain": "          Modal Price (Rs/Quintal)\n41187030                     660.0\n26843353                    2200.0\n40605543                    1888.0\n26871808                    6800.0\n42186008                       0.0\n...                            ...\n42898193                    1170.0\n28882963                    6281.0\n33169044                    5400.0\n14487055                    3700.0\n41990365                    1504.0\n\n[1017336 rows x 1 columns]",
            "text/html": "<div>\n<style scoped>\n    .dataframe tbody tr th:only-of-type {\n        vertical-align: middle;\n    }\n\n    .dataframe tbody tr th {\n        vertical-align: top;\n    }\n\n    .dataframe thead th {\n        text-align: right;\n    }\n</style>\n<table border=\"1\" class=\"dataframe\">\n  <thead>\n    <tr style=\"text-align: right;\">\n      <th></th>\n      <th>Modal Price (Rs/Quintal)</th>\n    </tr>\n  </thead>\n  <tbody>\n    <tr>\n      <th>41187030</th>\n      <td>660.0</td>\n    </tr>\n    <tr>\n      <th>26843353</th>\n      <td>2200.0</td>\n    </tr>\n    <tr>\n      <th>40605543</th>\n      <td>1888.0</td>\n    </tr>\n    <tr>\n      <th>26871808</th>\n      <td>6800.0</td>\n    </tr>\n    <tr>\n      <th>42186008</th>\n      <td>0.0</td>\n    </tr>\n    <tr>\n      <th>...</th>\n      <td>...</td>\n    </tr>\n    <tr>\n      <th>42898193</th>\n      <td>1170.0</td>\n    </tr>\n    <tr>\n      <th>28882963</th>\n      <td>6281.0</td>\n    </tr>\n    <tr>\n      <th>33169044</th>\n      <td>5400.0</td>\n    </tr>\n    <tr>\n      <th>14487055</th>\n      <td>3700.0</td>\n    </tr>\n    <tr>\n      <th>41990365</th>\n      <td>1504.0</td>\n    </tr>\n  </tbody>\n</table>\n<p>1017336 rows × 1 columns</p>\n</div>"
          },
          "metadata": {}
        }
      ],
      "execution_count": 27,
      "metadata": {
        "jupyter": {
          "source_hidden": false,
          "outputs_hidden": false
        },
        "nteract": {
          "transient": {
            "deleting": false
          }
        },
        "gather": {
          "logged": 1708201771914
        }
      }
    },
    {
      "cell_type": "code",
      "source": [
        "print(df2['Commodity'].value_counts())"
      ],
      "outputs": [
        {
          "output_type": "stream",
          "name": "stdout",
          "text": "Commodity\nPaddyDhanCommon          2876206\nSoyabean                  990164\nCotton                    791110\nCoconut                   243705\nPaddyDhanBasmati           57355\nTenderCoconut              42581\nWood                       38462\nTobacco                    13018\nHen                         9685\nCock                        7289\nRoseLoose                   5394\nCottonSeed                  2270\nEgg                         2115\nChrysanthemumLoose          1383\nRoseLocal                    842\nDailaChandni                 722\nCarnation                    671\nRaibel                       611\nLilly                        556\nTubeRoseLoose                536\nGladiolusCutFlower           520\nJaffri                       447\nMarget                       407\nTubeFlower                   363\nSugarcane                    127\nBroomstickFlowerBroom         59\nTubeRoseSingle                42\nMyrobolanHarad                34\nBamboo                         4\nSkinAndHide                    1\nName: count, dtype: int64\n"
        }
      ],
      "execution_count": 31,
      "metadata": {
        "jupyter": {
          "source_hidden": false,
          "outputs_hidden": false
        },
        "nteract": {
          "transient": {
            "deleting": false
          }
        },
        "gather": {
          "logged": 1708202070010
        }
      }
    },
    {
      "cell_type": "code",
      "source": [
        "from sklearn.preprocessing import OneHotEncoder"
      ],
      "outputs": [],
      "execution_count": 32,
      "metadata": {
        "jupyter": {
          "source_hidden": false,
          "outputs_hidden": false
        },
        "nteract": {
          "transient": {
            "deleting": false
          }
        },
        "gather": {
          "logged": 1708202236826
        }
      }
    },
    {
      "cell_type": "code",
      "source": [
        "ohe = OneHotEncoder()"
      ],
      "outputs": [],
      "execution_count": 33,
      "metadata": {
        "jupyter": {
          "source_hidden": false,
          "outputs_hidden": false
        },
        "nteract": {
          "transient": {
            "deleting": false
          }
        },
        "gather": {
          "logged": 1708202251655
        }
      }
    },
    {
      "cell_type": "code",
      "source": [
        "x_train_new = ohe.fit_transform(x_train).toarray()"
      ],
      "outputs": [],
      "execution_count": 35,
      "metadata": {
        "jupyter": {
          "source_hidden": false,
          "outputs_hidden": false
        },
        "nteract": {
          "transient": {
            "deleting": false
          }
        },
        "gather": {
          "logged": 1708202418027
        }
      }
    },
    {
      "cell_type": "code",
      "source": [
        "x_train_new"
      ],
      "outputs": [
        {
          "output_type": "execute_result",
          "execution_count": 38,
          "data": {
            "text/plain": "array([[0., 0., 0., ..., 0., 0., 0.],\n       [0., 0., 0., ..., 0., 0., 0.],\n       [0., 0., 0., ..., 0., 0., 0.],\n       ...,\n       [0., 0., 0., ..., 0., 0., 0.],\n       [0., 0., 0., ..., 0., 0., 0.],\n       [0., 0., 0., ..., 0., 0., 0.]])"
          },
          "metadata": {}
        }
      ],
      "execution_count": 38,
      "metadata": {
        "jupyter": {
          "source_hidden": false,
          "outputs_hidden": false
        },
        "nteract": {
          "transient": {
            "deleting": false
          }
        },
        "gather": {
          "logged": 1708202581648
        }
      }
    },
    {
      "cell_type": "code",
      "source": [
        "x_test_new = ohe.fit_transform(x_test).toarray()"
      ],
      "outputs": [],
      "execution_count": 37,
      "metadata": {
        "jupyter": {
          "source_hidden": false,
          "outputs_hidden": false
        },
        "nteract": {
          "transient": {
            "deleting": false
          }
        },
        "gather": {
          "logged": 1708202578733
        }
      }
    },
    {
      "cell_type": "code",
      "source": [
        "x_test_new"
      ],
      "outputs": [
        {
          "output_type": "execute_result",
          "execution_count": 41,
          "data": {
            "text/plain": "array([0., 0., 0., ..., 0., 0., 0.])"
          },
          "metadata": {}
        }
      ],
      "execution_count": 41,
      "metadata": {
        "jupyter": {
          "source_hidden": false,
          "outputs_hidden": false
        },
        "nteract": {
          "transient": {
            "deleting": false
          }
        },
        "gather": {
          "logged": 1708202615035
        }
      }
    },
    {
      "cell_type": "code",
      "source": [
        "pd.get_dummies(x_test_new)"
      ],
      "outputs": [
        {
          "output_type": "error",
          "ename": "NameError",
          "evalue": "name 'pd' is not defined",
          "traceback": [
            "\u001b[0;31m---------------------------------------------------------------------------\u001b[0m",
            "\u001b[0;31mNameError\u001b[0m                                 Traceback (most recent call last)",
            "Cell \u001b[0;32mIn[1], line 1\u001b[0m\n\u001b[0;32m----> 1\u001b[0m \u001b[43mpd\u001b[49m\u001b[38;5;241m.\u001b[39mget_dummies(x_test_new)\n",
            "\u001b[0;31mNameError\u001b[0m: name 'pd' is not defined"
          ]
        }
      ],
      "execution_count": 1,
      "metadata": {
        "jupyter": {
          "source_hidden": false,
          "outputs_hidden": false
        },
        "nteract": {
          "transient": {
            "deleting": false
          }
        },
        "gather": {
          "logged": 1708203635889
        }
      }
    }
  ],
  "metadata": {
    "kernelspec": {
      "name": "python310-sdkv2",
      "language": "python",
      "display_name": "Python 3.10 - SDK v2"
    },
    "language_info": {
      "name": "python",
      "version": "3.10.11",
      "mimetype": "text/x-python",
      "codemirror_mode": {
        "name": "ipython",
        "version": 3
      },
      "pygments_lexer": "ipython3",
      "nbconvert_exporter": "python",
      "file_extension": ".py"
    },
    "microsoft": {
      "ms_spell_check": {
        "ms_spell_check_language": "en"
      },
      "host": {
        "AzureML": {
          "notebookHasBeenCompleted": true
        }
      }
    },
    "kernel_info": {
      "name": "python310-sdkv2"
    },
    "nteract": {
      "version": "nteract-front-end@1.0.0"
    }
  },
  "nbformat": 4,
  "nbformat_minor": 2
}